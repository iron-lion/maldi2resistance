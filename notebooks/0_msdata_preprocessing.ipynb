{
 "cells": [
  {
   "cell_type": "markdown",
   "id": "3d89aed94233e3ff",
   "metadata": {},
   "source": [
    "# Fully connected feedforward network implementing a loss mask"
   ]
  },
  {
   "cell_type": "code",
   "execution_count": null,
   "id": "6c4b645f-6b5e-428e-855c-64b7e33ff874",
   "metadata": {},
   "outputs": [],
   "source": [
    "import sys\n",
    "sys.path.insert(0,'../')\n",
    "import torch\n",
    "import torchmetrics.classification\n",
    "from torch import cuda\n",
    "from maldi2resistance.model.MultilabelResMLP import MultilabelResMLP\n",
    "from maldi2resistance.data.ms_data import MS_Data\n",
    "assert cuda.is_available()\n",
    "assert cuda.device_count() > 0\n",
    "print(cuda.get_device_name(cuda.current_device()))"
   ]
  },
  {
   "cell_type": "markdown",
   "id": "23b5a248-98cc-42cc-99b2-49bdd5ca1f35",
   "metadata": {},
   "source": [
    "### Load the Dataset"
   ]
  },
  {
   "cell_type": "code",
   "execution_count": 4,
   "id": "7a00707ac6b2975",
   "metadata": {},
   "outputs": [
    {
     "data": {
      "application/vnd.jupyter.widget-view+json": {
       "model_id": "",
       "version_major": 2,
       "version_minor": 0
      },
      "text/plain": [
       "0it [00:00, ?it/s]"
      ]
     },
     "metadata": {},
     "output_type": "display_data"
    }
   ],
   "source": [
    "PATH_TO_DATA = \"\"\n",
    "\n",
    "ms_data = MS_Data(\n",
    "    root_dir=PATH_TO_DATA,\n",
    "    sites=[\"MS-UMG\"], # DRIAMS-A, DRIAMS-B, DRIAMS-C, DRIAMS-D, \n",
    "    years=[2020,2021], # 2015,2016,2017,2018\n",
    "    bin_size=1, # 1, 3 ...\n",
    "    cutoff_value=1, \n",
    "    cutoff_value_positive=1,\n",
    "    cutoff_value_negative=1,\n",
    ")\n",
    "\n",
    "ms_data.preprocess()\n",
    "ms_data.label_stats.to_csv('dataset_summary_stat.csv')"
   ]
  },
  {
   "cell_type": "code",
   "execution_count": 6,
   "id": "6c18fc7c-f344-4d49-b1b8-af47c3179ef6",
   "metadata": {},
   "outputs": [
    {
     "name": "stdout",
     "output_type": "stream",
     "text": [
      "binSize@1\n"
     ]
    }
   ],
   "source": [
    "!ls /.../maldi2resistance/preprocessed"
   ]
  }
 ],
 "metadata": {
  "kernelspec": {
   "display_name": "Python 3 (ipykernel)",
   "language": "python",
   "name": "python3"
  },
  "language_info": {
   "codemirror_mode": {
    "name": "ipython",
    "version": 3
   },
   "file_extension": ".py",
   "mimetype": "text/x-python",
   "name": "python",
   "nbconvert_exporter": "python",
   "pygments_lexer": "ipython3",
   "version": "3.11.8"
  },
  "widgets": {
   "application/vnd.jupyter.widget-state+json": {
    "state": {},
    "version_major": 2,
    "version_minor": 0
   }
  }
 },
 "nbformat": 4,
 "nbformat_minor": 5
}
