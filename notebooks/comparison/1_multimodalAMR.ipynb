{
 "cells": [
  {
   "cell_type": "markdown",
   "id": "6c06d118-428e-4022-9284-d68fe0eeb134",
   "metadata": {},
   "source": [
    "# MultimodalAMR"
   ]
  },
  {
   "cell_type": "code",
   "execution_count": 1,
   "id": "6c4b645f-6b5e-428e-855c-64b7e33ff874",
   "metadata": {},
   "outputs": [
    {
     "name": "stdout",
     "output_type": "stream",
     "text": [
      "NVIDIA RTX 2000 Ada Generation Laptop GPU\n"
     ]
    }
   ],
   "source": [
    "import copy\n",
    "import numpy as np\n",
    "import pandas as pd\n",
    "import sys\n",
    "sys.path.insert(0,'../../')\n",
    "import torch\n",
    "from torch import nn\n",
    "import torchmetrics.classification\n",
    "from torch import cuda\n",
    "from torch.utils.data import DataLoader\n",
    "from multimodal_amr.models.modules import ResMLP\n",
    "from maldi2resistance.data.ms_data import MS_Data\n",
    "assert cuda.is_available()\n",
    "assert cuda.device_count() > 0\n",
    "print(cuda.get_device_name(cuda.current_device()))\n",
    "\n",
    "DEVICE = torch.device(\"cuda\")\n",
    "SEED = 42\n",
    "torch.manual_seed(SEED)\n",
    "\n",
    "save_folder = \"multimodalAMR_5cv-DRIAMS-A\""
   ]
  },
  {
   "cell_type": "markdown",
   "id": "23b5a248-98cc-42cc-99b2-49bdd5ca1f35",
   "metadata": {},
   "source": [
    "### Load the Dataset"
   ]
  },
  {
   "cell_type": "markdown",
   "id": "4798454f-bf8a-41fa-8769-8d63c8e28ae6",
   "metadata": {},
   "source": [
    "UMG_antibiotics = ['Ampicillin',\n",
    " 'Cefotaxim',\n",
    " 'Ceftazidime',\n",
    " 'Ceftriaxone',\n",
    " 'Ciprofloxacin',\n",
    " 'Clindamycin',\n",
    " 'Cotrimoxazole',\n",
    " 'Erythromycin',\n",
    " 'Fosfomycin',\n",
    " 'Gentamicin',\n",
    " 'Imipenem',\n",
    " 'Levofloxacin',\n",
    " 'Meropenem',\n",
    " 'Moxifloxacin',\n",
    " 'Oxacillin',\n",
    " 'PenicillinG',\n",
    " 'Piperacillin-Tazobactam',\n",
    " 'Tetracycline',\n",
    " 'Vancomycin']"
   ]
  },
  {
   "cell_type": "code",
   "execution_count": 2,
   "id": "7a00707ac6b2975",
   "metadata": {},
   "outputs": [
    {
     "data": {
      "application/vnd.jupyter.widget-view+json": {
       "model_id": "",
       "version_major": 2,
       "version_minor": 0
      },
      "text/plain": [
       "Loading Spectra into Memory:   0%|          | 0/38331 [00:00<?, ?it/s]"
      ]
     },
     "metadata": {},
     "output_type": "display_data"
    },
    {
     "data": {
      "text/html": [
       "\n",
       "        <table>\n",
       "            <thead>\n",
       "                <tr>\n",
       "                    <th>Antibiotic:</th>\n",
       "                    <th> Amikacin </th><th> Amoxicillin-Clavulanic acid </th><th> Ampicillin-Amoxicillin </th><th> Cefazolin </th><th> Cefepime </th><th> Cefpodoxime </th><th> Ceftazidime </th><th> Ceftriaxone </th><th> Cefuroxime </th><th> Ciprofloxacin </th><th> Clindamycin </th><th> Colistin </th><th> Cotrimoxazole </th><th> Ertapenem </th><th> Erythromycin </th><th> Fosfomycin-Trometamol </th><th> Fusidic acid </th><th> Gentamicin </th><th> Imipenem </th><th> Levofloxacin </th><th> Meropenem </th><th> Nitrofurantoin </th><th> Norfloxacin </th><th> Oxacillin </th><th> Penicillin </th><th> Piperacillin-Tazobactam </th><th> Rifampicin </th><th> Teicoplanin </th><th> Tetracycline </th><th> Tobramycin </th>\n",
       "                </tr>\n",
       "            </thead>\n",
       "            <tbody>\n",
       "                <tr>\n",
       "                    <td>Number resistant:</td>\n",
       "                    <td> 975 </td><td> 9920 </td><td> 21966 </td><td> 4223 </td><td> 6518 </td><td> 2338 </td><td> 2455 </td><td> 7299 </td><td> 4475 </td><td> 7462 </td><td> 3637 </td><td> 2850 </td><td> 4872 </td><td> 288 </td><td> 4529 </td><td> 1326 </td><td> 3413 </td><td> 2303 </td><td> 6872 </td><td> 3973 </td><td> 5145 </td><td> 412 </td><td> 871 </td><td> 4641 </td><td> 9881 </td><td> 6546 </td><td> 542 </td><td> 226 </td><td> 3082 </td><td> 1695 </td>\n",
       "                </tr>\n",
       "                <tr>\n",
       "                    <td>Number susceptible:</td>\n",
       "                    <td> 16247 </td><td> 15308 </td><td> 4905 </td><td> 5813 </td><td> 21958 </td><td> 4382 </td><td> 14937 </td><td> 19246 </td><td> 6103 </td><td> 23081 </td><td> 7975 </td><td> 15483 </td><td> 21768 </td><td> 14465 </td><td> 6550 </td><td> 4803 </td><td> 7224 </td><td> 8276 </td><td> 22519 </td><td> 16811 </td><td> 24386 </td><td> 1696 </td><td> 5234 </td><td> 6344 </td><td> 3525 </td><td> 21852 </td><td> 10424 </td><td> 7465 </td><td> 6836 </td><td> 16495 </td>\n",
       "                </tr>\n",
       "                <tr>\n",
       "                    <td>Number data points:</td>\n",
       "                    <td> 17222 </td><td> 25228 </td><td> 26871 </td><td> 10036 </td><td> 28476 </td><td> 6720 </td><td> 17392 </td><td> 26545 </td><td> 10578 </td><td> 30543 </td><td> 11612 </td><td> 18333 </td><td> 26640 </td><td> 14753 </td><td> 11079 </td><td> 6129 </td><td> 10637 </td><td> 10579 </td><td> 29391 </td><td> 20784 </td><td> 29531 </td><td> 2108 </td><td> 6105 </td><td> 10985 </td><td> 13406 </td><td> 28398 </td><td> 10966 </td><td> 7691 </td><td> 9918 </td><td> 18190 </td>\n",
       "                </tr>\n",
       "            </tbody>\n",
       "        </table>\n",
       "                "
      ],
      "text/plain": [
       "<maldi2resistance.data.ms_data.MS_Data at 0x79ce4b471350>"
      ]
     },
     "execution_count": 2,
     "metadata": {},
     "output_type": "execute_result"
    }
   ],
   "source": [
    "ms_data = MS_Data(\n",
    "    root_dir=\"/home/youngjunpark/Data/MS_data\",\n",
    "    sites=[\"DRIAMS-A\"],\n",
    "    years=[2015,2016,2017,2018],\n",
    "    bin_size=1,\n",
    "    #antibiotics=UMG_antibiotics,\n",
    ")\n",
    "ms_data.loading_type = \"memory\"\n",
    "ms_data"
   ]
  },
  {
   "cell_type": "code",
   "execution_count": 3,
   "id": "2076d3e6-93f3-45bb-b8f6-3a94173048ad",
   "metadata": {},
   "outputs": [
    {
     "data": {
      "text/plain": [
       "30"
      ]
     },
     "execution_count": 3,
     "metadata": {},
     "output_type": "execute_result"
    }
   ],
   "source": [
    "len(ms_data.label_stats.columns)"
   ]
  },
  {
   "cell_type": "code",
   "execution_count": 4,
   "id": "60665b7b-1494-4270-9a19-2bcca91dbb17",
   "metadata": {},
   "outputs": [],
   "source": [
    "class Residual_AMR_Classifier(nn.Module):\n",
    "    \"\"\"Overall model definition.\"\"\"\n",
    "\n",
    "    def __init__(self, config, n_input_spectrum, n_input_drug):\n",
    "        super().__init__()\n",
    "        self.config = config\n",
    "\n",
    "        # Sample embedding\n",
    "        if config[\"species_embedding_dim\"]==0 and config[\"conv_out_size\"]==config[\"sample_embedding_dim\"]:\n",
    "            self.sample_emb = nn.Identity()\n",
    "        elif config[\"species_embedding_dim\"]==0:\n",
    "            self.sample_emb = nn.Linear(\n",
    "                config[\"conv_out_size\"],\n",
    "                config[\"sample_embedding_dim\"],\n",
    "            )\n",
    "        else:\n",
    "            self.sample_emb = nn.Linear(\n",
    "                config[\"conv_out_size\"] + config[\"species_embedding_dim\"],\n",
    "                config[\"sample_embedding_dim\"],\n",
    "            )\n",
    "\n",
    "        self.spectrum_emb = nn.Linear(n_input_spectrum ,config[\"conv_out_size\"])\n",
    "\n",
    "        # Drugs layers\n",
    "        # if config[\"drug_emb_type\"] == \"vae_embedding\" or config[\"drug_emb_type\"] == \"gnn_embedding\":\n",
    "        #     self.drug_emb = nn.Identity()\n",
    "        # elif config[\"drug_emb_type\"] == \"fingerprint\":\n",
    "        self.drug_emb = nn.Linear(\n",
    "            n_input_drug, config[\"drug_embedding_dim\"]\n",
    "        )\n",
    "\n",
    "        # Output network\n",
    "        self.net = ResMLP(\n",
    "            config[\"n_hidden_layers\"],\n",
    "            config[\"sample_embedding_dim\"] + config[\"drug_embedding_dim\"],\n",
    "            1,\n",
    "            p_dropout=0.2,\n",
    "        )\n",
    "\n",
    "    def forward(self, spectrum, fingerprint):\n",
    "        spectrum_embedding = self.spectrum_emb(spectrum)\n",
    "        dr_emb = self.drug_emb(fingerprint)\n",
    "\n",
    "        return self.net(torch.cat([dr_emb, spectrum_embedding], dim=1))\n",
    "\n",
    "\n",
    "\n",
    "\n",
    "conf = {\n",
    "    \"conv_out_size\": 512,\n",
    "    \"species_embedding_dim\":0,\n",
    "    \"sample_embedding_dim\":512,\n",
    "    \"drug_embedding_dim\":512,\n",
    "    \"n_hidden_layers\": 5,\n",
    "}"
   ]
  },
  {
   "cell_type": "code",
   "execution_count": 5,
   "id": "c53d2d1b-501e-479f-ae62-12a5b76449a9",
   "metadata": {},
   "outputs": [],
   "source": [
    "model = Residual_AMR_Classifier(config= conf,n_input_spectrum = ms_data.n_bins, n_input_drug= 1024)\n",
    "model = model.to(DEVICE)\n",
    "\n",
    "model_state = copy.deepcopy(model.state_dict()) "
   ]
  },
  {
   "cell_type": "code",
   "execution_count": 6,
   "id": "db166a21-bfa7-4865-8b54-f1f1cf239027",
   "metadata": {},
   "outputs": [
    {
     "name": "stdout",
     "output_type": "stream",
     "text": [
      "======================================================================\n",
      "Layer (type:depth-idx)                        Param #\n",
      "======================================================================\n",
      "Residual_AMR_Classifier                       --\n",
      "├─Identity: 1-1                               --\n",
      "├─Linear: 1-2                                 9,216,512\n",
      "├─Linear: 1-3                                 524,800\n",
      "├─ResMLP: 1-4                                 --\n",
      "│    └─Sequential: 2-1                        --\n",
      "│    │    └─ResBlock: 3-1                     1,051,648\n",
      "│    │    └─ResBlock: 3-2                     1,051,648\n",
      "│    │    └─ResBlock: 3-3                     1,051,648\n",
      "│    │    └─ResBlock: 3-4                     1,051,648\n",
      "│    │    └─ResBlock: 3-5                     1,051,648\n",
      "│    │    └─Linear: 3-6                       1,025\n",
      "======================================================================\n",
      "Total params: 15,000,577\n",
      "Trainable params: 15,000,577\n",
      "Non-trainable params: 0\n",
      "======================================================================\n"
     ]
    }
   ],
   "source": [
    "from torchinfo import summary\n",
    "\n",
    "print(summary(model))"
   ]
  },
  {
   "cell_type": "code",
   "execution_count": 7,
   "id": "a0664c35-aeed-4ae3-bb00-04b83d1bdb00",
   "metadata": {},
   "outputs": [
    {
     "name": "stdout",
     "output_type": "stream",
     "text": [
      "Start training ...\n"
     ]
    },
    {
     "data": {
      "application/vnd.jupyter.widget-view+json": {
       "model_id": "",
       "version_major": 2,
       "version_minor": 0
      },
      "text/plain": [
       "Create single label Dataset:   0%|          | 0/30664 [00:00<?, ?it/s]"
      ]
     },
     "metadata": {},
     "output_type": "display_data"
    },
    {
     "name": "stderr",
     "output_type": "stream",
     "text": [
      "[11:40:25] DEPRECATION WARNING: please use MorganGenerator\n",
      "[11:40:25] DEPRECATION WARNING: please use MorganGenerator\n",
      "[11:40:25] DEPRECATION WARNING: please use MorganGenerator\n",
      "[11:40:25] DEPRECATION WARNING: please use MorganGenerator\n",
      "[11:40:25] DEPRECATION WARNING: please use MorganGenerator\n",
      "[11:40:25] DEPRECATION WARNING: please use MorganGenerator\n",
      "[11:40:25] DEPRECATION WARNING: please use MorganGenerator\n",
      "[11:40:25] DEPRECATION WARNING: please use MorganGenerator\n",
      "[11:40:25] DEPRECATION WARNING: please use MorganGenerator\n",
      "[11:40:25] DEPRECATION WARNING: please use MorganGenerator\n",
      "[11:40:25] DEPRECATION WARNING: please use MorganGenerator\n",
      "[11:40:25] DEPRECATION WARNING: please use MorganGenerator\n",
      "[11:40:25] DEPRECATION WARNING: please use MorganGenerator\n",
      "[11:40:25] DEPRECATION WARNING: please use MorganGenerator\n",
      "[11:40:25] DEPRECATION WARNING: please use MorganGenerator\n",
      "[11:40:25] DEPRECATION WARNING: please use MorganGenerator\n",
      "[11:40:25] DEPRECATION WARNING: please use MorganGenerator\n",
      "[11:40:25] DEPRECATION WARNING: please use MorganGenerator\n",
      "[11:40:25] DEPRECATION WARNING: please use MorganGenerator\n",
      "[11:40:25] DEPRECATION WARNING: please use MorganGenerator\n",
      "[11:40:25] DEPRECATION WARNING: please use MorganGenerator\n",
      "[11:40:25] DEPRECATION WARNING: please use MorganGenerator\n",
      "[11:40:25] DEPRECATION WARNING: please use MorganGenerator\n",
      "[11:40:25] DEPRECATION WARNING: please use MorganGenerator\n",
      "[11:40:25] DEPRECATION WARNING: please use MorganGenerator\n",
      "[11:40:25] DEPRECATION WARNING: please use MorganGenerator\n",
      "[11:40:25] DEPRECATION WARNING: please use MorganGenerator\n",
      "[11:40:25] DEPRECATION WARNING: please use MorganGenerator\n",
      "[11:40:25] DEPRECATION WARNING: please use MorganGenerator\n",
      "[11:40:25] DEPRECATION WARNING: please use MorganGenerator\n"
     ]
    },
    {
     "data": {
      "application/vnd.jupyter.widget-view+json": {
       "model_id": "",
       "version_major": 2,
       "version_minor": 0
      },
      "text/plain": [
       "Create single label Dataset:   0%|          | 0/7667 [00:00<?, ?it/s]"
      ]
     },
     "metadata": {},
     "output_type": "display_data"
    },
    {
     "name": "stderr",
     "output_type": "stream",
     "text": [
      "[11:40:44] DEPRECATION WARNING: please use MorganGenerator\n",
      "[11:40:44] DEPRECATION WARNING: please use MorganGenerator\n",
      "[11:40:44] DEPRECATION WARNING: please use MorganGenerator\n",
      "[11:40:44] DEPRECATION WARNING: please use MorganGenerator\n",
      "[11:40:44] DEPRECATION WARNING: please use MorganGenerator\n",
      "[11:40:44] DEPRECATION WARNING: please use MorganGenerator\n",
      "[11:40:44] DEPRECATION WARNING: please use MorganGenerator\n",
      "[11:40:44] DEPRECATION WARNING: please use MorganGenerator\n",
      "[11:40:44] DEPRECATION WARNING: please use MorganGenerator\n",
      "[11:40:44] DEPRECATION WARNING: please use MorganGenerator\n",
      "[11:40:44] DEPRECATION WARNING: please use MorganGenerator\n",
      "[11:40:44] DEPRECATION WARNING: please use MorganGenerator\n",
      "[11:40:44] DEPRECATION WARNING: please use MorganGenerator\n",
      "[11:40:44] DEPRECATION WARNING: please use MorganGenerator\n",
      "[11:40:44] DEPRECATION WARNING: please use MorganGenerator\n",
      "[11:40:44] DEPRECATION WARNING: please use MorganGenerator\n",
      "[11:40:44] DEPRECATION WARNING: please use MorganGenerator\n",
      "[11:40:44] DEPRECATION WARNING: please use MorganGenerator\n",
      "[11:40:44] DEPRECATION WARNING: please use MorganGenerator\n",
      "[11:40:44] DEPRECATION WARNING: please use MorganGenerator\n",
      "[11:40:44] DEPRECATION WARNING: please use MorganGenerator\n",
      "[11:40:44] DEPRECATION WARNING: please use MorganGenerator\n",
      "[11:40:44] DEPRECATION WARNING: please use MorganGenerator\n",
      "[11:40:44] DEPRECATION WARNING: please use MorganGenerator\n",
      "[11:40:44] DEPRECATION WARNING: please use MorganGenerator\n",
      "[11:40:44] DEPRECATION WARNING: please use MorganGenerator\n",
      "[11:40:44] DEPRECATION WARNING: please use MorganGenerator\n",
      "[11:40:44] DEPRECATION WARNING: please use MorganGenerator\n",
      "[11:40:44] DEPRECATION WARNING: please use MorganGenerator\n",
      "[11:40:44] DEPRECATION WARNING: please use MorganGenerator\n"
     ]
    },
    {
     "data": {
      "application/vnd.jupyter.widget-view+json": {
       "model_id": "",
       "version_major": 2,
       "version_minor": 0
      },
      "text/plain": [
       "  0%|          | 0/30 [00:00<?, ?it/s]"
      ]
     },
     "metadata": {},
     "output_type": "display_data"
    },
    {
     "name": "stdout",
     "output_type": "stream",
     "text": [
      "\tAverage Loss: 0.005473 \tLearning rate: 0.001000\n",
      "\tAverage Loss: 0.004351 \tLearning rate: 0.001000\n",
      "\tAverage Loss: 0.003842 \tLearning rate: 0.001000\n",
      "\tAverage Loss: 0.003482 \tLearning rate: 0.001000\n",
      "\tAverage Loss: 0.003221 \tLearning rate: 0.001000\n",
      "\tAverage Loss: 0.003017 \tLearning rate: 0.001000\n",
      "\tAverage Loss: 0.002838 \tLearning rate: 0.001000\n",
      "\tAverage Loss: 0.002678 \tLearning rate: 0.001000\n",
      "\tAverage Loss: 0.002534 \tLearning rate: 0.001000\n",
      "\tAverage Loss: 0.002401 \tLearning rate: 0.000500\n",
      "\tAverage Loss: 0.002043 \tLearning rate: 0.000500\n",
      "\tAverage Loss: 0.001939 \tLearning rate: 0.000500\n",
      "\tAverage Loss: 0.001843 \tLearning rate: 0.000500\n",
      "\tAverage Loss: 0.001762 \tLearning rate: 0.000500\n",
      "\tAverage Loss: 0.001683 \tLearning rate: 0.000500\n",
      "\tAverage Loss: 0.001611 \tLearning rate: 0.000500\n",
      "\tAverage Loss: 0.001542 \tLearning rate: 0.000500\n",
      "\tAverage Loss: 0.001472 \tLearning rate: 0.000500\n",
      "\tAverage Loss: 0.001400 \tLearning rate: 0.000500\n",
      "\tAverage Loss: 0.001344 \tLearning rate: 0.000250\n",
      "\tAverage Loss: 0.001115 \tLearning rate: 0.000250\n",
      "\tAverage Loss: 0.001043 \tLearning rate: 0.000250\n",
      "\tAverage Loss: 0.001000 \tLearning rate: 0.000250\n",
      "\tAverage Loss: 0.000976 \tLearning rate: 0.000250\n",
      "\tAverage Loss: 0.000921 \tLearning rate: 0.000250\n",
      "\tAverage Loss: 0.000893 \tLearning rate: 0.000250\n",
      "\tAverage Loss: 0.000853 \tLearning rate: 0.000250\n",
      "\tAverage Loss: 0.000820 \tLearning rate: 0.000250\n",
      "\tAverage Loss: 0.000800 \tLearning rate: 0.000250\n",
      "\tAverage Loss: 0.000770 \tLearning rate: 0.000125\n",
      "Finished Fold 0\n"
     ]
    },
    {
     "data": {
      "application/vnd.jupyter.widget-view+json": {
       "model_id": "",
       "version_major": 2,
       "version_minor": 0
      },
      "text/plain": [
       "Create single label Dataset:   0%|          | 0/7667 [00:00<?, ?it/s]"
      ]
     },
     "metadata": {},
     "output_type": "display_data"
    },
    {
     "data": {
      "application/vnd.jupyter.widget-view+json": {
       "model_id": "",
       "version_major": 2,
       "version_minor": 0
      },
      "text/plain": [
       "Create single label Dataset:   0%|          | 0/30665 [00:00<?, ?it/s]"
      ]
     },
     "metadata": {},
     "output_type": "display_data"
    },
    {
     "name": "stderr",
     "output_type": "stream",
     "text": [
      "[12:10:39] DEPRECATION WARNING: please use MorganGenerator\n",
      "[12:10:39] DEPRECATION WARNING: please use MorganGenerator\n",
      "[12:10:39] DEPRECATION WARNING: please use MorganGenerator\n",
      "[12:10:39] DEPRECATION WARNING: please use MorganGenerator\n",
      "[12:10:39] DEPRECATION WARNING: please use MorganGenerator\n",
      "[12:10:39] DEPRECATION WARNING: please use MorganGenerator\n",
      "[12:10:39] DEPRECATION WARNING: please use MorganGenerator\n",
      "[12:10:39] DEPRECATION WARNING: please use MorganGenerator\n",
      "[12:10:39] DEPRECATION WARNING: please use MorganGenerator\n",
      "[12:10:39] DEPRECATION WARNING: please use MorganGenerator\n",
      "[12:10:39] DEPRECATION WARNING: please use MorganGenerator\n",
      "[12:10:39] DEPRECATION WARNING: please use MorganGenerator\n",
      "[12:10:39] DEPRECATION WARNING: please use MorganGenerator\n",
      "[12:10:39] DEPRECATION WARNING: please use MorganGenerator\n",
      "[12:10:39] DEPRECATION WARNING: please use MorganGenerator\n",
      "[12:10:39] DEPRECATION WARNING: please use MorganGenerator\n",
      "[12:10:39] DEPRECATION WARNING: please use MorganGenerator\n",
      "[12:10:39] DEPRECATION WARNING: please use MorganGenerator\n",
      "[12:10:39] DEPRECATION WARNING: please use MorganGenerator\n",
      "[12:10:39] DEPRECATION WARNING: please use MorganGenerator\n",
      "[12:10:39] DEPRECATION WARNING: please use MorganGenerator\n",
      "[12:10:39] DEPRECATION WARNING: please use MorganGenerator\n",
      "[12:10:39] DEPRECATION WARNING: please use MorganGenerator\n",
      "[12:10:39] DEPRECATION WARNING: please use MorganGenerator\n",
      "[12:10:39] DEPRECATION WARNING: please use MorganGenerator\n",
      "[12:10:39] DEPRECATION WARNING: please use MorganGenerator\n",
      "[12:10:39] DEPRECATION WARNING: please use MorganGenerator\n",
      "[12:10:39] DEPRECATION WARNING: please use MorganGenerator\n",
      "[12:10:39] DEPRECATION WARNING: please use MorganGenerator\n",
      "[12:10:39] DEPRECATION WARNING: please use MorganGenerator\n"
     ]
    },
    {
     "data": {
      "application/vnd.jupyter.widget-view+json": {
       "model_id": "",
       "version_major": 2,
       "version_minor": 0
      },
      "text/plain": [
       "Create single label Dataset:   0%|          | 0/7666 [00:00<?, ?it/s]"
      ]
     },
     "metadata": {},
     "output_type": "display_data"
    },
    {
     "name": "stderr",
     "output_type": "stream",
     "text": [
      "[12:11:00] DEPRECATION WARNING: please use MorganGenerator\n",
      "[12:11:00] DEPRECATION WARNING: please use MorganGenerator\n",
      "[12:11:00] DEPRECATION WARNING: please use MorganGenerator\n",
      "[12:11:00] DEPRECATION WARNING: please use MorganGenerator\n",
      "[12:11:00] DEPRECATION WARNING: please use MorganGenerator\n",
      "[12:11:00] DEPRECATION WARNING: please use MorganGenerator\n",
      "[12:11:00] DEPRECATION WARNING: please use MorganGenerator\n",
      "[12:11:00] DEPRECATION WARNING: please use MorganGenerator\n",
      "[12:11:00] DEPRECATION WARNING: please use MorganGenerator\n",
      "[12:11:00] DEPRECATION WARNING: please use MorganGenerator\n",
      "[12:11:00] DEPRECATION WARNING: please use MorganGenerator\n",
      "[12:11:00] DEPRECATION WARNING: please use MorganGenerator\n",
      "[12:11:00] DEPRECATION WARNING: please use MorganGenerator\n",
      "[12:11:00] DEPRECATION WARNING: please use MorganGenerator\n",
      "[12:11:00] DEPRECATION WARNING: please use MorganGenerator\n",
      "[12:11:00] DEPRECATION WARNING: please use MorganGenerator\n",
      "[12:11:00] DEPRECATION WARNING: please use MorganGenerator\n",
      "[12:11:00] DEPRECATION WARNING: please use MorganGenerator\n",
      "[12:11:00] DEPRECATION WARNING: please use MorganGenerator\n",
      "[12:11:00] DEPRECATION WARNING: please use MorganGenerator\n",
      "[12:11:00] DEPRECATION WARNING: please use MorganGenerator\n",
      "[12:11:00] DEPRECATION WARNING: please use MorganGenerator\n",
      "[12:11:00] DEPRECATION WARNING: please use MorganGenerator\n",
      "[12:11:00] DEPRECATION WARNING: please use MorganGenerator\n",
      "[12:11:00] DEPRECATION WARNING: please use MorganGenerator\n",
      "[12:11:00] DEPRECATION WARNING: please use MorganGenerator\n",
      "[12:11:00] DEPRECATION WARNING: please use MorganGenerator\n",
      "[12:11:00] DEPRECATION WARNING: please use MorganGenerator\n",
      "[12:11:00] DEPRECATION WARNING: please use MorganGenerator\n",
      "[12:11:00] DEPRECATION WARNING: please use MorganGenerator\n"
     ]
    },
    {
     "data": {
      "application/vnd.jupyter.widget-view+json": {
       "model_id": "",
       "version_major": 2,
       "version_minor": 0
      },
      "text/plain": [
       "  0%|          | 0/30 [00:00<?, ?it/s]"
      ]
     },
     "metadata": {},
     "output_type": "display_data"
    },
    {
     "name": "stdout",
     "output_type": "stream",
     "text": [
      "\tAverage Loss: 0.005504 \tLearning rate: 0.001000\n",
      "\tAverage Loss: 0.004379 \tLearning rate: 0.001000\n",
      "\tAverage Loss: 0.003869 \tLearning rate: 0.001000\n",
      "\tAverage Loss: 0.003503 \tLearning rate: 0.001000\n",
      "\tAverage Loss: 0.003242 \tLearning rate: 0.001000\n",
      "\tAverage Loss: 0.003033 \tLearning rate: 0.001000\n",
      "\tAverage Loss: 0.002868 \tLearning rate: 0.001000\n",
      "\tAverage Loss: 0.002713 \tLearning rate: 0.001000\n",
      "\tAverage Loss: 0.002573 \tLearning rate: 0.001000\n",
      "\tAverage Loss: 0.002442 \tLearning rate: 0.000500\n",
      "\tAverage Loss: 0.002087 \tLearning rate: 0.000500\n",
      "\tAverage Loss: 0.001970 \tLearning rate: 0.000500\n",
      "\tAverage Loss: 0.001890 \tLearning rate: 0.000500\n",
      "\tAverage Loss: 0.001814 \tLearning rate: 0.000500\n",
      "\tAverage Loss: 0.001739 \tLearning rate: 0.000500\n",
      "\tAverage Loss: 0.001665 \tLearning rate: 0.000500\n",
      "\tAverage Loss: 0.001607 \tLearning rate: 0.000500\n",
      "\tAverage Loss: 0.001539 \tLearning rate: 0.000500\n",
      "\tAverage Loss: 0.001485 \tLearning rate: 0.000500\n",
      "\tAverage Loss: 0.001421 \tLearning rate: 0.000250\n",
      "\tAverage Loss: 0.001190 \tLearning rate: 0.000250\n",
      "\tAverage Loss: 0.001134 \tLearning rate: 0.000250\n",
      "\tAverage Loss: 0.001089 \tLearning rate: 0.000250\n",
      "\tAverage Loss: 0.001047 \tLearning rate: 0.000250\n",
      "\tAverage Loss: 0.001006 \tLearning rate: 0.000250\n",
      "\tAverage Loss: 0.000981 \tLearning rate: 0.000250\n",
      "\tAverage Loss: 0.000951 \tLearning rate: 0.000250\n",
      "\tAverage Loss: 0.000913 \tLearning rate: 0.000250\n",
      "\tAverage Loss: 0.000875 \tLearning rate: 0.000250\n",
      "\tAverage Loss: 0.000853 \tLearning rate: 0.000125\n",
      "Finished Fold 1\n"
     ]
    },
    {
     "data": {
      "application/vnd.jupyter.widget-view+json": {
       "model_id": "",
       "version_major": 2,
       "version_minor": 0
      },
      "text/plain": [
       "Create single label Dataset:   0%|          | 0/7666 [00:00<?, ?it/s]"
      ]
     },
     "metadata": {},
     "output_type": "display_data"
    },
    {
     "data": {
      "application/vnd.jupyter.widget-view+json": {
       "model_id": "",
       "version_major": 2,
       "version_minor": 0
      },
      "text/plain": [
       "Create single label Dataset:   0%|          | 0/30665 [00:00<?, ?it/s]"
      ]
     },
     "metadata": {},
     "output_type": "display_data"
    },
    {
     "name": "stderr",
     "output_type": "stream",
     "text": [
      "[12:40:53] DEPRECATION WARNING: please use MorganGenerator\n",
      "[12:40:53] DEPRECATION WARNING: please use MorganGenerator\n",
      "[12:40:53] DEPRECATION WARNING: please use MorganGenerator\n",
      "[12:40:53] DEPRECATION WARNING: please use MorganGenerator\n",
      "[12:40:53] DEPRECATION WARNING: please use MorganGenerator\n",
      "[12:40:53] DEPRECATION WARNING: please use MorganGenerator\n",
      "[12:40:53] DEPRECATION WARNING: please use MorganGenerator\n",
      "[12:40:53] DEPRECATION WARNING: please use MorganGenerator\n",
      "[12:40:53] DEPRECATION WARNING: please use MorganGenerator\n",
      "[12:40:53] DEPRECATION WARNING: please use MorganGenerator\n",
      "[12:40:53] DEPRECATION WARNING: please use MorganGenerator\n",
      "[12:40:53] DEPRECATION WARNING: please use MorganGenerator\n",
      "[12:40:53] DEPRECATION WARNING: please use MorganGenerator\n",
      "[12:40:53] DEPRECATION WARNING: please use MorganGenerator\n",
      "[12:40:53] DEPRECATION WARNING: please use MorganGenerator\n",
      "[12:40:53] DEPRECATION WARNING: please use MorganGenerator\n",
      "[12:40:53] DEPRECATION WARNING: please use MorganGenerator\n",
      "[12:40:53] DEPRECATION WARNING: please use MorganGenerator\n",
      "[12:40:53] DEPRECATION WARNING: please use MorganGenerator\n",
      "[12:40:53] DEPRECATION WARNING: please use MorganGenerator\n",
      "[12:40:53] DEPRECATION WARNING: please use MorganGenerator\n",
      "[12:40:53] DEPRECATION WARNING: please use MorganGenerator\n",
      "[12:40:53] DEPRECATION WARNING: please use MorganGenerator\n",
      "[12:40:53] DEPRECATION WARNING: please use MorganGenerator\n",
      "[12:40:53] DEPRECATION WARNING: please use MorganGenerator\n",
      "[12:40:53] DEPRECATION WARNING: please use MorganGenerator\n",
      "[12:40:53] DEPRECATION WARNING: please use MorganGenerator\n",
      "[12:40:53] DEPRECATION WARNING: please use MorganGenerator\n",
      "[12:40:53] DEPRECATION WARNING: please use MorganGenerator\n",
      "[12:40:53] DEPRECATION WARNING: please use MorganGenerator\n"
     ]
    },
    {
     "data": {
      "application/vnd.jupyter.widget-view+json": {
       "model_id": "",
       "version_major": 2,
       "version_minor": 0
      },
      "text/plain": [
       "Create single label Dataset:   0%|          | 0/7666 [00:00<?, ?it/s]"
      ]
     },
     "metadata": {},
     "output_type": "display_data"
    },
    {
     "name": "stderr",
     "output_type": "stream",
     "text": [
      "[12:41:13] DEPRECATION WARNING: please use MorganGenerator\n",
      "[12:41:13] DEPRECATION WARNING: please use MorganGenerator\n",
      "[12:41:13] DEPRECATION WARNING: please use MorganGenerator\n",
      "[12:41:13] DEPRECATION WARNING: please use MorganGenerator\n",
      "[12:41:13] DEPRECATION WARNING: please use MorganGenerator\n",
      "[12:41:13] DEPRECATION WARNING: please use MorganGenerator\n",
      "[12:41:13] DEPRECATION WARNING: please use MorganGenerator\n",
      "[12:41:13] DEPRECATION WARNING: please use MorganGenerator\n",
      "[12:41:13] DEPRECATION WARNING: please use MorganGenerator\n",
      "[12:41:13] DEPRECATION WARNING: please use MorganGenerator\n",
      "[12:41:13] DEPRECATION WARNING: please use MorganGenerator\n",
      "[12:41:13] DEPRECATION WARNING: please use MorganGenerator\n",
      "[12:41:13] DEPRECATION WARNING: please use MorganGenerator\n",
      "[12:41:13] DEPRECATION WARNING: please use MorganGenerator\n",
      "[12:41:13] DEPRECATION WARNING: please use MorganGenerator\n",
      "[12:41:13] DEPRECATION WARNING: please use MorganGenerator\n",
      "[12:41:13] DEPRECATION WARNING: please use MorganGenerator\n",
      "[12:41:13] DEPRECATION WARNING: please use MorganGenerator\n",
      "[12:41:13] DEPRECATION WARNING: please use MorganGenerator\n",
      "[12:41:13] DEPRECATION WARNING: please use MorganGenerator\n",
      "[12:41:13] DEPRECATION WARNING: please use MorganGenerator\n",
      "[12:41:13] DEPRECATION WARNING: please use MorganGenerator\n",
      "[12:41:13] DEPRECATION WARNING: please use MorganGenerator\n",
      "[12:41:13] DEPRECATION WARNING: please use MorganGenerator\n",
      "[12:41:13] DEPRECATION WARNING: please use MorganGenerator\n",
      "[12:41:13] DEPRECATION WARNING: please use MorganGenerator\n",
      "[12:41:13] DEPRECATION WARNING: please use MorganGenerator\n",
      "[12:41:13] DEPRECATION WARNING: please use MorganGenerator\n",
      "[12:41:13] DEPRECATION WARNING: please use MorganGenerator\n",
      "[12:41:13] DEPRECATION WARNING: please use MorganGenerator\n"
     ]
    },
    {
     "data": {
      "application/vnd.jupyter.widget-view+json": {
       "model_id": "",
       "version_major": 2,
       "version_minor": 0
      },
      "text/plain": [
       "  0%|          | 0/30 [00:00<?, ?it/s]"
      ]
     },
     "metadata": {},
     "output_type": "display_data"
    },
    {
     "name": "stdout",
     "output_type": "stream",
     "text": [
      "\tAverage Loss: 0.005466 \tLearning rate: 0.001000\n",
      "\tAverage Loss: 0.004351 \tLearning rate: 0.001000\n",
      "\tAverage Loss: 0.003847 \tLearning rate: 0.001000\n",
      "\tAverage Loss: 0.003494 \tLearning rate: 0.001000\n",
      "\tAverage Loss: 0.003227 \tLearning rate: 0.001000\n",
      "\tAverage Loss: 0.003007 \tLearning rate: 0.001000\n",
      "\tAverage Loss: 0.002818 \tLearning rate: 0.001000\n",
      "\tAverage Loss: 0.002666 \tLearning rate: 0.001000\n",
      "\tAverage Loss: 0.002528 \tLearning rate: 0.001000\n",
      "\tAverage Loss: 0.002407 \tLearning rate: 0.000500\n",
      "\tAverage Loss: 0.002036 \tLearning rate: 0.000500\n",
      "\tAverage Loss: 0.001923 \tLearning rate: 0.000500\n",
      "\tAverage Loss: 0.001844 \tLearning rate: 0.000500\n",
      "\tAverage Loss: 0.001771 \tLearning rate: 0.000500\n",
      "\tAverage Loss: 0.001704 \tLearning rate: 0.000500\n",
      "\tAverage Loss: 0.001621 \tLearning rate: 0.000500\n",
      "\tAverage Loss: 0.001557 \tLearning rate: 0.000500\n",
      "\tAverage Loss: 0.001506 \tLearning rate: 0.000500\n",
      "\tAverage Loss: 0.001437 \tLearning rate: 0.000500\n",
      "\tAverage Loss: 0.001370 \tLearning rate: 0.000250\n",
      "\tAverage Loss: 0.001148 \tLearning rate: 0.000250\n",
      "\tAverage Loss: 0.001095 \tLearning rate: 0.000250\n",
      "\tAverage Loss: 0.001041 \tLearning rate: 0.000250\n",
      "\tAverage Loss: 0.001009 \tLearning rate: 0.000250\n",
      "\tAverage Loss: 0.000973 \tLearning rate: 0.000250\n",
      "\tAverage Loss: 0.000940 \tLearning rate: 0.000250\n",
      "\tAverage Loss: 0.000904 \tLearning rate: 0.000250\n",
      "\tAverage Loss: 0.000874 \tLearning rate: 0.000250\n",
      "\tAverage Loss: 0.000845 \tLearning rate: 0.000250\n",
      "\tAverage Loss: 0.000816 \tLearning rate: 0.000125\n",
      "Finished Fold 2\n"
     ]
    },
    {
     "data": {
      "application/vnd.jupyter.widget-view+json": {
       "model_id": "",
       "version_major": 2,
       "version_minor": 0
      },
      "text/plain": [
       "Create single label Dataset:   0%|          | 0/7666 [00:00<?, ?it/s]"
      ]
     },
     "metadata": {},
     "output_type": "display_data"
    },
    {
     "data": {
      "application/vnd.jupyter.widget-view+json": {
       "model_id": "",
       "version_major": 2,
       "version_minor": 0
      },
      "text/plain": [
       "Create single label Dataset:   0%|          | 0/30665 [00:00<?, ?it/s]"
      ]
     },
     "metadata": {},
     "output_type": "display_data"
    },
    {
     "name": "stderr",
     "output_type": "stream",
     "text": [
      "[13:13:34] DEPRECATION WARNING: please use MorganGenerator\n",
      "[13:13:34] DEPRECATION WARNING: please use MorganGenerator\n",
      "[13:13:34] DEPRECATION WARNING: please use MorganGenerator\n",
      "[13:13:34] DEPRECATION WARNING: please use MorganGenerator\n",
      "[13:13:34] DEPRECATION WARNING: please use MorganGenerator\n",
      "[13:13:34] DEPRECATION WARNING: please use MorganGenerator\n",
      "[13:13:34] DEPRECATION WARNING: please use MorganGenerator\n",
      "[13:13:34] DEPRECATION WARNING: please use MorganGenerator\n",
      "[13:13:34] DEPRECATION WARNING: please use MorganGenerator\n",
      "[13:13:34] DEPRECATION WARNING: please use MorganGenerator\n",
      "[13:13:34] DEPRECATION WARNING: please use MorganGenerator\n",
      "[13:13:34] DEPRECATION WARNING: please use MorganGenerator\n",
      "[13:13:34] DEPRECATION WARNING: please use MorganGenerator\n",
      "[13:13:34] DEPRECATION WARNING: please use MorganGenerator\n",
      "[13:13:34] DEPRECATION WARNING: please use MorganGenerator\n",
      "[13:13:34] DEPRECATION WARNING: please use MorganGenerator\n",
      "[13:13:34] DEPRECATION WARNING: please use MorganGenerator\n",
      "[13:13:34] DEPRECATION WARNING: please use MorganGenerator\n",
      "[13:13:34] DEPRECATION WARNING: please use MorganGenerator\n",
      "[13:13:34] DEPRECATION WARNING: please use MorganGenerator\n",
      "[13:13:34] DEPRECATION WARNING: please use MorganGenerator\n",
      "[13:13:34] DEPRECATION WARNING: please use MorganGenerator\n",
      "[13:13:34] DEPRECATION WARNING: please use MorganGenerator\n",
      "[13:13:34] DEPRECATION WARNING: please use MorganGenerator\n",
      "[13:13:34] DEPRECATION WARNING: please use MorganGenerator\n",
      "[13:13:34] DEPRECATION WARNING: please use MorganGenerator\n",
      "[13:13:34] DEPRECATION WARNING: please use MorganGenerator\n",
      "[13:13:34] DEPRECATION WARNING: please use MorganGenerator\n",
      "[13:13:34] DEPRECATION WARNING: please use MorganGenerator\n",
      "[13:13:34] DEPRECATION WARNING: please use MorganGenerator\n"
     ]
    },
    {
     "data": {
      "application/vnd.jupyter.widget-view+json": {
       "model_id": "",
       "version_major": 2,
       "version_minor": 0
      },
      "text/plain": [
       "Create single label Dataset:   0%|          | 0/7666 [00:00<?, ?it/s]"
      ]
     },
     "metadata": {},
     "output_type": "display_data"
    },
    {
     "name": "stderr",
     "output_type": "stream",
     "text": [
      "[13:13:58] DEPRECATION WARNING: please use MorganGenerator\n",
      "[13:13:58] DEPRECATION WARNING: please use MorganGenerator\n",
      "[13:13:58] DEPRECATION WARNING: please use MorganGenerator\n",
      "[13:13:58] DEPRECATION WARNING: please use MorganGenerator\n",
      "[13:13:58] DEPRECATION WARNING: please use MorganGenerator\n",
      "[13:13:58] DEPRECATION WARNING: please use MorganGenerator\n",
      "[13:13:58] DEPRECATION WARNING: please use MorganGenerator\n",
      "[13:13:58] DEPRECATION WARNING: please use MorganGenerator\n",
      "[13:13:58] DEPRECATION WARNING: please use MorganGenerator\n",
      "[13:13:58] DEPRECATION WARNING: please use MorganGenerator\n",
      "[13:13:58] DEPRECATION WARNING: please use MorganGenerator\n",
      "[13:13:58] DEPRECATION WARNING: please use MorganGenerator\n",
      "[13:13:58] DEPRECATION WARNING: please use MorganGenerator\n",
      "[13:13:58] DEPRECATION WARNING: please use MorganGenerator\n",
      "[13:13:58] DEPRECATION WARNING: please use MorganGenerator\n",
      "[13:13:58] DEPRECATION WARNING: please use MorganGenerator\n",
      "[13:13:58] DEPRECATION WARNING: please use MorganGenerator\n",
      "[13:13:58] DEPRECATION WARNING: please use MorganGenerator\n",
      "[13:13:58] DEPRECATION WARNING: please use MorganGenerator\n",
      "[13:13:58] DEPRECATION WARNING: please use MorganGenerator\n",
      "[13:13:58] DEPRECATION WARNING: please use MorganGenerator\n",
      "[13:13:58] DEPRECATION WARNING: please use MorganGenerator\n",
      "[13:13:58] DEPRECATION WARNING: please use MorganGenerator\n",
      "[13:13:58] DEPRECATION WARNING: please use MorganGenerator\n",
      "[13:13:58] DEPRECATION WARNING: please use MorganGenerator\n",
      "[13:13:58] DEPRECATION WARNING: please use MorganGenerator\n",
      "[13:13:58] DEPRECATION WARNING: please use MorganGenerator\n",
      "[13:13:58] DEPRECATION WARNING: please use MorganGenerator\n",
      "[13:13:58] DEPRECATION WARNING: please use MorganGenerator\n",
      "[13:13:58] DEPRECATION WARNING: please use MorganGenerator\n"
     ]
    },
    {
     "data": {
      "application/vnd.jupyter.widget-view+json": {
       "model_id": "",
       "version_major": 2,
       "version_minor": 0
      },
      "text/plain": [
       "  0%|          | 0/30 [00:00<?, ?it/s]"
      ]
     },
     "metadata": {},
     "output_type": "display_data"
    },
    {
     "name": "stdout",
     "output_type": "stream",
     "text": [
      "\tAverage Loss: 0.005568 \tLearning rate: 0.001000\n",
      "\tAverage Loss: 0.004430 \tLearning rate: 0.001000\n",
      "\tAverage Loss: 0.003879 \tLearning rate: 0.001000\n",
      "\tAverage Loss: 0.003503 \tLearning rate: 0.001000\n",
      "\tAverage Loss: 0.003229 \tLearning rate: 0.001000\n",
      "\tAverage Loss: 0.003029 \tLearning rate: 0.001000\n",
      "\tAverage Loss: 0.002848 \tLearning rate: 0.001000\n",
      "\tAverage Loss: 0.002709 \tLearning rate: 0.001000\n",
      "\tAverage Loss: 0.002576 \tLearning rate: 0.001000\n",
      "\tAverage Loss: 0.002449 \tLearning rate: 0.000500\n",
      "\tAverage Loss: 0.002092 \tLearning rate: 0.000500\n",
      "\tAverage Loss: 0.001973 \tLearning rate: 0.000500\n",
      "\tAverage Loss: 0.001899 \tLearning rate: 0.000500\n",
      "\tAverage Loss: 0.001810 \tLearning rate: 0.000500\n",
      "\tAverage Loss: 0.001743 \tLearning rate: 0.000500\n",
      "\tAverage Loss: 0.001669 \tLearning rate: 0.000500\n",
      "\tAverage Loss: 0.001604 \tLearning rate: 0.000500\n",
      "\tAverage Loss: 0.001529 \tLearning rate: 0.000500\n",
      "\tAverage Loss: 0.001475 \tLearning rate: 0.000500\n",
      "\tAverage Loss: 0.001417 \tLearning rate: 0.000250\n",
      "\tAverage Loss: 0.001213 \tLearning rate: 0.000250\n",
      "\tAverage Loss: 0.001140 \tLearning rate: 0.000250\n",
      "\tAverage Loss: 0.001098 \tLearning rate: 0.000250\n",
      "\tAverage Loss: 0.001061 \tLearning rate: 0.000250\n",
      "\tAverage Loss: 0.001029 \tLearning rate: 0.000250\n",
      "\tAverage Loss: 0.000992 \tLearning rate: 0.000250\n",
      "\tAverage Loss: 0.000953 \tLearning rate: 0.000250\n",
      "\tAverage Loss: 0.000928 \tLearning rate: 0.000250\n",
      "\tAverage Loss: 0.000896 \tLearning rate: 0.000250\n",
      "\tAverage Loss: 0.000863 \tLearning rate: 0.000125\n",
      "Finished Fold 3\n"
     ]
    },
    {
     "data": {
      "application/vnd.jupyter.widget-view+json": {
       "model_id": "",
       "version_major": 2,
       "version_minor": 0
      },
      "text/plain": [
       "Create single label Dataset:   0%|          | 0/7666 [00:00<?, ?it/s]"
      ]
     },
     "metadata": {},
     "output_type": "display_data"
    },
    {
     "data": {
      "application/vnd.jupyter.widget-view+json": {
       "model_id": "",
       "version_major": 2,
       "version_minor": 0
      },
      "text/plain": [
       "Create single label Dataset:   0%|          | 0/30665 [00:00<?, ?it/s]"
      ]
     },
     "metadata": {},
     "output_type": "display_data"
    },
    {
     "name": "stderr",
     "output_type": "stream",
     "text": [
      "[13:47:50] DEPRECATION WARNING: please use MorganGenerator\n",
      "[13:47:50] DEPRECATION WARNING: please use MorganGenerator\n",
      "[13:47:50] DEPRECATION WARNING: please use MorganGenerator\n",
      "[13:47:50] DEPRECATION WARNING: please use MorganGenerator\n",
      "[13:47:50] DEPRECATION WARNING: please use MorganGenerator\n",
      "[13:47:50] DEPRECATION WARNING: please use MorganGenerator\n",
      "[13:47:50] DEPRECATION WARNING: please use MorganGenerator\n",
      "[13:47:50] DEPRECATION WARNING: please use MorganGenerator\n",
      "[13:47:50] DEPRECATION WARNING: please use MorganGenerator\n",
      "[13:47:50] DEPRECATION WARNING: please use MorganGenerator\n",
      "[13:47:50] DEPRECATION WARNING: please use MorganGenerator\n",
      "[13:47:50] DEPRECATION WARNING: please use MorganGenerator\n",
      "[13:47:50] DEPRECATION WARNING: please use MorganGenerator\n",
      "[13:47:50] DEPRECATION WARNING: please use MorganGenerator\n",
      "[13:47:50] DEPRECATION WARNING: please use MorganGenerator\n",
      "[13:47:50] DEPRECATION WARNING: please use MorganGenerator\n",
      "[13:47:50] DEPRECATION WARNING: please use MorganGenerator\n",
      "[13:47:50] DEPRECATION WARNING: please use MorganGenerator\n",
      "[13:47:50] DEPRECATION WARNING: please use MorganGenerator\n",
      "[13:47:50] DEPRECATION WARNING: please use MorganGenerator\n",
      "[13:47:50] DEPRECATION WARNING: please use MorganGenerator\n",
      "[13:47:50] DEPRECATION WARNING: please use MorganGenerator\n",
      "[13:47:50] DEPRECATION WARNING: please use MorganGenerator\n",
      "[13:47:50] DEPRECATION WARNING: please use MorganGenerator\n",
      "[13:47:50] DEPRECATION WARNING: please use MorganGenerator\n",
      "[13:47:50] DEPRECATION WARNING: please use MorganGenerator\n",
      "[13:47:50] DEPRECATION WARNING: please use MorganGenerator\n",
      "[13:47:50] DEPRECATION WARNING: please use MorganGenerator\n",
      "[13:47:50] DEPRECATION WARNING: please use MorganGenerator\n",
      "[13:47:50] DEPRECATION WARNING: please use MorganGenerator\n"
     ]
    },
    {
     "data": {
      "application/vnd.jupyter.widget-view+json": {
       "model_id": "",
       "version_major": 2,
       "version_minor": 0
      },
      "text/plain": [
       "Create single label Dataset:   0%|          | 0/7666 [00:00<?, ?it/s]"
      ]
     },
     "metadata": {},
     "output_type": "display_data"
    },
    {
     "name": "stderr",
     "output_type": "stream",
     "text": [
      "[13:48:14] DEPRECATION WARNING: please use MorganGenerator\n",
      "[13:48:14] DEPRECATION WARNING: please use MorganGenerator\n",
      "[13:48:14] DEPRECATION WARNING: please use MorganGenerator\n",
      "[13:48:14] DEPRECATION WARNING: please use MorganGenerator\n",
      "[13:48:14] DEPRECATION WARNING: please use MorganGenerator\n",
      "[13:48:14] DEPRECATION WARNING: please use MorganGenerator\n",
      "[13:48:14] DEPRECATION WARNING: please use MorganGenerator\n",
      "[13:48:14] DEPRECATION WARNING: please use MorganGenerator\n",
      "[13:48:14] DEPRECATION WARNING: please use MorganGenerator\n",
      "[13:48:14] DEPRECATION WARNING: please use MorganGenerator\n",
      "[13:48:14] DEPRECATION WARNING: please use MorganGenerator\n",
      "[13:48:14] DEPRECATION WARNING: please use MorganGenerator\n",
      "[13:48:14] DEPRECATION WARNING: please use MorganGenerator\n",
      "[13:48:14] DEPRECATION WARNING: please use MorganGenerator\n",
      "[13:48:14] DEPRECATION WARNING: please use MorganGenerator\n",
      "[13:48:14] DEPRECATION WARNING: please use MorganGenerator\n",
      "[13:48:14] DEPRECATION WARNING: please use MorganGenerator\n",
      "[13:48:14] DEPRECATION WARNING: please use MorganGenerator\n",
      "[13:48:14] DEPRECATION WARNING: please use MorganGenerator\n",
      "[13:48:14] DEPRECATION WARNING: please use MorganGenerator\n",
      "[13:48:14] DEPRECATION WARNING: please use MorganGenerator\n",
      "[13:48:14] DEPRECATION WARNING: please use MorganGenerator\n",
      "[13:48:14] DEPRECATION WARNING: please use MorganGenerator\n",
      "[13:48:14] DEPRECATION WARNING: please use MorganGenerator\n",
      "[13:48:14] DEPRECATION WARNING: please use MorganGenerator\n",
      "[13:48:14] DEPRECATION WARNING: please use MorganGenerator\n",
      "[13:48:14] DEPRECATION WARNING: please use MorganGenerator\n",
      "[13:48:14] DEPRECATION WARNING: please use MorganGenerator\n",
      "[13:48:14] DEPRECATION WARNING: please use MorganGenerator\n",
      "[13:48:14] DEPRECATION WARNING: please use MorganGenerator\n"
     ]
    },
    {
     "data": {
      "application/vnd.jupyter.widget-view+json": {
       "model_id": "",
       "version_major": 2,
       "version_minor": 0
      },
      "text/plain": [
       "  0%|          | 0/30 [00:00<?, ?it/s]"
      ]
     },
     "metadata": {},
     "output_type": "display_data"
    },
    {
     "name": "stdout",
     "output_type": "stream",
     "text": [
      "\tAverage Loss: 0.005517 \tLearning rate: 0.001000\n",
      "\tAverage Loss: 0.004342 \tLearning rate: 0.001000\n",
      "\tAverage Loss: 0.003822 \tLearning rate: 0.001000\n",
      "\tAverage Loss: 0.003483 \tLearning rate: 0.001000\n",
      "\tAverage Loss: 0.003224 \tLearning rate: 0.001000\n",
      "\tAverage Loss: 0.003010 \tLearning rate: 0.001000\n",
      "\tAverage Loss: 0.002823 \tLearning rate: 0.001000\n",
      "\tAverage Loss: 0.002676 \tLearning rate: 0.001000\n",
      "\tAverage Loss: 0.002536 \tLearning rate: 0.001000\n",
      "\tAverage Loss: 0.002407 \tLearning rate: 0.000500\n",
      "\tAverage Loss: 0.002026 \tLearning rate: 0.000500\n",
      "\tAverage Loss: 0.001914 \tLearning rate: 0.000500\n",
      "\tAverage Loss: 0.001826 \tLearning rate: 0.000500\n",
      "\tAverage Loss: 0.001750 \tLearning rate: 0.000500\n",
      "\tAverage Loss: 0.001670 \tLearning rate: 0.000500\n",
      "\tAverage Loss: 0.001601 \tLearning rate: 0.000500\n",
      "\tAverage Loss: 0.001529 \tLearning rate: 0.000500\n",
      "\tAverage Loss: 0.001460 \tLearning rate: 0.000500\n",
      "\tAverage Loss: 0.001400 \tLearning rate: 0.000500\n",
      "\tAverage Loss: 0.001336 \tLearning rate: 0.000250\n",
      "\tAverage Loss: 0.001107 \tLearning rate: 0.000250\n",
      "\tAverage Loss: 0.001047 \tLearning rate: 0.000250\n",
      "\tAverage Loss: 0.001004 \tLearning rate: 0.000250\n",
      "\tAverage Loss: 0.000961 \tLearning rate: 0.000250\n",
      "\tAverage Loss: 0.000924 \tLearning rate: 0.000250\n",
      "\tAverage Loss: 0.000890 \tLearning rate: 0.000250\n",
      "\tAverage Loss: 0.000857 \tLearning rate: 0.000250\n",
      "\tAverage Loss: 0.000833 \tLearning rate: 0.000250\n",
      "\tAverage Loss: 0.000798 \tLearning rate: 0.000250\n",
      "\tAverage Loss: 0.000771 \tLearning rate: 0.000125\n",
      "Finished Fold 4\n"
     ]
    },
    {
     "data": {
      "application/vnd.jupyter.widget-view+json": {
       "model_id": "",
       "version_major": 2,
       "version_minor": 0
      },
      "text/plain": [
       "Create single label Dataset:   0%|          | 0/7666 [00:00<?, ?it/s]"
      ]
     },
     "metadata": {},
     "output_type": "display_data"
    }
   ],
   "source": [
    "from torchmetrics.utilities.compute import auc\n",
    "from torchmetrics.classification import BinaryAUROC, BinaryPrecisionRecallCurve\n",
    "from maldi2resistance.data.ms_data import MS_Data_SingleAntibiotic\n",
    "from maldi2resistance.metric.PrecisionRecall import MultiLabelPRNan\n",
    "from pathlib import Path\n",
    "from maldi2resistance.metric.ROC import MultiLabelRocNan\n",
    "from maldi2resistance.loss.maskedLoss import MaskedBCE\n",
    "from tqdm.auto import tqdm\n",
    "import matplotlib.pyplot as plt\n",
    "import torch.nn.functional as F\n",
    "\n",
    "from torch.optim import Adam\n",
    "from torch.optim.lr_scheduler import StepLR\n",
    "\n",
    "print(\"Start training ...\")\n",
    "model.train()\n",
    "\n",
    "batch_size = 64\n",
    "fig_path = Path(f\"./{save_folder}/figures\")\n",
    "fig_path.mkdir(parents=True, exist_ok=True)\n",
    "csv_path = Path(f\"./{save_folder}/csv\")\n",
    "csv_path.mkdir(parents=True, exist_ok=True)\n",
    "\n",
    "loss_per_batch = []\n",
    "\n",
    "gen = torch.Generator()\n",
    "\n",
    "all_auc_roc_micro = []\n",
    "all_auc_pr_micro = []\n",
    "\n",
    "all_auc_roc_macro = []\n",
    "all_auc_pr_macro = []\n",
    "\n",
    "for fold, (train_data, test_data) in enumerate(ms_data.getK_fold(n_splits=5, shuffle=True, random_state= SEED)):\n",
    "    train_dataset_single_antibiotic = MS_Data_SingleAntibiotic(ms_data=train_data, use_morganFingerprint4Drug=True)\n",
    "    test_dataset_single_antibiotic = MS_Data_SingleAntibiotic(ms_data=test_data, use_morganFingerprint4Drug=True)\n",
    "    \n",
    "    train_loader = DataLoader(train_dataset_single_antibiotic, batch_size=batch_size, shuffle=True, drop_last=True, generator= gen.manual_seed(SEED))\n",
    "    test_loader = DataLoader(test_dataset_single_antibiotic, batch_size=len(test_dataset_single_antibiotic), shuffle=True, drop_last=True, generator= gen.manual_seed(SEED))\n",
    "    \n",
    "    model.load_state_dict(model_state)\n",
    "    model.train()\n",
    "    \n",
    "    optimizer = Adam(model.parameters(), lr=1e-3, amsgrad = True)\n",
    "    scheduler = StepLR(optimizer, step_size=10, gamma=0.5)\n",
    "\n",
    "    for epoch in tqdm(range(30), leave= False, position=1):\n",
    "        overall_loss = 0\n",
    "        \n",
    "        for batch_idx, (x, y, pos) in enumerate(train_loader):\n",
    "    \n",
    "            x = x.to(DEVICE)\n",
    "            y = y.to(DEVICE)\n",
    "            pos = pos.to(DEVICE)\n",
    "            \n",
    "            optimizer.zero_grad()\n",
    "    \n",
    "            output = model(x, pos)\n",
    "        \n",
    "            loss = F.binary_cross_entropy_with_logits(torch.squeeze(output), y)\n",
    "            current_loss_value = loss.item()\n",
    "            loss_per_batch.append(current_loss_value)\n",
    "            \n",
    "            overall_loss += current_loss_value\n",
    "            \n",
    "            loss.backward()\n",
    "            optimizer.step()\n",
    "    \n",
    "        scheduler.step()\n",
    "        with tqdm.external_write_mode():\n",
    "            print(f\"\\tAverage Loss: {overall_loss / (batch_idx*batch_size):.6f} \\tLearning rate: {scheduler.get_last_lr()[0]:.6f}\")\n",
    "        \n",
    "    print(f\"Finished Fold {fold}\")\n",
    "    \n",
    "    model.eval()\n",
    "    \n",
    "    DEVICE = torch.device(\"cpu\")\n",
    "    test_features, test_labels, test_pos = next(iter(test_loader))\n",
    "    test_features = test_features.to(DEVICE)\n",
    "    test_labels = test_labels.to(DEVICE)\n",
    "    test_pos = test_pos.to(DEVICE)\n",
    "    model = model.to(DEVICE)\n",
    "    \n",
    "    output = model(test_features, test_pos)\n",
    "    output = torch.squeeze(output)\n",
    "    \n",
    "    auRoc = BinaryAUROC()\n",
    "    auc_roc = auRoc(output, test_labels.int())\n",
    "    all_auc_roc_micro.append(auc_roc)\n",
    "    \n",
    "    metric = BinaryPrecisionRecallCurve()\n",
    "    metric.update(output, test_labels.int())\n",
    "    precision, recall, thresholds = metric.compute()\n",
    "    aucPC = auc(recall, precision)\n",
    "    \n",
    "    all_auc_pr_micro.append(aucPC)\n",
    "    \n",
    "    macro_aucroc = 0\n",
    "    macro_aucpr = 0\n",
    "    \n",
    "    n_not_empty = 0\n",
    "    \n",
    "    test_dataset_single_antibiotic = MS_Data_SingleAntibiotic(ms_data=test_data, use_morganFingerprint4Drug= False)\n",
    "    test_loader = DataLoader(test_dataset_single_antibiotic, batch_size=len(test_dataset_single_antibiotic), shuffle=True)\n",
    "    _, _, test_pos = next(iter(test_loader))\n",
    "    \n",
    "    outcome = []\n",
    "    for pos, antibiotic in enumerate(ms_data.selected_antibiotics):\n",
    "        out_part = output[test_pos == pos]\n",
    "        label_part = test_labels[test_pos == pos]\n",
    "        \n",
    "        occurrences = torch.bincount(label_part.int())\n",
    "        try:\n",
    "            if label_part.numel() == 0 or occurrences[1].item() == 0 or occurrences[0].item()== 0:\n",
    "                continue\n",
    "        except IndexError:\n",
    "            # no positives\n",
    "            continue\n",
    "        \n",
    "        au_roc = auRoc(out_part, label_part.int())\n",
    "        \n",
    "        metric.update(out_part, label_part.int())\n",
    "        precision, recall, thresholds = metric.compute()\n",
    "        aucPC = auc(recall, precision)\n",
    "        \n",
    "        n_not_empty +=1\n",
    "        macro_aucroc += au_roc.item()\n",
    "        macro_aucpr += aucPC.item()\n",
    "    \n",
    "        outcome.append({\n",
    "            'antibiotics': antibiotic,\n",
    "            'AUROC': au_roc.detach().item(),\n",
    "            'AUPRC': aucPC.detach().item(),\n",
    "            'Susceptible': occurrences[0].detach().item(),\n",
    "            'Resistance': occurrences[1].detach().item(),\n",
    "        })\n",
    "    pd.DataFrame().from_dict(outcome).to_csv(f\"{csv_path}/cv{fold}.csv\")\n",
    "        \n",
    "        \n",
    "    macro_aucroc = macro_aucroc / n_not_empty\n",
    "    macro_aucpr = macro_aucpr / n_not_empty\n",
    "    \n",
    "    all_auc_roc_macro.append(macro_aucroc)\n",
    "    all_auc_pr_macro.append(macro_aucpr)\n",
    "    DEVICE = torch.device(\"cuda\")\n",
    "    model = model.to(DEVICE)"
   ]
  },
  {
   "cell_type": "code",
   "execution_count": 8,
   "id": "b1367d7b-405a-4dec-99d9-9c0706831275",
   "metadata": {},
   "outputs": [
    {
     "name": "stdout",
     "output_type": "stream",
     "text": [
      "Mean\t: 0.9223073124885559\n",
      " SD \t: 0.0031904003117233515\n",
      "Mean\t: 0.8642351031303406\n",
      " SD \t: 0.0035700583830475807\n"
     ]
    }
   ],
   "source": [
    "print(f\"Mean\\t: {np.mean([x.cpu() for x in all_auc_roc_micro])}\")\n",
    "print(f\" SD \\t: {np.std([x.cpu() for x in all_auc_roc_micro]) }\")\n",
    "print(f\"Mean\\t: {np.mean([x.cpu() for x in all_auc_pr_micro])}\")\n",
    "print(f\" SD \\t: {np.std([x.cpu() for x in all_auc_pr_micro]) }\")"
   ]
  },
  {
   "cell_type": "code",
   "execution_count": 9,
   "id": "17c792e7-d400-46b8-b715-087865fba603",
   "metadata": {},
   "outputs": [
    {
     "name": "stdout",
     "output_type": "stream",
     "text": [
      "Mean\t: 0.9221437613169353\n",
      " SD \t: 0.0034870115657113765\n",
      "Mean\t: 0.8641235069433849\n",
      " SD \t: 0.003565214931805852\n"
     ]
    }
   ],
   "source": [
    "print(f\"Mean\\t: {np.mean([x for x in all_auc_roc_macro])}\")\n",
    "print(f\" SD \\t: {np.std([x for x in all_auc_roc_macro]) }\")\n",
    "print(f\"Mean\\t: {np.mean([x for x in all_auc_pr_macro])}\")\n",
    "print(f\" SD \\t: {np.std([x for x in all_auc_pr_macro]) }\")"
   ]
  },
  {
   "cell_type": "code",
   "execution_count": null,
   "id": "2ed2d9e1-680e-406a-bd60-59ea6ad8d05e",
   "metadata": {},
   "outputs": [],
   "source": []
  }
 ],
 "metadata": {
  "kernelspec": {
   "display_name": "Python 3 (ipykernel)",
   "language": "python",
   "name": "python3"
  },
  "language_info": {
   "codemirror_mode": {
    "name": "ipython",
    "version": 3
   },
   "file_extension": ".py",
   "mimetype": "text/x-python",
   "name": "python",
   "nbconvert_exporter": "python",
   "pygments_lexer": "ipython3",
   "version": "3.11.8"
  },
  "widgets": {
   "application/vnd.jupyter.widget-state+json": {
    "state": {},
    "version_major": 2,
    "version_minor": 0
   }
  }
 },
 "nbformat": 4,
 "nbformat_minor": 5
}
