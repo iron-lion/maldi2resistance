{
 "cells": [
  {
   "cell_type": "markdown",
   "id": "6c06d118-428e-4022-9284-d68fe0eeb134",
   "metadata": {},
   "source": [
    "# MultimodalAMR"
   ]
  },
  {
   "cell_type": "code",
   "execution_count": 1,
   "id": "6c4b645f-6b5e-428e-855c-64b7e33ff874",
   "metadata": {},
   "outputs": [
    {
     "name": "stdout",
     "output_type": "stream",
     "text": [
      "NVIDIA RTX 2000 Ada Generation Laptop GPU\n"
     ]
    }
   ],
   "source": [
    "import copy\n",
    "import numpy as np\n",
    "import pandas as pd\n",
    "import sys\n",
    "sys.path.insert(0,'../../')\n",
    "import torch\n",
    "from torch import nn\n",
    "import torchmetrics.classification\n",
    "from torch import cuda\n",
    "from torch.utils.data import DataLoader\n",
    "from multimodal_amr.models.modules import ResMLP\n",
    "from maldi2resistance.data.ms_data import MS_Data\n",
    "assert cuda.is_available()\n",
    "assert cuda.device_count() > 0\n",
    "print(cuda.get_device_name(cuda.current_device()))\n",
    "\n",
    "DEVICE = torch.device(\"cuda\")\n",
    "SEED = 42\n",
    "torch.manual_seed(SEED)\n",
    "\n",
    "save_folder = \"Dualbranch_5cv-DRIAMS-A\""
   ]
  },
  {
   "cell_type": "markdown",
   "id": "23b5a248-98cc-42cc-99b2-49bdd5ca1f35",
   "metadata": {},
   "source": [
    "### Load the Dataset"
   ]
  },
  {
   "cell_type": "code",
   "execution_count": 2,
   "id": "e3a3c09d-998c-4b2b-a561-878f8c302f6a",
   "metadata": {},
   "outputs": [],
   "source": [
    "UMG_antibiotics = ['Ampicillin',\n",
    " 'Cefotaxim',\n",
    " 'Ceftazidime',\n",
    " 'Ceftriaxone',\n",
    " 'Ciprofloxacin',\n",
    " 'Clindamycin',\n",
    " 'Cotrimoxazole',\n",
    " 'Erythromycin',\n",
    " 'Fosfomycin',\n",
    " 'Gentamicin',\n",
    " 'Imipenem',\n",
    " 'Levofloxacin',\n",
    " 'Meropenem',\n",
    " 'Moxifloxacin',\n",
    " 'Oxacillin',\n",
    " 'PenicillinG',\n",
    " 'Piperacillin-Tazobactam',\n",
    " 'Tetracycline',\n",
    " 'Vancomycin']"
   ]
  },
  {
   "cell_type": "code",
   "execution_count": 2,
   "id": "7a00707ac6b2975",
   "metadata": {},
   "outputs": [
    {
     "data": {
      "application/vnd.jupyter.widget-view+json": {
       "model_id": "",
       "version_major": 2,
       "version_minor": 0
      },
      "text/plain": [
       "Loading Spectra into Memory:   0%|          | 0/38331 [00:00<?, ?it/s]"
      ]
     },
     "metadata": {},
     "output_type": "display_data"
    },
    {
     "data": {
      "text/html": [
       "\n",
       "        <table>\n",
       "            <thead>\n",
       "                <tr>\n",
       "                    <th>Antibiotic:</th>\n",
       "                    <th> Amikacin </th><th> Amoxicillin-Clavulanic acid </th><th> Ampicillin-Amoxicillin </th><th> Cefazolin </th><th> Cefepime </th><th> Cefpodoxime </th><th> Ceftazidime </th><th> Ceftriaxone </th><th> Cefuroxime </th><th> Ciprofloxacin </th><th> Clindamycin </th><th> Colistin </th><th> Cotrimoxazole </th><th> Ertapenem </th><th> Erythromycin </th><th> Fosfomycin-Trometamol </th><th> Fusidic acid </th><th> Gentamicin </th><th> Imipenem </th><th> Levofloxacin </th><th> Meropenem </th><th> Nitrofurantoin </th><th> Norfloxacin </th><th> Oxacillin </th><th> Penicillin </th><th> Piperacillin-Tazobactam </th><th> Rifampicin </th><th> Teicoplanin </th><th> Tetracycline </th><th> Tobramycin </th>\n",
       "                </tr>\n",
       "            </thead>\n",
       "            <tbody>\n",
       "                <tr>\n",
       "                    <td>Number resistant:</td>\n",
       "                    <td> 975 </td><td> 9920 </td><td> 21966 </td><td> 4223 </td><td> 6518 </td><td> 2338 </td><td> 2455 </td><td> 7299 </td><td> 4475 </td><td> 7462 </td><td> 3637 </td><td> 2850 </td><td> 4872 </td><td> 288 </td><td> 4529 </td><td> 1326 </td><td> 3413 </td><td> 2303 </td><td> 6872 </td><td> 3973 </td><td> 5145 </td><td> 412 </td><td> 871 </td><td> 4641 </td><td> 9881 </td><td> 6546 </td><td> 542 </td><td> 226 </td><td> 3082 </td><td> 1695 </td>\n",
       "                </tr>\n",
       "                <tr>\n",
       "                    <td>Number susceptible:</td>\n",
       "                    <td> 16247 </td><td> 15308 </td><td> 4905 </td><td> 5813 </td><td> 21958 </td><td> 4382 </td><td> 14937 </td><td> 19246 </td><td> 6103 </td><td> 23081 </td><td> 7975 </td><td> 15483 </td><td> 21768 </td><td> 14465 </td><td> 6550 </td><td> 4803 </td><td> 7224 </td><td> 8276 </td><td> 22519 </td><td> 16811 </td><td> 24386 </td><td> 1696 </td><td> 5234 </td><td> 6344 </td><td> 3525 </td><td> 21852 </td><td> 10424 </td><td> 7465 </td><td> 6836 </td><td> 16495 </td>\n",
       "                </tr>\n",
       "                <tr>\n",
       "                    <td>Number data points:</td>\n",
       "                    <td> 17222 </td><td> 25228 </td><td> 26871 </td><td> 10036 </td><td> 28476 </td><td> 6720 </td><td> 17392 </td><td> 26545 </td><td> 10578 </td><td> 30543 </td><td> 11612 </td><td> 18333 </td><td> 26640 </td><td> 14753 </td><td> 11079 </td><td> 6129 </td><td> 10637 </td><td> 10579 </td><td> 29391 </td><td> 20784 </td><td> 29531 </td><td> 2108 </td><td> 6105 </td><td> 10985 </td><td> 13406 </td><td> 28398 </td><td> 10966 </td><td> 7691 </td><td> 9918 </td><td> 18190 </td>\n",
       "                </tr>\n",
       "            </tbody>\n",
       "        </table>\n",
       "                "
      ],
      "text/plain": [
       "<maldi2resistance.data.ms_data.MS_Data at 0x7faa41341290>"
      ]
     },
     "execution_count": 2,
     "metadata": {},
     "output_type": "execute_result"
    }
   ],
   "source": [
    "ms_data = MS_Data(\n",
    "    root_dir=\"/home/youngjunpark/Data/MS_data\",\n",
    "    sites=[\"DRIAMS-A\"],\n",
    "    years=[2015,2016,2017,2018],\n",
    "    bin_size=1,\n",
    "    #antibiotics=UMG_antibiotics,\n",
    ")\n",
    "ms_data.loading_type = \"memory\"\n",
    "ms_data"
   ]
  },
  {
   "cell_type": "code",
   "execution_count": 3,
   "id": "2076d3e6-93f3-45bb-b8f6-3a94173048ad",
   "metadata": {},
   "outputs": [
    {
     "data": {
      "text/plain": [
       "30"
      ]
     },
     "execution_count": 3,
     "metadata": {},
     "output_type": "execute_result"
    }
   ],
   "source": [
    "len(ms_data.label_stats.columns)"
   ]
  },
  {
   "cell_type": "code",
   "execution_count": 4,
   "id": "60665b7b-1494-4270-9a19-2bcca91dbb17",
   "metadata": {},
   "outputs": [],
   "source": [
    "from maldi2resistance.model.dualBranch import DualBranchOneHot\n",
    "import copy\n",
    "from maldi2resistance.model.singleBranchMlp import SingleBranchMLP\n",
    "\n",
    "model = DualBranchOneHot( input_dim_spectrum= 18000, input_dim_drug= len(ms_data.selected_antibiotics))\n",
    "model = model.to(DEVICE)\n",
    "\n",
    "model_state = copy.deepcopy(model.state_dict()) "
   ]
  },
  {
   "cell_type": "code",
   "execution_count": 5,
   "id": "db166a21-bfa7-4865-8b54-f1f1cf239027",
   "metadata": {},
   "outputs": [
    {
     "name": "stdout",
     "output_type": "stream",
     "text": [
      "=================================================================\n",
      "Layer (type:depth-idx)                   Param #\n",
      "=================================================================\n",
      "DualBranchOneHot                         --\n",
      "├─Sequential: 1-1                        --\n",
      "│    └─Linear: 2-1                       9,216,512\n",
      "│    └─GELU: 2-2                         --\n",
      "│    └─Dropout: 2-3                      --\n",
      "│    └─LayerNorm: 2-4                    1,024\n",
      "│    └─Linear: 2-5                       131,328\n",
      "│    └─GELU: 2-6                         --\n",
      "│    └─Dropout: 2-7                      --\n",
      "│    └─LayerNorm: 2-8                    512\n",
      "│    └─Linear: 2-9                       32,896\n",
      "│    └─GELU: 2-10                        --\n",
      "│    └─Dropout: 2-11                     --\n",
      "│    └─LayerNorm: 2-12                   256\n",
      "│    └─Linear: 2-13                      8,256\n",
      "├─Embedding: 1-2                         1,920\n",
      "=================================================================\n",
      "Total params: 9,392,704\n",
      "Trainable params: 9,392,704\n",
      "Non-trainable params: 0\n",
      "=================================================================\n"
     ]
    }
   ],
   "source": [
    "from torchinfo import summary\n",
    "\n",
    "print(summary(model))"
   ]
  },
  {
   "cell_type": "code",
   "execution_count": 6,
   "id": "a0664c35-aeed-4ae3-bb00-04b83d1bdb00",
   "metadata": {},
   "outputs": [
    {
     "name": "stdout",
     "output_type": "stream",
     "text": [
      "Start training ...\n"
     ]
    },
    {
     "data": {
      "application/vnd.jupyter.widget-view+json": {
       "model_id": "",
       "version_major": 2,
       "version_minor": 0
      },
      "text/plain": [
       "Create single label Dataset:   0%|          | 0/30664 [00:00<?, ?it/s]"
      ]
     },
     "metadata": {},
     "output_type": "display_data"
    },
    {
     "data": {
      "application/vnd.jupyter.widget-view+json": {
       "model_id": "",
       "version_major": 2,
       "version_minor": 0
      },
      "text/plain": [
       "Create single label Dataset:   0%|          | 0/7667 [00:00<?, ?it/s]"
      ]
     },
     "metadata": {},
     "output_type": "display_data"
    },
    {
     "data": {
      "application/vnd.jupyter.widget-view+json": {
       "model_id": "",
       "version_major": 2,
       "version_minor": 0
      },
      "text/plain": [
       "  0%|          | 0/30 [00:00<?, ?it/s]"
      ]
     },
     "metadata": {},
     "output_type": "display_data"
    },
    {
     "name": "stdout",
     "output_type": "stream",
     "text": [
      "\tAverage Loss: 0.005311 \tLearning rate: 0.001000\n",
      "\tAverage Loss: 0.004396 \tLearning rate: 0.001000\n",
      "\tAverage Loss: 0.004002 \tLearning rate: 0.001000\n",
      "\tAverage Loss: 0.003769 \tLearning rate: 0.001000\n",
      "\tAverage Loss: 0.003560 \tLearning rate: 0.001000\n",
      "\tAverage Loss: 0.003417 \tLearning rate: 0.001000\n",
      "\tAverage Loss: 0.003263 \tLearning rate: 0.001000\n",
      "\tAverage Loss: 0.003155 \tLearning rate: 0.001000\n",
      "\tAverage Loss: 0.003061 \tLearning rate: 0.001000\n",
      "\tAverage Loss: 0.002977 \tLearning rate: 0.000500\n",
      "\tAverage Loss: 0.002704 \tLearning rate: 0.000500\n",
      "\tAverage Loss: 0.002638 \tLearning rate: 0.000500\n",
      "\tAverage Loss: 0.002591 \tLearning rate: 0.000500\n",
      "\tAverage Loss: 0.002547 \tLearning rate: 0.000500\n",
      "\tAverage Loss: 0.002513 \tLearning rate: 0.000500\n",
      "\tAverage Loss: 0.002461 \tLearning rate: 0.000500\n",
      "\tAverage Loss: 0.002417 \tLearning rate: 0.000500\n",
      "\tAverage Loss: 0.002388 \tLearning rate: 0.000500\n",
      "\tAverage Loss: 0.002353 \tLearning rate: 0.000500\n",
      "\tAverage Loss: 0.002310 \tLearning rate: 0.000250\n",
      "\tAverage Loss: 0.002154 \tLearning rate: 0.000250\n",
      "\tAverage Loss: 0.002120 \tLearning rate: 0.000250\n",
      "\tAverage Loss: 0.002094 \tLearning rate: 0.000250\n",
      "\tAverage Loss: 0.002068 \tLearning rate: 0.000250\n",
      "\tAverage Loss: 0.002039 \tLearning rate: 0.000250\n",
      "\tAverage Loss: 0.002022 \tLearning rate: 0.000250\n",
      "\tAverage Loss: 0.002000 \tLearning rate: 0.000250\n",
      "\tAverage Loss: 0.001974 \tLearning rate: 0.000250\n",
      "\tAverage Loss: 0.001956 \tLearning rate: 0.000250\n",
      "\tAverage Loss: 0.001949 \tLearning rate: 0.000125\n",
      "Finished Fold 0\n"
     ]
    },
    {
     "data": {
      "application/vnd.jupyter.widget-view+json": {
       "model_id": "",
       "version_major": 2,
       "version_minor": 0
      },
      "text/plain": [
       "Create single label Dataset:   0%|          | 0/7667 [00:00<?, ?it/s]"
      ]
     },
     "metadata": {},
     "output_type": "display_data"
    },
    {
     "data": {
      "application/vnd.jupyter.widget-view+json": {
       "model_id": "",
       "version_major": 2,
       "version_minor": 0
      },
      "text/plain": [
       "Create single label Dataset:   0%|          | 0/30665 [00:00<?, ?it/s]"
      ]
     },
     "metadata": {},
     "output_type": "display_data"
    },
    {
     "data": {
      "application/vnd.jupyter.widget-view+json": {
       "model_id": "",
       "version_major": 2,
       "version_minor": 0
      },
      "text/plain": [
       "Create single label Dataset:   0%|          | 0/7666 [00:00<?, ?it/s]"
      ]
     },
     "metadata": {},
     "output_type": "display_data"
    },
    {
     "data": {
      "application/vnd.jupyter.widget-view+json": {
       "model_id": "",
       "version_major": 2,
       "version_minor": 0
      },
      "text/plain": [
       "  0%|          | 0/30 [00:00<?, ?it/s]"
      ]
     },
     "metadata": {},
     "output_type": "display_data"
    },
    {
     "name": "stdout",
     "output_type": "stream",
     "text": [
      "\tAverage Loss: 0.005377 \tLearning rate: 0.001000\n",
      "\tAverage Loss: 0.004446 \tLearning rate: 0.001000\n",
      "\tAverage Loss: 0.004085 \tLearning rate: 0.001000\n",
      "\tAverage Loss: 0.003815 \tLearning rate: 0.001000\n",
      "\tAverage Loss: 0.003588 \tLearning rate: 0.001000\n",
      "\tAverage Loss: 0.003448 \tLearning rate: 0.001000\n",
      "\tAverage Loss: 0.003321 \tLearning rate: 0.001000\n",
      "\tAverage Loss: 0.003192 \tLearning rate: 0.001000\n",
      "\tAverage Loss: 0.003100 \tLearning rate: 0.001000\n",
      "\tAverage Loss: 0.003016 \tLearning rate: 0.000500\n",
      "\tAverage Loss: 0.002761 \tLearning rate: 0.000500\n",
      "\tAverage Loss: 0.002687 \tLearning rate: 0.000500\n",
      "\tAverage Loss: 0.002633 \tLearning rate: 0.000500\n",
      "\tAverage Loss: 0.002591 \tLearning rate: 0.000500\n",
      "\tAverage Loss: 0.002532 \tLearning rate: 0.000500\n",
      "\tAverage Loss: 0.002504 \tLearning rate: 0.000500\n",
      "\tAverage Loss: 0.002461 \tLearning rate: 0.000500\n",
      "\tAverage Loss: 0.002414 \tLearning rate: 0.000500\n",
      "\tAverage Loss: 0.002376 \tLearning rate: 0.000500\n",
      "\tAverage Loss: 0.002355 \tLearning rate: 0.000250\n",
      "\tAverage Loss: 0.002189 \tLearning rate: 0.000250\n",
      "\tAverage Loss: 0.002143 \tLearning rate: 0.000250\n",
      "\tAverage Loss: 0.002115 \tLearning rate: 0.000250\n",
      "\tAverage Loss: 0.002084 \tLearning rate: 0.000250\n",
      "\tAverage Loss: 0.002063 \tLearning rate: 0.000250\n",
      "\tAverage Loss: 0.002042 \tLearning rate: 0.000250\n",
      "\tAverage Loss: 0.002016 \tLearning rate: 0.000250\n",
      "\tAverage Loss: 0.001988 \tLearning rate: 0.000250\n",
      "\tAverage Loss: 0.001964 \tLearning rate: 0.000250\n",
      "\tAverage Loss: 0.001939 \tLearning rate: 0.000125\n",
      "Finished Fold 1\n"
     ]
    },
    {
     "data": {
      "application/vnd.jupyter.widget-view+json": {
       "model_id": "",
       "version_major": 2,
       "version_minor": 0
      },
      "text/plain": [
       "Create single label Dataset:   0%|          | 0/7666 [00:00<?, ?it/s]"
      ]
     },
     "metadata": {},
     "output_type": "display_data"
    },
    {
     "data": {
      "application/vnd.jupyter.widget-view+json": {
       "model_id": "",
       "version_major": 2,
       "version_minor": 0
      },
      "text/plain": [
       "Create single label Dataset:   0%|          | 0/30665 [00:00<?, ?it/s]"
      ]
     },
     "metadata": {},
     "output_type": "display_data"
    },
    {
     "data": {
      "application/vnd.jupyter.widget-view+json": {
       "model_id": "",
       "version_major": 2,
       "version_minor": 0
      },
      "text/plain": [
       "Create single label Dataset:   0%|          | 0/7666 [00:00<?, ?it/s]"
      ]
     },
     "metadata": {},
     "output_type": "display_data"
    },
    {
     "data": {
      "application/vnd.jupyter.widget-view+json": {
       "model_id": "",
       "version_major": 2,
       "version_minor": 0
      },
      "text/plain": [
       "  0%|          | 0/30 [00:00<?, ?it/s]"
      ]
     },
     "metadata": {},
     "output_type": "display_data"
    },
    {
     "name": "stdout",
     "output_type": "stream",
     "text": [
      "\tAverage Loss: 0.005309 \tLearning rate: 0.001000\n",
      "\tAverage Loss: 0.004370 \tLearning rate: 0.001000\n",
      "\tAverage Loss: 0.004015 \tLearning rate: 0.001000\n",
      "\tAverage Loss: 0.003759 \tLearning rate: 0.001000\n",
      "\tAverage Loss: 0.003568 \tLearning rate: 0.001000\n",
      "\tAverage Loss: 0.003403 \tLearning rate: 0.001000\n",
      "\tAverage Loss: 0.003284 \tLearning rate: 0.001000\n",
      "\tAverage Loss: 0.003158 \tLearning rate: 0.001000\n",
      "\tAverage Loss: 0.003067 \tLearning rate: 0.001000\n",
      "\tAverage Loss: 0.002988 \tLearning rate: 0.000500\n",
      "\tAverage Loss: 0.002710 \tLearning rate: 0.000500\n",
      "\tAverage Loss: 0.002645 \tLearning rate: 0.000500\n",
      "\tAverage Loss: 0.002605 \tLearning rate: 0.000500\n",
      "\tAverage Loss: 0.002558 \tLearning rate: 0.000500\n",
      "\tAverage Loss: 0.002511 \tLearning rate: 0.000500\n",
      "\tAverage Loss: 0.002462 \tLearning rate: 0.000500\n",
      "\tAverage Loss: 0.002425 \tLearning rate: 0.000500\n",
      "\tAverage Loss: 0.002382 \tLearning rate: 0.000500\n",
      "\tAverage Loss: 0.002349 \tLearning rate: 0.000500\n",
      "\tAverage Loss: 0.002310 \tLearning rate: 0.000250\n",
      "\tAverage Loss: 0.002156 \tLearning rate: 0.000250\n",
      "\tAverage Loss: 0.002121 \tLearning rate: 0.000250\n",
      "\tAverage Loss: 0.002102 \tLearning rate: 0.000250\n",
      "\tAverage Loss: 0.002075 \tLearning rate: 0.000250\n",
      "\tAverage Loss: 0.002048 \tLearning rate: 0.000250\n",
      "\tAverage Loss: 0.002022 \tLearning rate: 0.000250\n",
      "\tAverage Loss: 0.001997 \tLearning rate: 0.000250\n",
      "\tAverage Loss: 0.001969 \tLearning rate: 0.000250\n",
      "\tAverage Loss: 0.001948 \tLearning rate: 0.000250\n",
      "\tAverage Loss: 0.001925 \tLearning rate: 0.000125\n",
      "Finished Fold 2\n"
     ]
    },
    {
     "data": {
      "application/vnd.jupyter.widget-view+json": {
       "model_id": "",
       "version_major": 2,
       "version_minor": 0
      },
      "text/plain": [
       "Create single label Dataset:   0%|          | 0/7666 [00:00<?, ?it/s]"
      ]
     },
     "metadata": {},
     "output_type": "display_data"
    },
    {
     "data": {
      "application/vnd.jupyter.widget-view+json": {
       "model_id": "",
       "version_major": 2,
       "version_minor": 0
      },
      "text/plain": [
       "Create single label Dataset:   0%|          | 0/30665 [00:00<?, ?it/s]"
      ]
     },
     "metadata": {},
     "output_type": "display_data"
    },
    {
     "data": {
      "application/vnd.jupyter.widget-view+json": {
       "model_id": "",
       "version_major": 2,
       "version_minor": 0
      },
      "text/plain": [
       "Create single label Dataset:   0%|          | 0/7666 [00:00<?, ?it/s]"
      ]
     },
     "metadata": {},
     "output_type": "display_data"
    },
    {
     "data": {
      "application/vnd.jupyter.widget-view+json": {
       "model_id": "",
       "version_major": 2,
       "version_minor": 0
      },
      "text/plain": [
       "  0%|          | 0/30 [00:00<?, ?it/s]"
      ]
     },
     "metadata": {},
     "output_type": "display_data"
    },
    {
     "name": "stdout",
     "output_type": "stream",
     "text": [
      "\tAverage Loss: 0.005310 \tLearning rate: 0.001000\n",
      "\tAverage Loss: 0.004405 \tLearning rate: 0.001000\n",
      "\tAverage Loss: 0.004038 \tLearning rate: 0.001000\n",
      "\tAverage Loss: 0.003782 \tLearning rate: 0.001000\n",
      "\tAverage Loss: 0.003579 \tLearning rate: 0.001000\n",
      "\tAverage Loss: 0.003416 \tLearning rate: 0.001000\n",
      "\tAverage Loss: 0.003298 \tLearning rate: 0.001000\n",
      "\tAverage Loss: 0.003192 \tLearning rate: 0.001000\n",
      "\tAverage Loss: 0.003085 \tLearning rate: 0.001000\n",
      "\tAverage Loss: 0.002993 \tLearning rate: 0.000500\n",
      "\tAverage Loss: 0.002728 \tLearning rate: 0.000500\n",
      "\tAverage Loss: 0.002670 \tLearning rate: 0.000500\n",
      "\tAverage Loss: 0.002620 \tLearning rate: 0.000500\n",
      "\tAverage Loss: 0.002575 \tLearning rate: 0.000500\n",
      "\tAverage Loss: 0.002519 \tLearning rate: 0.000500\n",
      "\tAverage Loss: 0.002486 \tLearning rate: 0.000500\n",
      "\tAverage Loss: 0.002439 \tLearning rate: 0.000500\n",
      "\tAverage Loss: 0.002390 \tLearning rate: 0.000500\n",
      "\tAverage Loss: 0.002359 \tLearning rate: 0.000500\n",
      "\tAverage Loss: 0.002324 \tLearning rate: 0.000250\n",
      "\tAverage Loss: 0.002161 \tLearning rate: 0.000250\n",
      "\tAverage Loss: 0.002110 \tLearning rate: 0.000250\n",
      "\tAverage Loss: 0.002090 \tLearning rate: 0.000250\n",
      "\tAverage Loss: 0.002065 \tLearning rate: 0.000250\n",
      "\tAverage Loss: 0.002030 \tLearning rate: 0.000250\n",
      "\tAverage Loss: 0.002008 \tLearning rate: 0.000250\n",
      "\tAverage Loss: 0.001986 \tLearning rate: 0.000250\n",
      "\tAverage Loss: 0.001966 \tLearning rate: 0.000250\n",
      "\tAverage Loss: 0.001941 \tLearning rate: 0.000250\n",
      "\tAverage Loss: 0.001916 \tLearning rate: 0.000125\n",
      "Finished Fold 3\n"
     ]
    },
    {
     "data": {
      "application/vnd.jupyter.widget-view+json": {
       "model_id": "",
       "version_major": 2,
       "version_minor": 0
      },
      "text/plain": [
       "Create single label Dataset:   0%|          | 0/7666 [00:00<?, ?it/s]"
      ]
     },
     "metadata": {},
     "output_type": "display_data"
    },
    {
     "data": {
      "application/vnd.jupyter.widget-view+json": {
       "model_id": "",
       "version_major": 2,
       "version_minor": 0
      },
      "text/plain": [
       "Create single label Dataset:   0%|          | 0/30665 [00:00<?, ?it/s]"
      ]
     },
     "metadata": {},
     "output_type": "display_data"
    },
    {
     "data": {
      "application/vnd.jupyter.widget-view+json": {
       "model_id": "",
       "version_major": 2,
       "version_minor": 0
      },
      "text/plain": [
       "Create single label Dataset:   0%|          | 0/7666 [00:00<?, ?it/s]"
      ]
     },
     "metadata": {},
     "output_type": "display_data"
    },
    {
     "data": {
      "application/vnd.jupyter.widget-view+json": {
       "model_id": "",
       "version_major": 2,
       "version_minor": 0
      },
      "text/plain": [
       "  0%|          | 0/30 [00:00<?, ?it/s]"
      ]
     },
     "metadata": {},
     "output_type": "display_data"
    },
    {
     "name": "stdout",
     "output_type": "stream",
     "text": [
      "\tAverage Loss: 0.005313 \tLearning rate: 0.001000\n",
      "\tAverage Loss: 0.004392 \tLearning rate: 0.001000\n",
      "\tAverage Loss: 0.004015 \tLearning rate: 0.001000\n",
      "\tAverage Loss: 0.003769 \tLearning rate: 0.001000\n",
      "\tAverage Loss: 0.003577 \tLearning rate: 0.001000\n",
      "\tAverage Loss: 0.003400 \tLearning rate: 0.001000\n",
      "\tAverage Loss: 0.003277 \tLearning rate: 0.001000\n",
      "\tAverage Loss: 0.003163 \tLearning rate: 0.001000\n",
      "\tAverage Loss: 0.003075 \tLearning rate: 0.001000\n",
      "\tAverage Loss: 0.002973 \tLearning rate: 0.000500\n",
      "\tAverage Loss: 0.002715 \tLearning rate: 0.000500\n",
      "\tAverage Loss: 0.002658 \tLearning rate: 0.000500\n",
      "\tAverage Loss: 0.002595 \tLearning rate: 0.000500\n",
      "\tAverage Loss: 0.002557 \tLearning rate: 0.000500\n",
      "\tAverage Loss: 0.002504 \tLearning rate: 0.000500\n",
      "\tAverage Loss: 0.002472 \tLearning rate: 0.000500\n",
      "\tAverage Loss: 0.002419 \tLearning rate: 0.000500\n",
      "\tAverage Loss: 0.002393 \tLearning rate: 0.000500\n",
      "\tAverage Loss: 0.002337 \tLearning rate: 0.000500\n",
      "\tAverage Loss: 0.002317 \tLearning rate: 0.000250\n",
      "\tAverage Loss: 0.002152 \tLearning rate: 0.000250\n",
      "\tAverage Loss: 0.002121 \tLearning rate: 0.000250\n",
      "\tAverage Loss: 0.002093 \tLearning rate: 0.000250\n",
      "\tAverage Loss: 0.002067 \tLearning rate: 0.000250\n",
      "\tAverage Loss: 0.002040 \tLearning rate: 0.000250\n",
      "\tAverage Loss: 0.002021 \tLearning rate: 0.000250\n",
      "\tAverage Loss: 0.001988 \tLearning rate: 0.000250\n",
      "\tAverage Loss: 0.001967 \tLearning rate: 0.000250\n",
      "\tAverage Loss: 0.001952 \tLearning rate: 0.000250\n",
      "\tAverage Loss: 0.001922 \tLearning rate: 0.000125\n",
      "Finished Fold 4\n"
     ]
    },
    {
     "data": {
      "application/vnd.jupyter.widget-view+json": {
       "model_id": "",
       "version_major": 2,
       "version_minor": 0
      },
      "text/plain": [
       "Create single label Dataset:   0%|          | 0/7666 [00:00<?, ?it/s]"
      ]
     },
     "metadata": {},
     "output_type": "display_data"
    }
   ],
   "source": [
    "from torchmetrics.utilities.compute import auc\n",
    "from torchmetrics.classification import BinaryAUROC, BinaryPrecisionRecallCurve\n",
    "from maldi2resistance.data.ms_data import MS_Data_SingleAntibiotic\n",
    "from maldi2resistance.metric.PrecisionRecall import MultiLabelPRNan\n",
    "from pathlib import Path\n",
    "from maldi2resistance.metric.ROC import MultiLabelRocNan\n",
    "from maldi2resistance.loss.maskedLoss import MaskedBCE\n",
    "from tqdm.auto import tqdm\n",
    "import matplotlib.pyplot as plt\n",
    "import torch.nn.functional as F\n",
    "\n",
    "from torch.optim import Adam\n",
    "from torch.optim.lr_scheduler import StepLR\n",
    "\n",
    "print(\"Start training ...\")\n",
    "model.train()\n",
    "\n",
    "batch_size = 64\n",
    "fig_path = Path(f\"./{save_folder}/figures\")\n",
    "fig_path.mkdir(parents=True, exist_ok=True)\n",
    "csv_path = Path(f\"./{save_folder}/csv\")\n",
    "csv_path.mkdir(parents=True, exist_ok=True)\n",
    "\n",
    "loss_per_batch = []\n",
    "\n",
    "gen = torch.Generator()\n",
    "\n",
    "all_auc_roc_micro = []\n",
    "all_auc_pr_micro = []\n",
    "\n",
    "all_auc_roc_macro = []\n",
    "all_auc_pr_macro = []\n",
    "\n",
    "for fold, (train_data, test_data) in enumerate(ms_data.getK_fold(n_splits=5, shuffle=True, random_state= SEED)):\n",
    "    train_dataset_single_antibiotic = MS_Data_SingleAntibiotic(ms_data=train_data)\n",
    "    test_dataset_single_antibiotic = MS_Data_SingleAntibiotic(ms_data=test_data)\n",
    "    \n",
    "    train_loader = DataLoader(train_dataset_single_antibiotic, batch_size=batch_size, shuffle=True, drop_last=True, generator= gen.manual_seed(SEED))\n",
    "    test_loader = DataLoader(test_dataset_single_antibiotic, batch_size=len(test_dataset_single_antibiotic), shuffle=True, drop_last=True, generator= gen.manual_seed(SEED))\n",
    "    \n",
    "    model.load_state_dict(model_state)\n",
    "    model.train()\n",
    "    \n",
    "    optimizer = Adam(model.parameters(), lr=1e-3, amsgrad = True)\n",
    "    scheduler = StepLR(optimizer, step_size=10, gamma=0.5)\n",
    "\n",
    "    for epoch in tqdm(range(30), leave= False, position=1):\n",
    "        overall_loss = 0\n",
    "        \n",
    "        for batch_idx, (x, y, pos) in enumerate(train_loader):\n",
    "    \n",
    "            x = x.to(DEVICE)\n",
    "            y = y.to(DEVICE)\n",
    "            pos = pos.to(DEVICE)\n",
    "            \n",
    "            optimizer.zero_grad()\n",
    "    \n",
    "            output = model(x, pos)\n",
    "        \n",
    "            loss = F.binary_cross_entropy_with_logits(output, y)\n",
    "            current_loss_value = loss.item()\n",
    "            loss_per_batch.append(current_loss_value)\n",
    "            \n",
    "            overall_loss += current_loss_value\n",
    "            \n",
    "            loss.backward()\n",
    "            optimizer.step()\n",
    "    \n",
    "        scheduler.step()\n",
    "        with tqdm.external_write_mode():\n",
    "            print(f\"\\tAverage Loss: {overall_loss / (batch_idx*batch_size):.6f} \\tLearning rate: {scheduler.get_last_lr()[0]:.6f}\")\n",
    "        \n",
    "    print(f\"Finished Fold {fold}\")\n",
    "    \n",
    "    model.eval()\n",
    "    \n",
    "    DEVICE = torch.device(\"cpu\")\n",
    "    test_features, test_labels, test_pos = next(iter(test_loader))\n",
    "    test_features = test_features.to(DEVICE)\n",
    "    test_labels = test_labels.to(DEVICE)\n",
    "    test_pos = test_pos.to(DEVICE)\n",
    "    model = model.to(DEVICE)\n",
    "    \n",
    "    output = model(test_features, test_pos)\n",
    "    output = torch.squeeze(output)\n",
    "    \n",
    "    auRoc = BinaryAUROC()\n",
    "    auc_roc = auRoc(output, test_labels.int())\n",
    "    all_auc_roc_micro.append(auc_roc)\n",
    "    \n",
    "    metric = BinaryPrecisionRecallCurve()\n",
    "    metric.update(output, test_labels.int())\n",
    "    precision, recall, thresholds = metric.compute()\n",
    "    aucPC = auc(recall, precision)\n",
    "    \n",
    "    all_auc_pr_micro.append(aucPC)\n",
    "    \n",
    "    macro_aucroc = 0\n",
    "    macro_aucpr = 0\n",
    "    \n",
    "    n_not_empty = 0\n",
    "    \n",
    "    test_dataset_single_antibiotic = MS_Data_SingleAntibiotic(ms_data=test_data, use_morganFingerprint4Drug= False)\n",
    "    test_loader = DataLoader(test_dataset_single_antibiotic, batch_size=len(test_dataset_single_antibiotic), shuffle=True)\n",
    "    _, _, test_pos = next(iter(test_loader))\n",
    "    \n",
    "    outcome = []\n",
    "    for pos, antibiotic in enumerate(ms_data.selected_antibiotics):\n",
    "        out_part = output[test_pos == pos]\n",
    "        label_part = test_labels[test_pos == pos]\n",
    "        \n",
    "        occurrences = torch.bincount(label_part.int())\n",
    "        try:\n",
    "            if label_part.numel() == 0 or occurrences[1].item() == 0 or occurrences[0].item()== 0:\n",
    "                continue\n",
    "        except IndexError:\n",
    "            # no positives\n",
    "            continue\n",
    "        \n",
    "        au_roc = auRoc(out_part, label_part.int())\n",
    "        \n",
    "        metric.update(out_part, label_part.int())\n",
    "        precision, recall, thresholds = metric.compute()\n",
    "        aucPC = auc(recall, precision)\n",
    "        \n",
    "        n_not_empty +=1\n",
    "        macro_aucroc += au_roc.item()\n",
    "        macro_aucpr += aucPC.item()\n",
    "    \n",
    "        outcome.append({\n",
    "            'antibiotics': antibiotic,\n",
    "            'AUROC': au_roc.detach().item(),\n",
    "            'AUPRC': aucPC.detach().item(),\n",
    "            'Susceptible': occurrences[0].detach().item(),\n",
    "            'Resistance': occurrences[1].detach().item(),\n",
    "        })\n",
    "    pd.DataFrame().from_dict(outcome).to_csv(f\"{csv_path}/cv{fold}.csv\")\n",
    "        \n",
    "        \n",
    "    macro_aucroc = macro_aucroc / n_not_empty\n",
    "    macro_aucpr = macro_aucpr / n_not_empty\n",
    "    \n",
    "    all_auc_roc_macro.append(macro_aucroc)\n",
    "    all_auc_pr_macro.append(macro_aucpr)\n",
    "    DEVICE = torch.device(\"cuda\")\n",
    "    model = model.to(DEVICE)"
   ]
  },
  {
   "cell_type": "code",
   "execution_count": 7,
   "id": "b1367d7b-405a-4dec-99d9-9c0706831275",
   "metadata": {},
   "outputs": [
    {
     "name": "stdout",
     "output_type": "stream",
     "text": [
      "Mean\t: 0.9226457476615906\n",
      " SD \t: 0.0037608046550303698\n",
      "Mean\t: 0.8614680171012878\n",
      " SD \t: 0.005926158279180527\n"
     ]
    }
   ],
   "source": [
    "print(f\"Mean\\t: {np.mean([x.cpu() for x in all_auc_roc_micro])}\")\n",
    "print(f\" SD \\t: {np.std([x.cpu() for x in all_auc_roc_micro]) }\")\n",
    "print(f\"Mean\\t: {np.mean([x.cpu() for x in all_auc_pr_micro])}\")\n",
    "print(f\" SD \\t: {np.std([x.cpu() for x in all_auc_pr_micro]) }\")"
   ]
  },
  {
   "cell_type": "code",
   "execution_count": 8,
   "id": "17c792e7-d400-46b8-b715-087865fba603",
   "metadata": {},
   "outputs": [
    {
     "name": "stdout",
     "output_type": "stream",
     "text": [
      "Mean\t: 0.9232978133360545\n",
      " SD \t: 0.00341953552856399\n",
      "Mean\t: 0.8610860661665599\n",
      " SD \t: 0.006223688003158097\n"
     ]
    }
   ],
   "source": [
    "print(f\"Mean\\t: {np.mean([x for x in all_auc_roc_macro])}\")\n",
    "print(f\" SD \\t: {np.std([x for x in all_auc_roc_macro]) }\")\n",
    "print(f\"Mean\\t: {np.mean([x for x in all_auc_pr_macro])}\")\n",
    "print(f\" SD \\t: {np.std([x for x in all_auc_pr_macro]) }\")"
   ]
  },
  {
   "cell_type": "code",
   "execution_count": null,
   "id": "02f6776e-bef1-421b-84d0-a19b14615a7e",
   "metadata": {},
   "outputs": [],
   "source": []
  }
 ],
 "metadata": {
  "kernelspec": {
   "display_name": "Python 3 (ipykernel)",
   "language": "python",
   "name": "python3"
  },
  "language_info": {
   "codemirror_mode": {
    "name": "ipython",
    "version": 3
   },
   "file_extension": ".py",
   "mimetype": "text/x-python",
   "name": "python",
   "nbconvert_exporter": "python",
   "pygments_lexer": "ipython3",
   "version": "3.11.8"
  },
  "widgets": {
   "application/vnd.jupyter.widget-state+json": {
    "state": {},
    "version_major": 2,
    "version_minor": 0
   }
  }
 },
 "nbformat": 4,
 "nbformat_minor": 5
}
