{
 "cells": [
  {
   "cell_type": "markdown",
   "id": "3d89aed94233e3ff",
   "metadata": {},
   "source": [
    "# Fully connected feedforward network implementing a loss mask"
   ]
  },
  {
   "cell_type": "code",
   "execution_count": null,
   "id": "1eaaf570-0600-4d60-9fde-fcebcff3ce4c",
   "metadata": {},
   "outputs": [],
   "source": [
    "import torchmetrics.classification\n",
    "from torch import cuda\n",
    "assert cuda.is_available()\n",
    "assert cuda.device_count() > 0"
   ]
  },
  {
   "cell_type": "code",
   "execution_count": null,
   "id": "c7e50fb9-601f-425a-bf79-6441170b27dd",
   "metadata": {},
   "outputs": [
    {
     "name": "stdout",
     "output_type": "stream",
     "text": [
      "NVIDIA GeForce RTX 3060 Ti\n"
     ]
    }
   ],
   "source": [
    "print(cuda.get_device_name(cuda.current_device()))\n"
   ]
  },
  {
   "cell_type": "code",
   "execution_count": null,
   "id": "6c4b645f-6b5e-428e-855c-64b7e33ff874",
   "metadata": {},
   "outputs": [],
   "source": [
    "import torch\n",
    "import torch.nn as nn"
   ]
  },
  {
   "cell_type": "code",
   "execution_count": null,
   "id": "5e8a6650-ef2b-44f1-9ea8-78912b15e9a9",
   "metadata": {},
   "outputs": [
    {
     "data": {
      "text/plain": [
       "<torch._C.Generator at 0x7f87a3506fb0>"
      ]
     },
     "execution_count": null,
     "metadata": {},
     "output_type": "execute_result"
    }
   ],
   "source": [
    "DEVICE = torch.device(\"cuda\")\n",
    "SEED = 76436278\n",
    "\n",
    "torch.manual_seed(SEED)"
   ]
  },
  {
   "cell_type": "markdown",
   "id": "23b5a248-98cc-42cc-99b2-49bdd5ca1f35",
   "metadata": {},
   "source": [
    "### Load the Dataset"
   ]
  },
  {
   "cell_type": "code",
   "execution_count": null,
   "id": "7a00707ac6b2975",
   "metadata": {},
   "outputs": [
    {
     "name": "stderr",
     "output_type": "stream",
     "text": [
      "/home/jan/Uni/master/src/maldi2resistance/data/driams.py:86: UserWarning: Metafile for Site (DRIAMS-B) and Year (2015) combination not found!\n",
      "  warnings.warn(\n",
      "/home/jan/Uni/master/src/maldi2resistance/data/driams.py:86: UserWarning: Metafile for Site (DRIAMS-B) and Year (2016) combination not found!\n",
      "  warnings.warn(\n",
      "/home/jan/Uni/master/src/maldi2resistance/data/driams.py:86: UserWarning: Metafile for Site (DRIAMS-B) and Year (2017) combination not found!\n",
      "  warnings.warn(\n",
      "/home/jan/Uni/master/src/maldi2resistance/data/driams.py:86: UserWarning: Metafile for Site (DRIAMS-C) and Year (2015) combination not found!\n",
      "  warnings.warn(\n",
      "/home/jan/Uni/master/src/maldi2resistance/data/driams.py:86: UserWarning: Metafile for Site (DRIAMS-C) and Year (2016) combination not found!\n",
      "  warnings.warn(\n",
      "/home/jan/Uni/master/src/maldi2resistance/data/driams.py:86: UserWarning: Metafile for Site (DRIAMS-C) and Year (2017) combination not found!\n",
      "  warnings.warn(\n",
      "/home/jan/Uni/master/src/maldi2resistance/data/driams.py:86: UserWarning: Metafile for Site (DRIAMS-D) and Year (2015) combination not found!\n",
      "  warnings.warn(\n",
      "/home/jan/Uni/master/src/maldi2resistance/data/driams.py:86: UserWarning: Metafile for Site (DRIAMS-D) and Year (2016) combination not found!\n",
      "  warnings.warn(\n",
      "/home/jan/Uni/master/src/maldi2resistance/data/driams.py:86: UserWarning: Metafile for Site (DRIAMS-D) and Year (2017) combination not found!\n",
      "  warnings.warn(\n"
     ]
    },
    {
     "data": {
      "application/vnd.jupyter.widget-view+json": {
       "model_id": "a008997fa95947369ebae5d8298e4f4e",
       "version_major": 2,
       "version_minor": 0
      },
      "text/plain": [
       "Loading Spectra into Memory:   0%|          | 0/55780 [00:00<?, ?it/s]"
      ]
     },
     "metadata": {},
     "output_type": "display_data"
    },
    {
     "data": {
      "text/html": [
       "\n",
       "        <table>\n",
       "            <thead>\n",
       "                <tr>\n",
       "                    <th>Antibiotic:</th>\n",
       "                    <th> Amikacin </th><th> Amoxicillin-Clavulanic acid </th><th> Ampicillin </th><th> Ampicillin-Amoxicillin </th><th> Aztreonam </th><th> Benzylpenicillin </th><th> Cefazolin </th><th> Cefepime </th><th> Cefpodoxime </th><th> Ceftazidime </th><th> Ceftriaxone </th><th> Cefuroxime </th><th> Ciprofloxacin </th><th> Clarithromycin </th><th> Clindamycin </th><th> Colistin </th><th> Cotrimoxazole </th><th> Ertapenem </th><th> Erythromycin </th><th> Fosfomycin </th><th> Fosfomycin-Trometamol </th><th> Fusidic acid </th><th> Gentamicin </th><th> Imipenem </th><th> Levofloxacin </th><th> Meropenem </th><th> Mupirocin </th><th> Nitrofurantoin </th><th> Norfloxacin </th><th> Oxacillin </th><th> Penicillin </th><th> Piperacillin-Tazobactam </th><th> Polymyxin B </th><th> Rifampicin </th><th> Teicoplanin </th><th> Tetracycline </th><th> Tobramycin </th><th> Vancomycin </th>\n",
       "                </tr>\n",
       "            </thead>\n",
       "            <tbody>\n",
       "                <tr>\n",
       "                    <td>Number resistant:</td>\n",
       "                    <td> 1068 </td><td> 13366 </td><td> 8578 </td><td> 21966 </td><td> 628 </td><td> 618 </td><td> 4223 </td><td> 7383 </td><td> 2338 </td><td> 3470 </td><td> 8659 </td><td> 5855 </td><td> 9338 </td><td> 310 </td><td> 4381 </td><td> 2874 </td><td> 7405 </td><td> 427 </td><td> 5468 </td><td> 2303 </td><td> 1326 </td><td> 3620 </td><td> 3481 </td><td> 7560 </td><td> 4217 </td><td> 5194 </td><td> 570 </td><td> 1271 </td><td> 1205 </td><td> 5537 </td><td> 12431 </td><td> 7616 </td><td> 486 </td><td> 580 </td><td> 244 </td><td> 3534 </td><td> 1707 </td><td> 227 </td>\n",
       "                </tr>\n",
       "                <tr>\n",
       "                    <td>Number susceptible:</td>\n",
       "                    <td> 20941 </td><td> 24992 </td><td> 4194 </td><td> 4905 </td><td> 456 </td><td> 457 </td><td> 5813 </td><td> 31567 </td><td> 4382 </td><td> 24566 </td><td> 28464 </td><td> 8368 </td><td> 36822 </td><td> 1262 </td><td> 9841 </td><td> 15784 </td><td> 24590 </td><td> 21740 </td><td> 9044 </td><td> 10184 </td><td> 4803 </td><td> 8498 </td><td> 22662 </td><td> 31717 </td><td> 17989 </td><td> 27228 </td><td> 4656 </td><td> 3603 </td><td> 7031 </td><td> 7740 </td><td> 4286 </td><td> 31308 </td><td> 2305 </td><td> 14964 </td><td> 8486 </td><td> 10376 </td><td> 16809 </td><td> 20540 </td>\n",
       "                </tr>\n",
       "                <tr>\n",
       "                    <td>Number data points:</td>\n",
       "                    <td> 22009 </td><td> 38358 </td><td> 12772 </td><td> 26871 </td><td> 1084 </td><td> 1075 </td><td> 10036 </td><td> 38950 </td><td> 6720 </td><td> 28036 </td><td> 37123 </td><td> 14223 </td><td> 46160 </td><td> 1572 </td><td> 14222 </td><td> 18658 </td><td> 31995 </td><td> 22167 </td><td> 14512 </td><td> 12487 </td><td> 6129 </td><td> 12118 </td><td> 26143 </td><td> 39277 </td><td> 22206 </td><td> 32422 </td><td> 5226 </td><td> 4874 </td><td> 8236 </td><td> 13277 </td><td> 16717 </td><td> 38924 </td><td> 2791 </td><td> 15544 </td><td> 8730 </td><td> 13910 </td><td> 18516 </td><td> 20767 </td>\n",
       "                </tr>\n",
       "            </tbody>\n",
       "        </table>\n",
       "                "
      ],
      "text/plain": [
       "<src.maldi2resistance.data.driams.Driams at 0x7f876f991210>"
      ]
     },
     "execution_count": null,
     "metadata": {},
     "output_type": "execute_result"
    }
   ],
   "source": [
    "from src.maldi2resistance.data.driams import Driams\n",
    "\n",
    "driams = Driams(\n",
    "    root_dir=\"/home/jan/Uni/master/data/Driams\",\n",
    ")\n",
    "\n",
    "driams.loading_type = \"memory\"\n",
    "\n",
    "driams"
   ]
  },
  {
   "cell_type": "code",
   "execution_count": null,
   "id": "fbbd28ab5fd2a857",
   "metadata": {},
   "outputs": [
    {
     "data": {
      "text/plain": [
       "38"
      ]
     },
     "execution_count": null,
     "metadata": {},
     "output_type": "execute_result"
    }
   ],
   "source": [
    "len(driams.label_stats.columns)"
   ]
  },
  {
   "cell_type": "code",
   "execution_count": null,
   "id": "b81bd526-6a9c-4520-b121-9c01b4eb804a",
   "metadata": {},
   "outputs": [],
   "source": [
    "from maldi2resistance.model.dualBranch import DualBranchOneHot\n",
    "import copy\n",
    "from maldi2resistance.model.singleBranchMlp import SingleBranchMLP\n",
    "\n",
    "model = DualBranchOneHot( input_dim_spectrum= 18000, input_dim_drug= len(driams.selected_antibiotics))\n",
    "model = model.to(DEVICE)\n",
    "\n",
    "model_state = copy.deepcopy(model.state_dict()) "
   ]
  },
  {
   "cell_type": "code",
   "execution_count": null,
   "id": "e361914c-9fb8-4a94-bb2c-95a3b68cda0b",
   "metadata": {},
   "outputs": [],
   "source": [
    "from torch.utils.data import DataLoader"
   ]
  },
  {
   "cell_type": "code",
   "execution_count": null,
   "id": "a96643a0-bd63-437b-a676-f3a4a1826910",
   "metadata": {},
   "outputs": [
    {
     "name": "stdout",
     "output_type": "stream",
     "text": [
      "Start training ...\n"
     ]
    },
    {
     "data": {
      "application/vnd.jupyter.widget-view+json": {
       "model_id": "750d68f20f324594ba214a036223fc24",
       "version_major": 2,
       "version_minor": 0
      },
      "text/plain": [
       "Create single label Dataset:   0%|          | 0/44624 [00:00<?, ?it/s]"
      ]
     },
     "metadata": {},
     "output_type": "display_data"
    },
    {
     "data": {
      "application/vnd.jupyter.widget-view+json": {
       "model_id": "c94bb328059c42729f31ac8f5b3437a5",
       "version_major": 2,
       "version_minor": 0
      },
      "text/plain": [
       "Create single label Dataset:   0%|          | 0/11156 [00:00<?, ?it/s]"
      ]
     },
     "metadata": {},
     "output_type": "display_data"
    },
    {
     "data": {
      "application/vnd.jupyter.widget-view+json": {
       "model_id": "50a60156cf224616810bfc0e9eeb5c69",
       "version_major": 2,
       "version_minor": 0
      },
      "text/plain": [
       "  0%|          | 0/30 [00:00<?, ?it/s]"
      ]
     },
     "metadata": {},
     "output_type": "display_data"
    },
    {
     "name": "stdout",
     "output_type": "stream",
     "text": [
      "\tAverage Loss: 148.447481 \tLearning rate: 0.001000\n",
      "\tAverage Loss: 93.102000 \tLearning rate: 0.001000\n",
      "\tAverage Loss: 1887.965994 \tLearning rate: 0.001000\n",
      "\tAverage Loss: 3259.843283 \tLearning rate: 0.001000\n",
      "\tAverage Loss: 485.612477 \tLearning rate: 0.001000\n",
      "\tAverage Loss: 4.699589 \tLearning rate: 0.001000\n",
      "\tAverage Loss: 218.451229 \tLearning rate: 0.001000\n",
      "\tAverage Loss: 139.064096 \tLearning rate: 0.001000\n",
      "\tAverage Loss: 428.892707 \tLearning rate: 0.001000\n",
      "\tAverage Loss: 654.423848 \tLearning rate: 0.000500\n",
      "\tAverage Loss: 19.724870 \tLearning rate: 0.000500\n",
      "\tAverage Loss: 2.812002 \tLearning rate: 0.000500\n",
      "\tAverage Loss: 2.424202 \tLearning rate: 0.000500\n",
      "\tAverage Loss: 2.249009 \tLearning rate: 0.000500\n",
      "\tAverage Loss: 2.581475 \tLearning rate: 0.000500\n",
      "\tAverage Loss: 2.622135 \tLearning rate: 0.000500\n",
      "\tAverage Loss: 2.454060 \tLearning rate: 0.000500\n",
      "\tAverage Loss: 2.387503 \tLearning rate: 0.000500\n",
      "\tAverage Loss: 2.304877 \tLearning rate: 0.000500\n",
      "\tAverage Loss: 2.244080 \tLearning rate: 0.000250\n",
      "\tAverage Loss: 2.201482 \tLearning rate: 0.000250\n",
      "\tAverage Loss: 2.153728 \tLearning rate: 0.000250\n",
      "\tAverage Loss: 2.095317 \tLearning rate: 0.000250\n",
      "\tAverage Loss: 2.036166 \tLearning rate: 0.000250\n",
      "\tAverage Loss: 2.133481 \tLearning rate: 0.000250\n",
      "\tAverage Loss: 2.081515 \tLearning rate: 0.000250\n",
      "\tAverage Loss: 2.011551 \tLearning rate: 0.000250\n",
      "\tAverage Loss: 1.968471 \tLearning rate: 0.000250\n",
      "\tAverage Loss: 1.934668 \tLearning rate: 0.000250\n",
      "\tAverage Loss: 1.899115 \tLearning rate: 0.000125\n",
      "Finished Fold 0\n"
     ]
    },
    {
     "data": {
      "application/vnd.jupyter.widget-view+json": {
       "model_id": "b2f64fa574a1416099489caab740069c",
       "version_major": 2,
       "version_minor": 0
      },
      "text/plain": [
       "Create single label Dataset:   0%|          | 0/44624 [00:00<?, ?it/s]"
      ]
     },
     "metadata": {},
     "output_type": "display_data"
    },
    {
     "data": {
      "application/vnd.jupyter.widget-view+json": {
       "model_id": "1db1824f596e4c9e8b6e64859aa054a6",
       "version_major": 2,
       "version_minor": 0
      },
      "text/plain": [
       "Create single label Dataset:   0%|          | 0/11156 [00:00<?, ?it/s]"
      ]
     },
     "metadata": {},
     "output_type": "display_data"
    },
    {
     "data": {
      "application/vnd.jupyter.widget-view+json": {
       "model_id": "d9474b68baed493fbcf5bde2a0b92152",
       "version_major": 2,
       "version_minor": 0
      },
      "text/plain": [
       "  0%|          | 0/30 [00:00<?, ?it/s]"
      ]
     },
     "metadata": {},
     "output_type": "display_data"
    },
    {
     "name": "stdout",
     "output_type": "stream",
     "text": [
      "\tAverage Loss: 92.156180 \tLearning rate: 0.001000\n",
      "\tAverage Loss: 104.153304 \tLearning rate: 0.001000\n",
      "\tAverage Loss: 22.747265 \tLearning rate: 0.001000\n",
      "\tAverage Loss: 29.306089 \tLearning rate: 0.001000\n",
      "\tAverage Loss: 42.432945 \tLearning rate: 0.001000\n",
      "\tAverage Loss: 14.276404 \tLearning rate: 0.001000\n",
      "\tAverage Loss: 286.515749 \tLearning rate: 0.001000\n",
      "\tAverage Loss: 712.583538 \tLearning rate: 0.001000\n",
      "\tAverage Loss: 536.568741 \tLearning rate: 0.001000\n",
      "\tAverage Loss: 343.894724 \tLearning rate: 0.000500\n",
      "\tAverage Loss: 166.852997 \tLearning rate: 0.000500\n",
      "\tAverage Loss: 111.928305 \tLearning rate: 0.000500\n",
      "\tAverage Loss: 100.045232 \tLearning rate: 0.000500\n",
      "\tAverage Loss: 92.427112 \tLearning rate: 0.000500\n",
      "\tAverage Loss: 80.819885 \tLearning rate: 0.000500\n",
      "\tAverage Loss: 73.442439 \tLearning rate: 0.000500\n",
      "\tAverage Loss: 66.647311 \tLearning rate: 0.000500\n",
      "\tAverage Loss: 58.900851 \tLearning rate: 0.000500\n",
      "\tAverage Loss: 47.129283 \tLearning rate: 0.000500\n",
      "\tAverage Loss: 42.112546 \tLearning rate: 0.000250\n",
      "\tAverage Loss: 38.645922 \tLearning rate: 0.000250\n",
      "\tAverage Loss: 34.035459 \tLearning rate: 0.000250\n",
      "\tAverage Loss: 31.787786 \tLearning rate: 0.000250\n",
      "\tAverage Loss: 28.625326 \tLearning rate: 0.000250\n",
      "\tAverage Loss: 25.617618 \tLearning rate: 0.000250\n",
      "\tAverage Loss: 22.469347 \tLearning rate: 0.000250\n",
      "\tAverage Loss: 18.670834 \tLearning rate: 0.000250\n",
      "\tAverage Loss: 15.265521 \tLearning rate: 0.000250\n",
      "\tAverage Loss: 10.517775 \tLearning rate: 0.000250\n",
      "\tAverage Loss: 8.620881 \tLearning rate: 0.000125\n",
      "Finished Fold 1\n"
     ]
    },
    {
     "data": {
      "application/vnd.jupyter.widget-view+json": {
       "model_id": "8a6dad7c8406496faffcec28f4ccb923",
       "version_major": 2,
       "version_minor": 0
      },
      "text/plain": [
       "Create single label Dataset:   0%|          | 0/44624 [00:00<?, ?it/s]"
      ]
     },
     "metadata": {},
     "output_type": "display_data"
    },
    {
     "data": {
      "application/vnd.jupyter.widget-view+json": {
       "model_id": "489d2853cdc542a2995483fc835a8914",
       "version_major": 2,
       "version_minor": 0
      },
      "text/plain": [
       "Create single label Dataset:   0%|          | 0/11156 [00:00<?, ?it/s]"
      ]
     },
     "metadata": {},
     "output_type": "display_data"
    },
    {
     "data": {
      "application/vnd.jupyter.widget-view+json": {
       "model_id": "fe7836e81d56438e8a1ca6f7feea410c",
       "version_major": 2,
       "version_minor": 0
      },
      "text/plain": [
       "  0%|          | 0/30 [00:00<?, ?it/s]"
      ]
     },
     "metadata": {},
     "output_type": "display_data"
    },
    {
     "name": "stdout",
     "output_type": "stream",
     "text": [
      "\tAverage Loss: 486.110061 \tLearning rate: 0.001000\n",
      "\tAverage Loss: 398.972569 \tLearning rate: 0.001000\n",
      "\tAverage Loss: 10.376561 \tLearning rate: 0.001000\n",
      "\tAverage Loss: 0.211402 \tLearning rate: 0.001000\n",
      "\tAverage Loss: 0.229970 \tLearning rate: 0.001000\n",
      "\tAverage Loss: 0.181952 \tLearning rate: 0.001000\n",
      "\tAverage Loss: 0.167455 \tLearning rate: 0.001000\n",
      "\tAverage Loss: 0.160007 \tLearning rate: 0.001000\n",
      "\tAverage Loss: 0.155773 \tLearning rate: 0.001000\n",
      "\tAverage Loss: 0.173615 \tLearning rate: 0.000500\n",
      "\tAverage Loss: 0.156610 \tLearning rate: 0.000500\n",
      "\tAverage Loss: 0.156802 \tLearning rate: 0.000500\n",
      "\tAverage Loss: 0.153296 \tLearning rate: 0.000500\n",
      "\tAverage Loss: 0.210436 \tLearning rate: 0.000500\n",
      "\tAverage Loss: 0.165139 \tLearning rate: 0.000500\n",
      "\tAverage Loss: 0.152894 \tLearning rate: 0.000500\n",
      "\tAverage Loss: 0.151129 \tLearning rate: 0.000500\n",
      "\tAverage Loss: 0.152522 \tLearning rate: 0.000500\n",
      "\tAverage Loss: 0.150396 \tLearning rate: 0.000500\n",
      "\tAverage Loss: 0.152221 \tLearning rate: 0.000250\n",
      "\tAverage Loss: 0.148849 \tLearning rate: 0.000250\n",
      "\tAverage Loss: 0.148532 \tLearning rate: 0.000250\n",
      "\tAverage Loss: 0.150501 \tLearning rate: 0.000250\n",
      "\tAverage Loss: 0.149096 \tLearning rate: 0.000250\n",
      "\tAverage Loss: 0.148946 \tLearning rate: 0.000250\n",
      "\tAverage Loss: 0.146801 \tLearning rate: 0.000250\n",
      "\tAverage Loss: 0.145984 \tLearning rate: 0.000250\n",
      "\tAverage Loss: 0.142673 \tLearning rate: 0.000250\n",
      "\tAverage Loss: 0.146262 \tLearning rate: 0.000250\n",
      "\tAverage Loss: 0.149047 \tLearning rate: 0.000125\n",
      "Finished Fold 2\n"
     ]
    },
    {
     "data": {
      "application/vnd.jupyter.widget-view+json": {
       "model_id": "aa082f57370b49a3bc12a54cfdf0d3ae",
       "version_major": 2,
       "version_minor": 0
      },
      "text/plain": [
       "Create single label Dataset:   0%|          | 0/44624 [00:00<?, ?it/s]"
      ]
     },
     "metadata": {},
     "output_type": "display_data"
    },
    {
     "data": {
      "application/vnd.jupyter.widget-view+json": {
       "model_id": "56a49503fd5b438b8591ab003eec1418",
       "version_major": 2,
       "version_minor": 0
      },
      "text/plain": [
       "Create single label Dataset:   0%|          | 0/11156 [00:00<?, ?it/s]"
      ]
     },
     "metadata": {},
     "output_type": "display_data"
    },
    {
     "data": {
      "application/vnd.jupyter.widget-view+json": {
       "model_id": "70427f7325c54bc2acff1211e64ba577",
       "version_major": 2,
       "version_minor": 0
      },
      "text/plain": [
       "  0%|          | 0/30 [00:00<?, ?it/s]"
      ]
     },
     "metadata": {},
     "output_type": "display_data"
    },
    {
     "name": "stdout",
     "output_type": "stream",
     "text": [
      "\tAverage Loss: 74.177166 \tLearning rate: 0.001000\n",
      "\tAverage Loss: 58.231340 \tLearning rate: 0.001000\n",
      "\tAverage Loss: 34.672745 \tLearning rate: 0.001000\n",
      "\tAverage Loss: 26.688590 \tLearning rate: 0.001000\n",
      "\tAverage Loss: 19.504710 \tLearning rate: 0.001000\n",
      "\tAverage Loss: 13.190866 \tLearning rate: 0.001000\n",
      "\tAverage Loss: 1.097837 \tLearning rate: 0.001000\n",
      "\tAverage Loss: 0.775897 \tLearning rate: 0.001000\n",
      "\tAverage Loss: 0.311124 \tLearning rate: 0.001000\n",
      "\tAverage Loss: 0.300673 \tLearning rate: 0.000500\n",
      "\tAverage Loss: 0.298963 \tLearning rate: 0.000500\n",
      "\tAverage Loss: 0.297848 \tLearning rate: 0.000500\n",
      "\tAverage Loss: 0.297654 \tLearning rate: 0.000500\n",
      "\tAverage Loss: 0.296647 \tLearning rate: 0.000500\n",
      "\tAverage Loss: 0.296620 \tLearning rate: 0.000500\n",
      "\tAverage Loss: 0.295640 \tLearning rate: 0.000500\n",
      "\tAverage Loss: 0.295195 \tLearning rate: 0.000500\n",
      "\tAverage Loss: 0.294429 \tLearning rate: 0.000500\n",
      "\tAverage Loss: 0.293281 \tLearning rate: 0.000500\n",
      "\tAverage Loss: 0.293738 \tLearning rate: 0.000250\n",
      "\tAverage Loss: 0.293266 \tLearning rate: 0.000250\n",
      "\tAverage Loss: 0.293758 \tLearning rate: 0.000250\n",
      "\tAverage Loss: 0.293018 \tLearning rate: 0.000250\n",
      "\tAverage Loss: 0.292187 \tLearning rate: 0.000250\n",
      "\tAverage Loss: 0.292957 \tLearning rate: 0.000250\n",
      "\tAverage Loss: 0.292658 \tLearning rate: 0.000250\n",
      "\tAverage Loss: 0.292571 \tLearning rate: 0.000250\n",
      "\tAverage Loss: 0.292769 \tLearning rate: 0.000250\n",
      "\tAverage Loss: 0.292091 \tLearning rate: 0.000250\n",
      "\tAverage Loss: 0.291482 \tLearning rate: 0.000125\n",
      "Finished Fold 3\n"
     ]
    },
    {
     "data": {
      "application/vnd.jupyter.widget-view+json": {
       "model_id": "012575816b894f32b9a03fd519994fc8",
       "version_major": 2,
       "version_minor": 0
      },
      "text/plain": [
       "Create single label Dataset:   0%|          | 0/44624 [00:00<?, ?it/s]"
      ]
     },
     "metadata": {},
     "output_type": "display_data"
    },
    {
     "data": {
      "application/vnd.jupyter.widget-view+json": {
       "model_id": "e57960ff4085452497eed9a80a5880a5",
       "version_major": 2,
       "version_minor": 0
      },
      "text/plain": [
       "Create single label Dataset:   0%|          | 0/11156 [00:00<?, ?it/s]"
      ]
     },
     "metadata": {},
     "output_type": "display_data"
    },
    {
     "data": {
      "application/vnd.jupyter.widget-view+json": {
       "model_id": "f6a133c0581a4a958b48b3071f724e3b",
       "version_major": 2,
       "version_minor": 0
      },
      "text/plain": [
       "  0%|          | 0/30 [00:00<?, ?it/s]"
      ]
     },
     "metadata": {},
     "output_type": "display_data"
    },
    {
     "name": "stdout",
     "output_type": "stream",
     "text": [
      "\tAverage Loss: 77.575466 \tLearning rate: 0.001000\n",
      "\tAverage Loss: 107.021661 \tLearning rate: 0.001000\n",
      "\tAverage Loss: 25.351369 \tLearning rate: 0.001000\n",
      "\tAverage Loss: 46.052911 \tLearning rate: 0.001000\n",
      "\tAverage Loss: 16.382259 \tLearning rate: 0.001000\n",
      "\tAverage Loss: 51.996259 \tLearning rate: 0.001000\n",
      "\tAverage Loss: 46.735512 \tLearning rate: 0.001000\n",
      "\tAverage Loss: 44.475905 \tLearning rate: 0.001000\n",
      "\tAverage Loss: 40.595642 \tLearning rate: 0.001000\n",
      "\tAverage Loss: 113.588576 \tLearning rate: 0.000500\n",
      "\tAverage Loss: 171.120546 \tLearning rate: 0.000500\n",
      "\tAverage Loss: 120.182841 \tLearning rate: 0.000500\n",
      "\tAverage Loss: 74.216461 \tLearning rate: 0.000500\n",
      "\tAverage Loss: 67.340764 \tLearning rate: 0.000500\n",
      "\tAverage Loss: 63.405377 \tLearning rate: 0.000500\n",
      "\tAverage Loss: 58.711430 \tLearning rate: 0.000500\n",
      "\tAverage Loss: 32.671251 \tLearning rate: 0.000500\n",
      "\tAverage Loss: 21.736968 \tLearning rate: 0.000500\n",
      "\tAverage Loss: 17.166390 \tLearning rate: 0.000500\n",
      "\tAverage Loss: 16.434923 \tLearning rate: 0.000250\n",
      "\tAverage Loss: 15.870527 \tLearning rate: 0.000250\n",
      "\tAverage Loss: 15.506441 \tLearning rate: 0.000250\n",
      "\tAverage Loss: 15.170770 \tLearning rate: 0.000250\n",
      "\tAverage Loss: 14.598116 \tLearning rate: 0.000250\n",
      "\tAverage Loss: 14.433590 \tLearning rate: 0.000250\n",
      "\tAverage Loss: 13.990753 \tLearning rate: 0.000250\n",
      "\tAverage Loss: 14.158698 \tLearning rate: 0.000250\n",
      "\tAverage Loss: 13.910234 \tLearning rate: 0.000250\n",
      "\tAverage Loss: 13.060711 \tLearning rate: 0.000250\n",
      "\tAverage Loss: 12.226045 \tLearning rate: 0.000125\n",
      "Finished Fold 4\n"
     ]
    }
   ],
   "source": [
    "from maldi2resistance.loss.asymmetricLoss import AsymmetricLoss\n",
    "from torchmetrics.classification import BinaryAUROC, BinaryAveragePrecision\n",
    "from maldi2resistance.data.driams import DriamsSingleAntibiotic\n",
    "from maldi2resistance.metric.PrecisionRecall import MultiLabelPRNan\n",
    "from pathlib import Path\n",
    "from maldi2resistance.metric.ROC import MultiLabelRocNan\n",
    "from maldi2resistance.loss.maskedLoss import MaskedBCE\n",
    "from tqdm.auto import tqdm\n",
    "import matplotlib.pyplot as plt\n",
    "import torch.nn.functional as F\n",
    "\n",
    "from torch.optim import Adam\n",
    "from torch.optim.lr_scheduler import StepLR\n",
    "\n",
    "print(\"Start training ...\")\n",
    "model.train()\n",
    "\n",
    "batch_size = 128\n",
    "fig_path = Path(\"./kfold/figures\")\n",
    "fig_path.mkdir(parents=True, exist_ok=True)\n",
    "\n",
    "loss_per_batch = []\n",
    "\n",
    "gen = torch.Generator()\n",
    "\n",
    "all_auc_roc_micro = []\n",
    "all_auc_pr_micro = []\n",
    "\n",
    "all_auc_roc_macro = []\n",
    "all_auc_pr_macro = []\n",
    "\n",
    "for fold, (train_data, test_data) in enumerate(driams.getK_fold(n_splits=5, shuffle=True, random_state= SEED)):\n",
    "    \n",
    "    train_dataset_single_antibiotic = DriamsSingleAntibiotic(driams= train_data)\n",
    "    test_dataset_single_antibiotic = DriamsSingleAntibiotic(driams= test_data)\n",
    "    \n",
    "    train_loader = DataLoader(train_dataset_single_antibiotic, batch_size=batch_size, shuffle=True, drop_last=True, generator= gen.manual_seed(SEED))\n",
    "    test_loader = DataLoader(test_dataset_single_antibiotic, batch_size=len(test_dataset_single_antibiotic), shuffle=True, drop_last=True, generator= gen.manual_seed(SEED))\n",
    "    \n",
    "    model.load_state_dict(model_state)\n",
    "    model.train()\n",
    "    \n",
    "    optimizer = Adam(model.parameters(), lr=1e-3, amsgrad = True)\n",
    "    scheduler = StepLR(optimizer, step_size=10, gamma=0.5)\n",
    "    metric = AsymmetricLoss()\n",
    "\n",
    "    for epoch in tqdm(range(30), leave= False, position=1):\n",
    "        overall_loss = 0\n",
    "        \n",
    "        for batch_idx, (x, y, pos) in enumerate(train_loader):\n",
    "    \n",
    "            x = x.to(DEVICE)\n",
    "            y = y.to(DEVICE)\n",
    "            pos = pos.to(DEVICE)\n",
    "            \n",
    "            optimizer.zero_grad()\n",
    "    \n",
    "            output = model(x, pos)\n",
    "        \n",
    "            loss = metric(output, y)\n",
    "            current_loss_value = loss.item()\n",
    "            loss_per_batch.append(current_loss_value)\n",
    "            \n",
    "            overall_loss += current_loss_value\n",
    "            \n",
    "            loss.backward()\n",
    "            optimizer.step()\n",
    "    \n",
    "        scheduler.step()\n",
    "        with tqdm.external_write_mode():\n",
    "            print(f\"\\tAverage Loss: {overall_loss / (batch_idx*batch_size):.6f} \\tLearning rate: {scheduler.get_last_lr()[0]:.6f}\")\n",
    "    \n",
    "    \n",
    "    print(f\"Finished Fold {fold}\")\n",
    "    \n",
    "    model.eval()\n",
    "    \n",
    "    DEVICE = torch.device(\"cpu\")\n",
    "    test_features, test_labels, test_pos = next(iter(test_loader))\n",
    "    test_features = test_features.to(DEVICE)\n",
    "    test_labels = test_labels.to(DEVICE)\n",
    "    test_pos = test_pos.to(DEVICE)\n",
    "    model = model.to(DEVICE)\n",
    "    \n",
    "    output = model(test_features, test_pos)\n",
    "    \n",
    "    auRoc = BinaryAUROC()\n",
    "    auc_roc = auRoc(output, test_labels.int())\n",
    "    all_auc_roc_micro.append(auc_roc)\n",
    "    \n",
    "    auPR = BinaryAveragePrecision()\n",
    "    aucPC = auPR(output, test_labels.int())\n",
    "    all_auc_pr_micro.append(aucPC)\n",
    "    \n",
    "    macro_aucroc = 0\n",
    "    macro_aucpr = 0\n",
    "    \n",
    "    n_not_empty = 0\n",
    "    \n",
    "    for pos, antibiotic in enumerate(driams.selected_antibiotics):\n",
    "        out_part = output[test_pos == pos]\n",
    "        label_part = test_labels[test_pos == pos]\n",
    "        \n",
    "        occurrences = torch.bincount(label_part.int())\n",
    "\n",
    "        try:\n",
    "            if label_part.numel() == 0 or occurrences[1].item() == 0 or occurrences[0].item()== 0:\n",
    "                continue\n",
    "        except IndexError:\n",
    "            # no positives\n",
    "            continue\n",
    "        \n",
    "        auRoc = BinaryAUROC()\n",
    "        au_roc = auRoc(out_part, label_part.int())\n",
    "        \n",
    "        auPR = BinaryAveragePrecision()\n",
    "        aucPC = auPR(out_part, label_part.int())\n",
    "        \n",
    "        n_not_empty +=1\n",
    "        macro_aucroc += au_roc.item()\n",
    "        macro_aucpr += aucPC.item()\n",
    "        \n",
    "        \n",
    "    macro_aucroc = macro_aucroc / n_not_empty\n",
    "    macro_aucpr = macro_aucpr / n_not_empty\n",
    "    \n",
    "    all_auc_roc_macro.append(macro_aucroc)\n",
    "    all_auc_pr_macro.append(macro_aucpr)\n",
    "    \n",
    "    DEVICE = torch.device(\"cuda\")\n",
    "    model = model.to(DEVICE)\n",
    "    "
   ]
  },
  {
   "cell_type": "code",
   "execution_count": null,
   "id": "ebb9df2adbe214c3",
   "metadata": {},
   "outputs": [
    {
     "name": "stdout",
     "output_type": "stream",
     "text": [
      "Mean\t: 0.6829784512519836\n",
      " SD \t: 0.09357023239135742\n"
     ]
    }
   ],
   "source": [
    "import numpy as np\n",
    "\n",
    "print(f\"Mean\\t: {np.mean([x.cpu() for x in all_auc_roc_micro])}\")\n",
    "print(f\" SD \\t: {np.std([x.cpu() for x in all_auc_roc_micro]) }\")"
   ]
  },
  {
   "cell_type": "code",
   "execution_count": null,
   "id": "91fa4db5e2d4132d",
   "metadata": {},
   "outputs": [
    {
     "name": "stdout",
     "output_type": "stream",
     "text": [
      "Mean\t: 0.4856565594673157\n",
      " SD \t: 0.12486594915390015\n"
     ]
    }
   ],
   "source": [
    "print(f\"Mean\\t: {np.mean([x.cpu() for x in all_auc_pr_micro])}\")\n",
    "print(f\" SD \\t: {np.std([x.cpu() for x in all_auc_pr_micro]) }\")"
   ]
  },
  {
   "cell_type": "code",
   "execution_count": null,
   "id": "31265f000dbabc29",
   "metadata": {},
   "outputs": [
    {
     "name": "stdout",
     "output_type": "stream",
     "text": [
      "Mean\t: 0.5908076456698932\n",
      " SD \t: 0.05749029500469532\n"
     ]
    }
   ],
   "source": [
    "import numpy as np\n",
    "\n",
    "print(f\"Mean\\t: {np.mean([x for x in all_auc_roc_macro])}\")\n",
    "print(f\" SD \\t: {np.std([x for x in all_auc_roc_macro]) }\")"
   ]
  },
  {
   "cell_type": "code",
   "execution_count": null,
   "id": "c084823efeba666",
   "metadata": {},
   "outputs": [
    {
     "name": "stdout",
     "output_type": "stream",
     "text": [
      "Mean\t: 0.36621746913971087\n",
      " SD \t: 0.048557828012267525\n"
     ]
    }
   ],
   "source": [
    "print(f\"Mean\\t: {np.mean([x for x in all_auc_pr_macro])}\")\n",
    "print(f\" SD \\t: {np.std([x for x in all_auc_pr_macro]) }\")"
   ]
  }
 ],
 "metadata": {
  "kernelspec": {
   "display_name": "Python 3 (ipykernel)",
   "language": "python",
   "name": "python3"
  },
  "language_info": {
   "codemirror_mode": {
    "name": "ipython",
    "version": 3
   },
   "file_extension": ".py",
   "mimetype": "text/x-python",
   "name": "python",
   "nbconvert_exporter": "python",
   "pygments_lexer": "ipython3"
  },
  "widgets": {
   "application/vnd.jupyter.widget-state+json": {
    "state": {},
    "version_major": 2,
    "version_minor": 0
   }
  }
 },
 "nbformat": 4,
 "nbformat_minor": 5
}
