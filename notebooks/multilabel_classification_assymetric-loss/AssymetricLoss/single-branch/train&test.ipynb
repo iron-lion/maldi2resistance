{
 "cells": [
  {
   "cell_type": "markdown",
   "id": "3d89aed94233e3ff",
   "metadata": {},
   "source": [
    "# Fully connected feedforward network implementing a loss mask"
   ]
  },
  {
   "cell_type": "code",
   "execution_count": null,
   "id": "1eaaf570-0600-4d60-9fde-fcebcff3ce4c",
   "metadata": {},
   "outputs": [],
   "source": [
    "import torchmetrics.classification\n",
    "from torch import cuda\n",
    "assert cuda.is_available()\n",
    "assert cuda.device_count() > 0"
   ]
  },
  {
   "cell_type": "code",
   "execution_count": null,
   "id": "c7e50fb9-601f-425a-bf79-6441170b27dd",
   "metadata": {},
   "outputs": [
    {
     "name": "stdout",
     "output_type": "stream",
     "text": [
      "NVIDIA GeForce RTX 3060 Ti\n"
     ]
    }
   ],
   "source": [
    "print(cuda.get_device_name(cuda.current_device()))\n"
   ]
  },
  {
   "cell_type": "code",
   "execution_count": null,
   "id": "6c4b645f-6b5e-428e-855c-64b7e33ff874",
   "metadata": {},
   "outputs": [],
   "source": [
    "import torch\n",
    "import torch.nn as nn"
   ]
  },
  {
   "cell_type": "code",
   "execution_count": null,
   "id": "5e8a6650-ef2b-44f1-9ea8-78912b15e9a9",
   "metadata": {},
   "outputs": [
    {
     "data": {
      "text/plain": [
       "<torch._C.Generator at 0x7fcd00326fb0>"
      ]
     },
     "execution_count": null,
     "metadata": {},
     "output_type": "execute_result"
    }
   ],
   "source": [
    "DEVICE = torch.device(\"cuda\")\n",
    "SEED = 76436278\n",
    "\n",
    "torch.manual_seed(SEED)"
   ]
  },
  {
   "cell_type": "markdown",
   "id": "23b5a248-98cc-42cc-99b2-49bdd5ca1f35",
   "metadata": {},
   "source": [
    "### Load the Dataset"
   ]
  },
  {
   "cell_type": "code",
   "execution_count": null,
   "id": "7a00707ac6b2975",
   "metadata": {},
   "outputs": [
    {
     "name": "stderr",
     "output_type": "stream",
     "text": [
      "/home/jan/Uni/master/src/maldi2resistance/data/driams.py:86: UserWarning: Metafile for Site (DRIAMS-B) and Year (2015) combination not found!\n",
      "  warnings.warn(\n",
      "/home/jan/Uni/master/src/maldi2resistance/data/driams.py:86: UserWarning: Metafile for Site (DRIAMS-B) and Year (2016) combination not found!\n",
      "  warnings.warn(\n",
      "/home/jan/Uni/master/src/maldi2resistance/data/driams.py:86: UserWarning: Metafile for Site (DRIAMS-B) and Year (2017) combination not found!\n",
      "  warnings.warn(\n",
      "/home/jan/Uni/master/src/maldi2resistance/data/driams.py:86: UserWarning: Metafile for Site (DRIAMS-C) and Year (2015) combination not found!\n",
      "  warnings.warn(\n",
      "/home/jan/Uni/master/src/maldi2resistance/data/driams.py:86: UserWarning: Metafile for Site (DRIAMS-C) and Year (2016) combination not found!\n",
      "  warnings.warn(\n",
      "/home/jan/Uni/master/src/maldi2resistance/data/driams.py:86: UserWarning: Metafile for Site (DRIAMS-C) and Year (2017) combination not found!\n",
      "  warnings.warn(\n",
      "/home/jan/Uni/master/src/maldi2resistance/data/driams.py:86: UserWarning: Metafile for Site (DRIAMS-D) and Year (2015) combination not found!\n",
      "  warnings.warn(\n",
      "/home/jan/Uni/master/src/maldi2resistance/data/driams.py:86: UserWarning: Metafile for Site (DRIAMS-D) and Year (2016) combination not found!\n",
      "  warnings.warn(\n",
      "/home/jan/Uni/master/src/maldi2resistance/data/driams.py:86: UserWarning: Metafile for Site (DRIAMS-D) and Year (2017) combination not found!\n",
      "  warnings.warn(\n"
     ]
    },
    {
     "data": {
      "application/vnd.jupyter.widget-view+json": {
       "model_id": "d2713694f7074d8aba27893f5a3c7b52",
       "version_major": 2,
       "version_minor": 0
      },
      "text/plain": [
       "Loading Spectra into Memory:   0%|          | 0/55780 [00:00<?, ?it/s]"
      ]
     },
     "metadata": {},
     "output_type": "display_data"
    },
    {
     "data": {
      "text/html": [
       "\n",
       "        <table>\n",
       "            <thead>\n",
       "                <tr>\n",
       "                    <th>Antibiotic:</th>\n",
       "                    <th> Amikacin </th><th> Amoxicillin-Clavulanic acid </th><th> Ampicillin </th><th> Ampicillin-Amoxicillin </th><th> Aztreonam </th><th> Benzylpenicillin </th><th> Cefazolin </th><th> Cefepime </th><th> Cefpodoxime </th><th> Ceftazidime </th><th> Ceftriaxone </th><th> Cefuroxime </th><th> Ciprofloxacin </th><th> Clarithromycin </th><th> Clindamycin </th><th> Colistin </th><th> Cotrimoxazole </th><th> Ertapenem </th><th> Erythromycin </th><th> Fosfomycin </th><th> Fosfomycin-Trometamol </th><th> Fusidic acid </th><th> Gentamicin </th><th> Imipenem </th><th> Levofloxacin </th><th> Meropenem </th><th> Mupirocin </th><th> Nitrofurantoin </th><th> Norfloxacin </th><th> Oxacillin </th><th> Penicillin </th><th> Piperacillin-Tazobactam </th><th> Polymyxin B </th><th> Rifampicin </th><th> Teicoplanin </th><th> Tetracycline </th><th> Tobramycin </th><th> Vancomycin </th>\n",
       "                </tr>\n",
       "            </thead>\n",
       "            <tbody>\n",
       "                <tr>\n",
       "                    <td>Number resistant:</td>\n",
       "                    <td> 1068 </td><td> 13366 </td><td> 8578 </td><td> 21966 </td><td> 628 </td><td> 618 </td><td> 4223 </td><td> 7383 </td><td> 2338 </td><td> 3470 </td><td> 8659 </td><td> 5855 </td><td> 9338 </td><td> 310 </td><td> 4381 </td><td> 2874 </td><td> 7405 </td><td> 427 </td><td> 5468 </td><td> 2303 </td><td> 1326 </td><td> 3620 </td><td> 3481 </td><td> 7560 </td><td> 4217 </td><td> 5194 </td><td> 570 </td><td> 1271 </td><td> 1205 </td><td> 5537 </td><td> 12431 </td><td> 7616 </td><td> 486 </td><td> 580 </td><td> 244 </td><td> 3534 </td><td> 1707 </td><td> 227 </td>\n",
       "                </tr>\n",
       "                <tr>\n",
       "                    <td>Number susceptible:</td>\n",
       "                    <td> 20941 </td><td> 24992 </td><td> 4194 </td><td> 4905 </td><td> 456 </td><td> 457 </td><td> 5813 </td><td> 31567 </td><td> 4382 </td><td> 24566 </td><td> 28464 </td><td> 8368 </td><td> 36822 </td><td> 1262 </td><td> 9841 </td><td> 15784 </td><td> 24590 </td><td> 21740 </td><td> 9044 </td><td> 10184 </td><td> 4803 </td><td> 8498 </td><td> 22662 </td><td> 31717 </td><td> 17989 </td><td> 27228 </td><td> 4656 </td><td> 3603 </td><td> 7031 </td><td> 7740 </td><td> 4286 </td><td> 31308 </td><td> 2305 </td><td> 14964 </td><td> 8486 </td><td> 10376 </td><td> 16809 </td><td> 20540 </td>\n",
       "                </tr>\n",
       "                <tr>\n",
       "                    <td>Number data points:</td>\n",
       "                    <td> 22009 </td><td> 38358 </td><td> 12772 </td><td> 26871 </td><td> 1084 </td><td> 1075 </td><td> 10036 </td><td> 38950 </td><td> 6720 </td><td> 28036 </td><td> 37123 </td><td> 14223 </td><td> 46160 </td><td> 1572 </td><td> 14222 </td><td> 18658 </td><td> 31995 </td><td> 22167 </td><td> 14512 </td><td> 12487 </td><td> 6129 </td><td> 12118 </td><td> 26143 </td><td> 39277 </td><td> 22206 </td><td> 32422 </td><td> 5226 </td><td> 4874 </td><td> 8236 </td><td> 13277 </td><td> 16717 </td><td> 38924 </td><td> 2791 </td><td> 15544 </td><td> 8730 </td><td> 13910 </td><td> 18516 </td><td> 20767 </td>\n",
       "                </tr>\n",
       "            </tbody>\n",
       "        </table>\n",
       "                "
      ],
      "text/plain": [
       "<src.maldi2resistance.data.driams.Driams at 0x7fcc74a31b90>"
      ]
     },
     "execution_count": null,
     "metadata": {},
     "output_type": "execute_result"
    }
   ],
   "source": [
    "from src.maldi2resistance.data.driams import Driams\n",
    "\n",
    "driams = Driams(\n",
    "    root_dir=\"/home/jan/Uni/master/data/Driams\",\n",
    ")\n",
    "\n",
    "driams.loading_type = \"memory\"\n",
    "\n",
    "driams"
   ]
  },
  {
   "cell_type": "code",
   "execution_count": null,
   "id": "fbbd28ab5fd2a857",
   "metadata": {},
   "outputs": [
    {
     "data": {
      "text/plain": [
       "38"
      ]
     },
     "execution_count": null,
     "metadata": {},
     "output_type": "execute_result"
    }
   ],
   "source": [
    "len(driams.label_stats.columns)"
   ]
  },
  {
   "cell_type": "code",
   "execution_count": null,
   "id": "b81bd526-6a9c-4520-b121-9c01b4eb804a",
   "metadata": {},
   "outputs": [],
   "source": [
    "import copy\n",
    "from maldi2resistance.model.singleBranchMlp import SingleBranchMLP\n",
    "\n",
    "model = SingleBranchMLP( input_dim= 18000, output_dim= len(driams.selected_antibiotics))\n",
    "model = model.to(DEVICE)\n",
    "\n",
    "model_state = copy.deepcopy(model.state_dict()) "
   ]
  },
  {
   "cell_type": "code",
   "execution_count": null,
   "id": "c3b6d4e981aff4d0",
   "metadata": {},
   "outputs": [
    {
     "name": "stdout",
     "output_type": "stream",
     "text": [
      "==========================================================================================\n",
      "Layer (type:depth-idx)                   Output Shape              Param #\n",
      "==========================================================================================\n",
      "SingleBranchMLP                          [1, 38]                   --\n",
      "├─Sequential: 1-1                        [1, 38]                   --\n",
      "│    └─Linear: 2-1                       [1, 512]                  9,216,512\n",
      "│    └─GELU: 2-2                         [1, 512]                  --\n",
      "│    └─Dropout: 2-3                      [1, 512]                  --\n",
      "│    └─LayerNorm: 2-4                    [1, 512]                  1,024\n",
      "│    └─Linear: 2-5                       [1, 256]                  131,328\n",
      "│    └─GELU: 2-6                         [1, 256]                  --\n",
      "│    └─Dropout: 2-7                      [1, 256]                  --\n",
      "│    └─LayerNorm: 2-8                    [1, 256]                  512\n",
      "│    └─Linear: 2-9                       [1, 128]                  32,896\n",
      "│    └─GELU: 2-10                        [1, 128]                  --\n",
      "│    └─Dropout: 2-11                     [1, 128]                  --\n",
      "│    └─LayerNorm: 2-12                   [1, 128]                  256\n",
      "│    └─Linear: 2-13                      [1, 38]                   4,902\n",
      "==========================================================================================\n",
      "Total params: 9,387,430\n",
      "Trainable params: 9,387,430\n",
      "Non-trainable params: 0\n",
      "Total mult-adds (Units.MEGABYTES): 9.39\n",
      "==========================================================================================\n",
      "Input size (MB): 0.07\n",
      "Forward/backward pass size (MB): 0.01\n",
      "Params size (MB): 37.55\n",
      "Estimated Total Size (MB): 37.64\n",
      "==========================================================================================\n"
     ]
    }
   ],
   "source": [
    "from torchinfo import summary\n",
    "\n",
    "print(summary(model, input_data=torch.zeros((1,18000)).to(DEVICE)))"
   ]
  },
  {
   "cell_type": "code",
   "execution_count": null,
   "id": "e361914c-9fb8-4a94-bb2c-95a3b68cda0b",
   "metadata": {},
   "outputs": [],
   "source": [
    "from torch.utils.data import DataLoader"
   ]
  },
  {
   "cell_type": "code",
   "execution_count": null,
   "id": "a96643a0-bd63-437b-a676-f3a4a1826910",
   "metadata": {},
   "outputs": [
    {
     "name": "stdout",
     "output_type": "stream",
     "text": [
      "Start training ...\n"
     ]
    },
    {
     "data": {
      "application/vnd.jupyter.widget-view+json": {
       "model_id": "daa2f7bcefde4a34976520fd77b1ce7f",
       "version_major": 2,
       "version_minor": 0
      },
      "text/plain": [
       "  0%|          | 0/30 [00:00<?, ?it/s]"
      ]
     },
     "metadata": {},
     "output_type": "display_data"
    },
    {
     "name": "stdout",
     "output_type": "stream",
     "text": [
      "\tAverage Loss: 0.966885 \tLearning rate: 0.001000\n",
      "\tAverage Loss: 0.813091 \tLearning rate: 0.001000\n",
      "\tAverage Loss: 0.774205 \tLearning rate: 0.001000\n",
      "\tAverage Loss: 0.744872 \tLearning rate: 0.001000\n",
      "\tAverage Loss: 0.716957 \tLearning rate: 0.001000\n",
      "\tAverage Loss: 0.696193 \tLearning rate: 0.001000\n",
      "\tAverage Loss: 0.680086 \tLearning rate: 0.001000\n",
      "\tAverage Loss: 0.666550 \tLearning rate: 0.001000\n",
      "\tAverage Loss: 0.660815 \tLearning rate: 0.001000\n",
      "\tAverage Loss: 0.640449 \tLearning rate: 0.000500\n",
      "\tAverage Loss: 0.606576 \tLearning rate: 0.000500\n",
      "\tAverage Loss: 0.596344 \tLearning rate: 0.000500\n",
      "\tAverage Loss: 0.582541 \tLearning rate: 0.000500\n",
      "\tAverage Loss: 0.579889 \tLearning rate: 0.000500\n",
      "\tAverage Loss: 0.571993 \tLearning rate: 0.000500\n",
      "\tAverage Loss: 0.564334 \tLearning rate: 0.000500\n",
      "\tAverage Loss: 0.558652 \tLearning rate: 0.000500\n",
      "\tAverage Loss: 0.556793 \tLearning rate: 0.000500\n",
      "\tAverage Loss: 0.545536 \tLearning rate: 0.000500\n",
      "\tAverage Loss: 0.539553 \tLearning rate: 0.000250\n",
      "\tAverage Loss: 0.510107 \tLearning rate: 0.000250\n",
      "\tAverage Loss: 0.499532 \tLearning rate: 0.000250\n",
      "\tAverage Loss: 0.496520 \tLearning rate: 0.000250\n",
      "\tAverage Loss: 0.494776 \tLearning rate: 0.000250\n",
      "\tAverage Loss: 0.486335 \tLearning rate: 0.000250\n",
      "\tAverage Loss: 0.489342 \tLearning rate: 0.000250\n",
      "\tAverage Loss: 0.482309 \tLearning rate: 0.000250\n",
      "\tAverage Loss: 0.471307 \tLearning rate: 0.000250\n",
      "\tAverage Loss: 0.470753 \tLearning rate: 0.000250\n",
      "\tAverage Loss: 0.469628 \tLearning rate: 0.000125\n",
      "Finished Fold 0\n"
     ]
    },
    {
     "data": {
      "application/vnd.jupyter.widget-view+json": {
       "model_id": "362b2295f5124c4aa661ca86835cb593",
       "version_major": 2,
       "version_minor": 0
      },
      "text/plain": [
       "  0%|          | 0/30 [00:00<?, ?it/s]"
      ]
     },
     "metadata": {},
     "output_type": "display_data"
    },
    {
     "name": "stdout",
     "output_type": "stream",
     "text": [
      "\tAverage Loss: 0.964183 \tLearning rate: 0.001000\n",
      "\tAverage Loss: 0.811396 \tLearning rate: 0.001000\n",
      "\tAverage Loss: 0.766032 \tLearning rate: 0.001000\n",
      "\tAverage Loss: 0.734811 \tLearning rate: 0.001000\n",
      "\tAverage Loss: 0.719692 \tLearning rate: 0.001000\n",
      "\tAverage Loss: 0.697253 \tLearning rate: 0.001000\n",
      "\tAverage Loss: 0.689385 \tLearning rate: 0.001000\n",
      "\tAverage Loss: 0.669050 \tLearning rate: 0.001000\n",
      "\tAverage Loss: 0.657856 \tLearning rate: 0.001000\n",
      "\tAverage Loss: 0.644109 \tLearning rate: 0.000500\n",
      "\tAverage Loss: 0.611141 \tLearning rate: 0.000500\n",
      "\tAverage Loss: 0.598690 \tLearning rate: 0.000500\n",
      "\tAverage Loss: 0.589562 \tLearning rate: 0.000500\n",
      "\tAverage Loss: 0.576896 \tLearning rate: 0.000500\n",
      "\tAverage Loss: 0.575818 \tLearning rate: 0.000500\n",
      "\tAverage Loss: 0.569853 \tLearning rate: 0.000500\n",
      "\tAverage Loss: 0.560876 \tLearning rate: 0.000500\n",
      "\tAverage Loss: 0.547750 \tLearning rate: 0.000500\n",
      "\tAverage Loss: 0.549703 \tLearning rate: 0.000500\n",
      "\tAverage Loss: 0.542982 \tLearning rate: 0.000250\n",
      "\tAverage Loss: 0.515853 \tLearning rate: 0.000250\n",
      "\tAverage Loss: 0.507642 \tLearning rate: 0.000250\n",
      "\tAverage Loss: 0.503621 \tLearning rate: 0.000250\n",
      "\tAverage Loss: 0.493821 \tLearning rate: 0.000250\n",
      "\tAverage Loss: 0.493234 \tLearning rate: 0.000250\n",
      "\tAverage Loss: 0.484827 \tLearning rate: 0.000250\n",
      "\tAverage Loss: 0.483364 \tLearning rate: 0.000250\n",
      "\tAverage Loss: 0.482080 \tLearning rate: 0.000250\n",
      "\tAverage Loss: 0.471640 \tLearning rate: 0.000250\n",
      "\tAverage Loss: 0.477449 \tLearning rate: 0.000125\n",
      "Finished Fold 1\n"
     ]
    },
    {
     "data": {
      "application/vnd.jupyter.widget-view+json": {
       "model_id": "a9ff5db8904b4a3ab9d28e74d66d94d9",
       "version_major": 2,
       "version_minor": 0
      },
      "text/plain": [
       "  0%|          | 0/30 [00:00<?, ?it/s]"
      ]
     },
     "metadata": {},
     "output_type": "display_data"
    },
    {
     "name": "stdout",
     "output_type": "stream",
     "text": [
      "\tAverage Loss: 0.959463 \tLearning rate: 0.001000\n",
      "\tAverage Loss: 0.810404 \tLearning rate: 0.001000\n",
      "\tAverage Loss: 0.771605 \tLearning rate: 0.001000\n",
      "\tAverage Loss: 0.739027 \tLearning rate: 0.001000\n",
      "\tAverage Loss: 0.719869 \tLearning rate: 0.001000\n",
      "\tAverage Loss: 0.705216 \tLearning rate: 0.001000\n",
      "\tAverage Loss: 0.685003 \tLearning rate: 0.001000\n",
      "\tAverage Loss: 0.672421 \tLearning rate: 0.001000\n",
      "\tAverage Loss: 0.659272 \tLearning rate: 0.001000\n",
      "\tAverage Loss: 0.647694 \tLearning rate: 0.000500\n",
      "\tAverage Loss: 0.611573 \tLearning rate: 0.000500\n",
      "\tAverage Loss: 0.596812 \tLearning rate: 0.000500\n",
      "\tAverage Loss: 0.589870 \tLearning rate: 0.000500\n",
      "\tAverage Loss: 0.582205 \tLearning rate: 0.000500\n",
      "\tAverage Loss: 0.572366 \tLearning rate: 0.000500\n",
      "\tAverage Loss: 0.569149 \tLearning rate: 0.000500\n",
      "\tAverage Loss: 0.559153 \tLearning rate: 0.000500\n",
      "\tAverage Loss: 0.552231 \tLearning rate: 0.000500\n",
      "\tAverage Loss: 0.546557 \tLearning rate: 0.000500\n",
      "\tAverage Loss: 0.544498 \tLearning rate: 0.000250\n",
      "\tAverage Loss: 0.512997 \tLearning rate: 0.000250\n",
      "\tAverage Loss: 0.510795 \tLearning rate: 0.000250\n",
      "\tAverage Loss: 0.500079 \tLearning rate: 0.000250\n",
      "\tAverage Loss: 0.496318 \tLearning rate: 0.000250\n",
      "\tAverage Loss: 0.490073 \tLearning rate: 0.000250\n",
      "\tAverage Loss: 0.489876 \tLearning rate: 0.000250\n",
      "\tAverage Loss: 0.482621 \tLearning rate: 0.000250\n",
      "\tAverage Loss: 0.477944 \tLearning rate: 0.000250\n",
      "\tAverage Loss: 0.474000 \tLearning rate: 0.000250\n",
      "\tAverage Loss: 0.467963 \tLearning rate: 0.000125\n",
      "Finished Fold 2\n"
     ]
    },
    {
     "data": {
      "application/vnd.jupyter.widget-view+json": {
       "model_id": "500c593b0ba340f084213b605267bbd7",
       "version_major": 2,
       "version_minor": 0
      },
      "text/plain": [
       "  0%|          | 0/30 [00:00<?, ?it/s]"
      ]
     },
     "metadata": {},
     "output_type": "display_data"
    },
    {
     "name": "stdout",
     "output_type": "stream",
     "text": [
      "\tAverage Loss: 0.962802 \tLearning rate: 0.001000\n",
      "\tAverage Loss: 0.808297 \tLearning rate: 0.001000\n",
      "\tAverage Loss: 0.770110 \tLearning rate: 0.001000\n",
      "\tAverage Loss: 0.737073 \tLearning rate: 0.001000\n",
      "\tAverage Loss: 0.715456 \tLearning rate: 0.001000\n",
      "\tAverage Loss: 0.695935 \tLearning rate: 0.001000\n",
      "\tAverage Loss: 0.676981 \tLearning rate: 0.001000\n",
      "\tAverage Loss: 0.670249 \tLearning rate: 0.001000\n",
      "\tAverage Loss: 0.653473 \tLearning rate: 0.001000\n",
      "\tAverage Loss: 0.650115 \tLearning rate: 0.000500\n",
      "\tAverage Loss: 0.607648 \tLearning rate: 0.000500\n",
      "\tAverage Loss: 0.594189 \tLearning rate: 0.000500\n",
      "\tAverage Loss: 0.589106 \tLearning rate: 0.000500\n",
      "\tAverage Loss: 0.582350 \tLearning rate: 0.000500\n",
      "\tAverage Loss: 0.571027 \tLearning rate: 0.000500\n",
      "\tAverage Loss: 0.571032 \tLearning rate: 0.000500\n",
      "\tAverage Loss: 0.562945 \tLearning rate: 0.000500\n",
      "\tAverage Loss: 0.552683 \tLearning rate: 0.000500\n",
      "\tAverage Loss: 0.546921 \tLearning rate: 0.000500\n",
      "\tAverage Loss: 0.537419 \tLearning rate: 0.000250\n",
      "\tAverage Loss: 0.516312 \tLearning rate: 0.000250\n",
      "\tAverage Loss: 0.503987 \tLearning rate: 0.000250\n",
      "\tAverage Loss: 0.500993 \tLearning rate: 0.000250\n",
      "\tAverage Loss: 0.496763 \tLearning rate: 0.000250\n",
      "\tAverage Loss: 0.493690 \tLearning rate: 0.000250\n",
      "\tAverage Loss: 0.486265 \tLearning rate: 0.000250\n",
      "\tAverage Loss: 0.485162 \tLearning rate: 0.000250\n",
      "\tAverage Loss: 0.481242 \tLearning rate: 0.000250\n",
      "\tAverage Loss: 0.472221 \tLearning rate: 0.000250\n",
      "\tAverage Loss: 0.475358 \tLearning rate: 0.000125\n",
      "Finished Fold 3\n"
     ]
    },
    {
     "data": {
      "application/vnd.jupyter.widget-view+json": {
       "model_id": "212a4aee3e5b4d4d8eaa9888087a0024",
       "version_major": 2,
       "version_minor": 0
      },
      "text/plain": [
       "  0%|          | 0/30 [00:00<?, ?it/s]"
      ]
     },
     "metadata": {},
     "output_type": "display_data"
    },
    {
     "name": "stdout",
     "output_type": "stream",
     "text": [
      "\tAverage Loss: 0.963313 \tLearning rate: 0.001000\n",
      "\tAverage Loss: 0.815284 \tLearning rate: 0.001000\n",
      "\tAverage Loss: 0.770452 \tLearning rate: 0.001000\n",
      "\tAverage Loss: 0.738039 \tLearning rate: 0.001000\n",
      "\tAverage Loss: 0.719154 \tLearning rate: 0.001000\n",
      "\tAverage Loss: 0.700497 \tLearning rate: 0.001000\n",
      "\tAverage Loss: 0.689994 \tLearning rate: 0.001000\n",
      "\tAverage Loss: 0.668365 \tLearning rate: 0.001000\n",
      "\tAverage Loss: 0.663919 \tLearning rate: 0.001000\n",
      "\tAverage Loss: 0.648544 \tLearning rate: 0.000500\n",
      "\tAverage Loss: 0.610932 \tLearning rate: 0.000500\n",
      "\tAverage Loss: 0.598699 \tLearning rate: 0.000500\n",
      "\tAverage Loss: 0.588973 \tLearning rate: 0.000500\n",
      "\tAverage Loss: 0.578308 \tLearning rate: 0.000500\n",
      "\tAverage Loss: 0.576338 \tLearning rate: 0.000500\n",
      "\tAverage Loss: 0.570048 \tLearning rate: 0.000500\n",
      "\tAverage Loss: 0.559760 \tLearning rate: 0.000500\n",
      "\tAverage Loss: 0.556271 \tLearning rate: 0.000500\n",
      "\tAverage Loss: 0.549930 \tLearning rate: 0.000500\n",
      "\tAverage Loss: 0.541579 \tLearning rate: 0.000250\n",
      "\tAverage Loss: 0.513139 \tLearning rate: 0.000250\n",
      "\tAverage Loss: 0.508291 \tLearning rate: 0.000250\n",
      "\tAverage Loss: 0.500964 \tLearning rate: 0.000250\n",
      "\tAverage Loss: 0.497566 \tLearning rate: 0.000250\n",
      "\tAverage Loss: 0.492368 \tLearning rate: 0.000250\n",
      "\tAverage Loss: 0.490040 \tLearning rate: 0.000250\n",
      "\tAverage Loss: 0.482931 \tLearning rate: 0.000250\n",
      "\tAverage Loss: 0.477962 \tLearning rate: 0.000250\n",
      "\tAverage Loss: 0.473431 \tLearning rate: 0.000250\n",
      "\tAverage Loss: 0.471772 \tLearning rate: 0.000125\n",
      "Finished Fold 4\n"
     ]
    }
   ],
   "source": [
    "from maldi2resistance.loss.asymmetricLoss import AsymmetricLoss\n",
    "from maldi2resistance.metric.PrecisionRecall import MultiLabelPRNan\n",
    "from pathlib import Path\n",
    "from maldi2resistance.metric.ROC import MultiLabelRocNan\n",
    "from maldi2resistance.loss.maskedLoss import MaskedBCE\n",
    "from tqdm.auto import tqdm\n",
    "import matplotlib.pyplot as plt\n",
    "\n",
    "from torch.optim import Adam\n",
    "from torch.optim.lr_scheduler import StepLR\n",
    "\n",
    "print(\"Start training ...\")\n",
    "model.train()\n",
    "\n",
    "batch_size = 128\n",
    "fig_path = Path(\"./kfold/figures\")\n",
    "fig_path.mkdir(parents=True, exist_ok=True)\n",
    "\n",
    "loss_per_batch = []\n",
    "\n",
    "class_weights_negative = torch.tensor((1 - (driams.label_stats.loc[\"negative\"] / driams.label_stats.loc[\"n_sum\"])).values, device=DEVICE)\n",
    "class_weights_positive = torch.tensor((1 - (driams.label_stats.loc[\"positive\"] / driams.label_stats.loc[\"n_sum\"])).values, device=DEVICE)\n",
    "\n",
    "criterion = AsymmetricLoss()\n",
    "\n",
    "gen = torch.Generator()\n",
    "\n",
    "for fold, (train_data, test_data) in enumerate(driams.getK_fold(n_splits=5, shuffle=True, random_state= SEED)):\n",
    "    \n",
    "    train_loader = DataLoader(train_data, batch_size=batch_size, shuffle=True, drop_last=True, generator= gen.manual_seed(SEED))\n",
    "    test_loader = DataLoader(test_data, batch_size=len(test_data), shuffle=True, drop_last=True, generator= gen.manual_seed(SEED))\n",
    "    \n",
    "    model.load_state_dict(model_state)\n",
    "    model.train()\n",
    "    \n",
    "    optimizer = Adam(model.parameters(), lr=1e-3, amsgrad = True)\n",
    "    scheduler = StepLR(optimizer, step_size=10, gamma=0.5)\n",
    "\n",
    "    for epoch in tqdm(range(30)):\n",
    "        overall_loss = 0\n",
    "        \n",
    "        for batch_idx, (x, y) in enumerate(train_loader):\n",
    "    \n",
    "            x = x.to(DEVICE)\n",
    "            y = y.to(DEVICE)\n",
    "            \n",
    "            optimizer.zero_grad()\n",
    "    \n",
    "            output = model(x)\n",
    "        \n",
    "            loss = criterion(output, y)\n",
    "            current_loss_value = loss.item()\n",
    "            loss_per_batch.append(current_loss_value)\n",
    "            \n",
    "            overall_loss += current_loss_value\n",
    "            \n",
    "            loss.backward()\n",
    "            optimizer.step()\n",
    "    \n",
    "        scheduler.step()\n",
    "        with tqdm.external_write_mode():\n",
    "            print(f\"\\tAverage Loss: {overall_loss / (batch_idx*batch_size):.6f} \\tLearning rate: {scheduler.get_last_lr()[0]:.6f}\")\n",
    "    \n",
    "    \n",
    "    print(f\"Finished Fold {fold}\")\n",
    "    \n",
    "    model.eval()\n",
    "    \n",
    "    DEVICE = torch.device(\"cpu\")\n",
    "    test_features, test_labels = next(iter(test_loader))\n",
    "    test_features = test_features.to(DEVICE)\n",
    "    test_labels = test_labels.to(DEVICE)\n",
    "    model = model.to(DEVICE)\n",
    "    \n",
    "    ml_roc = MultiLabelRocNan()\n",
    "    output = model(test_features)\n",
    "    \n",
    "    \n",
    "    ml_roc.compute(output,test_labels,driams.selected_antibiotics, create_csv=f\"./kfold/csv/fold-{fold}_ROC.csv\")\n",
    "    fig_, ax_ = ml_roc()\n",
    "    \n",
    "    plt.savefig(fig_path / f\"fold-{fold}_ROC.png\", transparent=True, format= \"png\", bbox_inches = \"tight\")\n",
    "    plt.close()\n",
    "    \n",
    "    ml_pr = MultiLabelPRNan()\n",
    "    ml_pr.compute(output,test_labels,driams.selected_antibiotics, create_csv=f\"./kfold/csv/fold-{fold}_PrecisionRecall.csv\")\n",
    "    \n",
    "    fig_, ax_ = ml_pr()\n",
    "    \n",
    "    plt.savefig(fig_path / f\"fold-{fold}_PrecisionRecall.png\", transparent=True, format= \"png\", bbox_inches = \"tight\")\n",
    "    plt.close()\n",
    "    \n",
    "    DEVICE = torch.device(\"cuda\")\n",
    "    model = model.to(DEVICE)"
   ]
  },
  {
   "cell_type": "code",
   "execution_count": null,
   "id": "f600e6963c560e2a",
   "metadata": {},
   "outputs": [],
   "source": [
    "import pandas\n",
    "micro = []\n",
    "macro = []\n",
    "\n",
    "for fold in range(0,5):\n",
    "    csv = pandas.read_csv(f\"./kfold/csv/fold-{fold}_ROC.csv\")\n",
    "    micro.append(csv[csv[\"class\"] == \"micro\"][\"ROCAUC\"])\n",
    "    macro.append(csv[csv[\"class\"] == \"macro\"][\"ROCAUC\"])"
   ]
  },
  {
   "cell_type": "code",
   "execution_count": null,
   "id": "ebb9df2adbe214c3",
   "metadata": {},
   "outputs": [
    {
     "name": "stdout",
     "output_type": "stream",
     "text": [
      "Mean\t: 0.9326603293418885\n",
      " SD \t: 0.0022185096511297725\n"
     ]
    }
   ],
   "source": [
    "import numpy as np\n",
    "\n",
    "print(f\"Mean\\t: {np.mean(micro)}\")\n",
    "print(f\" SD \\t: {np.std(micro) }\")"
   ]
  },
  {
   "cell_type": "code",
   "execution_count": null,
   "id": "bef0009f0d5188f2",
   "metadata": {},
   "outputs": [
    {
     "name": "stdout",
     "output_type": "stream",
     "text": [
      "Mean\t: 0.8972347617149353\n",
      " SD \t: 0.0022192076993228895\n"
     ]
    }
   ],
   "source": [
    "print(f\"Mean\\t: {np.mean(macro)}\")\n",
    "print(f\" SD \\t: {np.std(macro) }\")"
   ]
  },
  {
   "cell_type": "code",
   "execution_count": null,
   "id": "7462193f34ee1ad0",
   "metadata": {},
   "outputs": [],
   "source": [
    "import pandas\n",
    "micro = []\n",
    "macro = []\n",
    "\n",
    "for fold in range(0,5):\n",
    "    csv = pandas.read_csv(f\"./kfold/csv/fold-{fold}_PrecisionRecall.csv\")\n",
    "    micro.append(csv[csv[\"class\"] == \"micro\"][\"PrecisionRecallAUC\"])\n",
    "    macro.append(csv[csv[\"class\"] == \"macro\"][\"PrecisionRecallAUC\"])"
   ]
  },
  {
   "cell_type": "code",
   "execution_count": null,
   "id": "6aeecd9691e6eab",
   "metadata": {},
   "outputs": [
    {
     "name": "stdout",
     "output_type": "stream",
     "text": [
      "Mean\t: 0.865790331363678\n",
      " SD \t: 0.00572370106873237\n"
     ]
    }
   ],
   "source": [
    "import numpy as np\n",
    "\n",
    "print(f\"Mean\\t: {np.mean(micro)}\")\n",
    "print(f\" SD \\t: {np.std(micro) }\")"
   ]
  },
  {
   "cell_type": "code",
   "execution_count": null,
   "id": "28947bda4cfb96fc",
   "metadata": {},
   "outputs": [
    {
     "name": "stdout",
     "output_type": "stream",
     "text": [
      "Mean\t: 0.7588865059771035\n",
      " SD \t: 0.005404624405759706\n"
     ]
    }
   ],
   "source": [
    "print(f\"Mean\\t: {np.mean(macro)}\")\n",
    "print(f\" SD \\t: {np.std(macro) }\")"
   ]
  }
 ],
 "metadata": {
  "kernelspec": {
   "display_name": "Python 3 (ipykernel)",
   "language": "python",
   "name": "python3"
  },
  "language_info": {
   "codemirror_mode": {
    "name": "ipython",
    "version": 3
   },
   "file_extension": ".py",
   "mimetype": "text/x-python",
   "name": "python",
   "nbconvert_exporter": "python",
   "pygments_lexer": "ipython3"
  },
  "widgets": {
   "application/vnd.jupyter.widget-state+json": {
    "state": {},
    "version_major": 2,
    "version_minor": 0
   }
  }
 },
 "nbformat": 4,
 "nbformat_minor": 5
}
