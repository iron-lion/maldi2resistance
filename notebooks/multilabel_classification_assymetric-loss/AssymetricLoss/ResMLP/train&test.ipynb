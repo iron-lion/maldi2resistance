{
 "cells": [
  {
   "cell_type": "markdown",
   "id": "3d89aed94233e3ff",
   "metadata": {},
   "source": [
    "# Fully connected feedforward network implementing a loss mask"
   ]
  },
  {
   "cell_type": "code",
   "execution_count": null,
   "id": "1eaaf570-0600-4d60-9fde-fcebcff3ce4c",
   "metadata": {},
   "outputs": [],
   "source": [
    "import torchmetrics.classification\n",
    "from torch import cuda\n",
    "assert cuda.is_available()\n",
    "assert cuda.device_count() > 0"
   ]
  },
  {
   "cell_type": "code",
   "execution_count": null,
   "id": "c7e50fb9-601f-425a-bf79-6441170b27dd",
   "metadata": {},
   "outputs": [
    {
     "name": "stdout",
     "output_type": "stream",
     "text": [
      "NVIDIA GeForce RTX 3060 Ti\n"
     ]
    }
   ],
   "source": [
    "print(cuda.get_device_name(cuda.current_device()))\n"
   ]
  },
  {
   "cell_type": "code",
   "execution_count": null,
   "id": "6c4b645f-6b5e-428e-855c-64b7e33ff874",
   "metadata": {},
   "outputs": [],
   "source": [
    "import torch\n",
    "import torch.nn as nn"
   ]
  },
  {
   "cell_type": "code",
   "execution_count": null,
   "id": "5e8a6650-ef2b-44f1-9ea8-78912b15e9a9",
   "metadata": {},
   "outputs": [
    {
     "data": {
      "text/plain": [
       "<torch._C.Generator at 0x7f3a1c10afb0>"
      ]
     },
     "execution_count": null,
     "metadata": {},
     "output_type": "execute_result"
    }
   ],
   "source": [
    "DEVICE = torch.device(\"cuda\")\n",
    "SEED = 76436278\n",
    "\n",
    "torch.manual_seed(SEED)"
   ]
  },
  {
   "cell_type": "markdown",
   "id": "23b5a248-98cc-42cc-99b2-49bdd5ca1f35",
   "metadata": {},
   "source": [
    "### Load the Dataset"
   ]
  },
  {
   "cell_type": "code",
   "execution_count": null,
   "id": "7a00707ac6b2975",
   "metadata": {},
   "outputs": [
    {
     "name": "stderr",
     "output_type": "stream",
     "text": [
      "/home/jan/Uni/master/src/maldi2resistance/data/driams.py:86: UserWarning: Metafile for Site (DRIAMS-B) and Year (2015) combination not found!\n",
      "  warnings.warn(\n",
      "/home/jan/Uni/master/src/maldi2resistance/data/driams.py:86: UserWarning: Metafile for Site (DRIAMS-B) and Year (2016) combination not found!\n",
      "  warnings.warn(\n",
      "/home/jan/Uni/master/src/maldi2resistance/data/driams.py:86: UserWarning: Metafile for Site (DRIAMS-B) and Year (2017) combination not found!\n",
      "  warnings.warn(\n",
      "/home/jan/Uni/master/src/maldi2resistance/data/driams.py:86: UserWarning: Metafile for Site (DRIAMS-C) and Year (2015) combination not found!\n",
      "  warnings.warn(\n",
      "/home/jan/Uni/master/src/maldi2resistance/data/driams.py:86: UserWarning: Metafile for Site (DRIAMS-C) and Year (2016) combination not found!\n",
      "  warnings.warn(\n",
      "/home/jan/Uni/master/src/maldi2resistance/data/driams.py:86: UserWarning: Metafile for Site (DRIAMS-C) and Year (2017) combination not found!\n",
      "  warnings.warn(\n",
      "/home/jan/Uni/master/src/maldi2resistance/data/driams.py:86: UserWarning: Metafile for Site (DRIAMS-D) and Year (2015) combination not found!\n",
      "  warnings.warn(\n",
      "/home/jan/Uni/master/src/maldi2resistance/data/driams.py:86: UserWarning: Metafile for Site (DRIAMS-D) and Year (2016) combination not found!\n",
      "  warnings.warn(\n",
      "/home/jan/Uni/master/src/maldi2resistance/data/driams.py:86: UserWarning: Metafile for Site (DRIAMS-D) and Year (2017) combination not found!\n",
      "  warnings.warn(\n"
     ]
    },
    {
     "data": {
      "application/vnd.jupyter.widget-view+json": {
       "model_id": "183331d7ea964ec58cdab529feb5939b",
       "version_major": 2,
       "version_minor": 0
      },
      "text/plain": [
       "Loading Spectra into Memory:   0%|          | 0/55780 [00:00<?, ?it/s]"
      ]
     },
     "metadata": {},
     "output_type": "display_data"
    },
    {
     "data": {
      "text/html": [
       "\n",
       "        <table>\n",
       "            <thead>\n",
       "                <tr>\n",
       "                    <th>Antibiotic:</th>\n",
       "                    <th> Amikacin </th><th> Amoxicillin-Clavulanic acid </th><th> Ampicillin </th><th> Ampicillin-Amoxicillin </th><th> Aztreonam </th><th> Benzylpenicillin </th><th> Cefazolin </th><th> Cefepime </th><th> Cefpodoxime </th><th> Ceftazidime </th><th> Ceftriaxone </th><th> Cefuroxime </th><th> Ciprofloxacin </th><th> Clarithromycin </th><th> Clindamycin </th><th> Colistin </th><th> Cotrimoxazole </th><th> Ertapenem </th><th> Erythromycin </th><th> Fosfomycin </th><th> Fosfomycin-Trometamol </th><th> Fusidic acid </th><th> Gentamicin </th><th> Imipenem </th><th> Levofloxacin </th><th> Meropenem </th><th> Mupirocin </th><th> Nitrofurantoin </th><th> Norfloxacin </th><th> Oxacillin </th><th> Penicillin </th><th> Piperacillin-Tazobactam </th><th> Polymyxin B </th><th> Rifampicin </th><th> Teicoplanin </th><th> Tetracycline </th><th> Tobramycin </th><th> Vancomycin </th>\n",
       "                </tr>\n",
       "            </thead>\n",
       "            <tbody>\n",
       "                <tr>\n",
       "                    <td>Number resistant:</td>\n",
       "                    <td> 1068 </td><td> 13366 </td><td> 8578 </td><td> 21966 </td><td> 628 </td><td> 618 </td><td> 4223 </td><td> 7383 </td><td> 2338 </td><td> 3470 </td><td> 8659 </td><td> 5855 </td><td> 9338 </td><td> 310 </td><td> 4381 </td><td> 2874 </td><td> 7405 </td><td> 427 </td><td> 5468 </td><td> 2303 </td><td> 1326 </td><td> 3620 </td><td> 3481 </td><td> 7560 </td><td> 4217 </td><td> 5194 </td><td> 570 </td><td> 1271 </td><td> 1205 </td><td> 5537 </td><td> 12431 </td><td> 7616 </td><td> 486 </td><td> 580 </td><td> 244 </td><td> 3534 </td><td> 1707 </td><td> 227 </td>\n",
       "                </tr>\n",
       "                <tr>\n",
       "                    <td>Number susceptible:</td>\n",
       "                    <td> 20941 </td><td> 24992 </td><td> 4194 </td><td> 4905 </td><td> 456 </td><td> 457 </td><td> 5813 </td><td> 31567 </td><td> 4382 </td><td> 24566 </td><td> 28464 </td><td> 8368 </td><td> 36822 </td><td> 1262 </td><td> 9841 </td><td> 15784 </td><td> 24590 </td><td> 21740 </td><td> 9044 </td><td> 10184 </td><td> 4803 </td><td> 8498 </td><td> 22662 </td><td> 31717 </td><td> 17989 </td><td> 27228 </td><td> 4656 </td><td> 3603 </td><td> 7031 </td><td> 7740 </td><td> 4286 </td><td> 31308 </td><td> 2305 </td><td> 14964 </td><td> 8486 </td><td> 10376 </td><td> 16809 </td><td> 20540 </td>\n",
       "                </tr>\n",
       "                <tr>\n",
       "                    <td>Number data points:</td>\n",
       "                    <td> 22009 </td><td> 38358 </td><td> 12772 </td><td> 26871 </td><td> 1084 </td><td> 1075 </td><td> 10036 </td><td> 38950 </td><td> 6720 </td><td> 28036 </td><td> 37123 </td><td> 14223 </td><td> 46160 </td><td> 1572 </td><td> 14222 </td><td> 18658 </td><td> 31995 </td><td> 22167 </td><td> 14512 </td><td> 12487 </td><td> 6129 </td><td> 12118 </td><td> 26143 </td><td> 39277 </td><td> 22206 </td><td> 32422 </td><td> 5226 </td><td> 4874 </td><td> 8236 </td><td> 13277 </td><td> 16717 </td><td> 38924 </td><td> 2791 </td><td> 15544 </td><td> 8730 </td><td> 13910 </td><td> 18516 </td><td> 20767 </td>\n",
       "                </tr>\n",
       "            </tbody>\n",
       "        </table>\n",
       "                "
      ],
      "text/plain": [
       "<src.maldi2resistance.data.driams.Driams at 0x7f3900548610>"
      ]
     },
     "execution_count": null,
     "metadata": {},
     "output_type": "execute_result"
    }
   ],
   "source": [
    "from src.maldi2resistance.data.driams import Driams\n",
    "\n",
    "driams = Driams(\n",
    "    root_dir=\"/home/jan/Uni/master/data/Driams\",\n",
    ")\n",
    "\n",
    "driams.loading_type = \"memory\"\n",
    "\n",
    "driams"
   ]
  },
  {
   "cell_type": "code",
   "execution_count": null,
   "id": "fbbd28ab5fd2a857",
   "metadata": {},
   "outputs": [
    {
     "data": {
      "text/plain": [
       "38"
      ]
     },
     "execution_count": null,
     "metadata": {},
     "output_type": "execute_result"
    }
   ],
   "source": [
    "len(driams.label_stats.columns)"
   ]
  },
  {
   "cell_type": "code",
   "execution_count": null,
   "id": "da7e25095a26c4aa",
   "metadata": {},
   "outputs": [],
   "source": [
    "from multimodal_amr.models.modules import ResMLP\n",
    "from torch import nn\n",
    "\n",
    "\n",
    "class Residual_AMR_Classifier(nn.Module):\n",
    "    \"\"\"Overall model definition.\"\"\"\n",
    "\n",
    "    def __init__(self, config, n_input_spectrum, n_input_drug):\n",
    "        super().__init__()\n",
    "        self.config = config\n",
    "\n",
    "        # Sample embedding\n",
    "        if config[\"species_embedding_dim\"]==0 and config[\"conv_out_size\"]==config[\"sample_embedding_dim\"]:\n",
    "            self.sample_emb = nn.Identity()\n",
    "        elif config[\"species_embedding_dim\"]==0:\n",
    "            self.sample_emb = nn.Linear(\n",
    "                config[\"conv_out_size\"],\n",
    "                config[\"sample_embedding_dim\"],\n",
    "            )\n",
    "        else:\n",
    "            self.sample_emb = nn.Linear(\n",
    "                config[\"conv_out_size\"] + config[\"species_embedding_dim\"],\n",
    "                config[\"sample_embedding_dim\"],\n",
    "            )\n",
    "\n",
    "        self.spectrum_emb = nn.Linear(n_input_spectrum ,config[\"conv_out_size\"])\n",
    "\n",
    "        # Drugs layers\n",
    "        # if config[\"drug_emb_type\"] == \"vae_embedding\" or config[\"drug_emb_type\"] == \"gnn_embedding\":\n",
    "        #     self.drug_emb = nn.Identity()\n",
    "        # elif config[\"drug_emb_type\"] == \"fingerprint\":\n",
    "        self.drug_emb = nn.Linear(\n",
    "            n_input_drug, config[\"drug_embedding_dim\"]\n",
    "        )\n",
    "\n",
    "        # Output network\n",
    "        self.net = ResMLP(\n",
    "            config[\"n_hidden_layers\"],\n",
    "            config[\"sample_embedding_dim\"] + config[\"drug_embedding_dim\"],\n",
    "            1,\n",
    "            p_dropout=0.2,\n",
    "        )\n",
    "\n",
    "    def forward(self, spectrum, fingerprint):\n",
    "        spectrum_embedding = self.spectrum_emb(spectrum)\n",
    "        dr_emb = self.drug_emb(fingerprint)\n",
    "\n",
    "        return self.net(torch.cat([dr_emb, spectrum_embedding], dim=1))\n",
    "\n",
    "\n",
    "\n",
    "\n",
    "conf = {\n",
    "    \"conv_out_size\": 512,\n",
    "    \"species_embedding_dim\":0,\n",
    "    \"sample_embedding_dim\":512,\n",
    "    \"drug_embedding_dim\":512,\n",
    "    \"n_hidden_layers\": 5,\n",
    "}\n",
    "        "
   ]
  },
  {
   "cell_type": "code",
   "execution_count": null,
   "id": "b81bd526-6a9c-4520-b121-9c01b4eb804a",
   "metadata": {},
   "outputs": [],
   "source": [
    "import copy\n",
    "\n",
    "model = Residual_AMR_Classifier(config= conf,n_input_spectrum = driams.n_bins, n_input_drug= 1024)\n",
    "model = model.to(DEVICE)\n",
    "\n",
    "model_state = copy.deepcopy(model.state_dict()) "
   ]
  },
  {
   "cell_type": "code",
   "execution_count": null,
   "id": "c2141367c5e63316",
   "metadata": {},
   "outputs": [
    {
     "name": "stdout",
     "output_type": "stream",
     "text": [
      "======================================================================\n",
      "Layer (type:depth-idx)                        Param #\n",
      "======================================================================\n",
      "Residual_AMR_Classifier                       --\n",
      "├─Identity: 1-1                               --\n",
      "├─Linear: 1-2                                 9,216,512\n",
      "├─Linear: 1-3                                 524,800\n",
      "├─ResMLP: 1-4                                 --\n",
      "│    └─Sequential: 2-1                        --\n",
      "│    │    └─ResBlock: 3-1                     1,051,648\n",
      "│    │    └─ResBlock: 3-2                     1,051,648\n",
      "│    │    └─ResBlock: 3-3                     1,051,648\n",
      "│    │    └─ResBlock: 3-4                     1,051,648\n",
      "│    │    └─ResBlock: 3-5                     1,051,648\n",
      "│    │    └─Linear: 3-6                       1,025\n",
      "======================================================================\n",
      "Total params: 15,000,577\n",
      "Trainable params: 15,000,577\n",
      "Non-trainable params: 0\n",
      "======================================================================\n"
     ]
    }
   ],
   "source": [
    "from torchinfo import summary\n",
    "\n",
    "print(summary(model))"
   ]
  },
  {
   "cell_type": "code",
   "execution_count": null,
   "id": "e361914c-9fb8-4a94-bb2c-95a3b68cda0b",
   "metadata": {},
   "outputs": [],
   "source": [
    "from torch.utils.data import DataLoader"
   ]
  },
  {
   "cell_type": "code",
   "execution_count": null,
   "id": "a96643a0-bd63-437b-a676-f3a4a1826910",
   "metadata": {},
   "outputs": [
    {
     "name": "stdout",
     "output_type": "stream",
     "text": [
      "Start training ...\n"
     ]
    },
    {
     "data": {
      "application/vnd.jupyter.widget-view+json": {
       "model_id": "e1d209022eb143b196398b783b3bf413",
       "version_major": 2,
       "version_minor": 0
      },
      "text/plain": [
       "Create single label Dataset:   0%|          | 0/44624 [00:00<?, ?it/s]"
      ]
     },
     "metadata": {},
     "output_type": "display_data"
    },
    {
     "data": {
      "application/vnd.jupyter.widget-view+json": {
       "model_id": "f8abec2bb7184424980d4377c232e9bf",
       "version_major": 2,
       "version_minor": 0
      },
      "text/plain": [
       "Create single label Dataset:   0%|          | 0/11156 [00:00<?, ?it/s]"
      ]
     },
     "metadata": {},
     "output_type": "display_data"
    },
    {
     "data": {
      "application/vnd.jupyter.widget-view+json": {
       "model_id": "dd6bd251f1a64f62b9ddbbe6c801c920",
       "version_major": 2,
       "version_minor": 0
      },
      "text/plain": [
       "  0%|          | 0/30 [00:00<?, ?it/s]"
      ]
     },
     "metadata": {},
     "output_type": "display_data"
    },
    {
     "name": "stdout",
     "output_type": "stream",
     "text": [
      "\tAverage Loss: 2209494.393890 \tLearning rate: 0.001000\n",
      "\tAverage Loss: 8723.120919 \tLearning rate: 0.001000\n",
      "\tAverage Loss: 8723.276512 \tLearning rate: 0.001000\n",
      "\tAverage Loss: 8722.070379 \tLearning rate: 0.001000\n",
      "\tAverage Loss: 11763.130147 \tLearning rate: 0.001000\n",
      "\tAverage Loss: 8795.937832 \tLearning rate: 0.001000\n",
      "\tAverage Loss: 8793.880705 \tLearning rate: 0.001000\n",
      "\tAverage Loss: 8794.521214 \tLearning rate: 0.001000\n",
      "\tAverage Loss: 8799.687889 \tLearning rate: 0.001000\n",
      "\tAverage Loss: 8817.275475 \tLearning rate: 0.000500\n",
      "\tAverage Loss: 8817.141012 \tLearning rate: 0.000500\n",
      "\tAverage Loss: 8818.104612 \tLearning rate: 0.000500\n",
      "\tAverage Loss: 8818.447693 \tLearning rate: 0.000500\n",
      "\tAverage Loss: 8817.765620 \tLearning rate: 0.000500\n",
      "\tAverage Loss: 8818.705084 \tLearning rate: 0.000500\n",
      "\tAverage Loss: 8818.528231 \tLearning rate: 0.000500\n",
      "\tAverage Loss: 8818.677807 \tLearning rate: 0.000500\n",
      "\tAverage Loss: 8817.138518 \tLearning rate: 0.000500\n",
      "\tAverage Loss: 8819.512163 \tLearning rate: 0.000500\n",
      "\tAverage Loss: 8817.421348 \tLearning rate: 0.000250\n",
      "\tAverage Loss: 8818.658331 \tLearning rate: 0.000250\n",
      "\tAverage Loss: 8818.335931 \tLearning rate: 0.000250\n",
      "\tAverage Loss: 8817.495636 \tLearning rate: 0.000250\n",
      "\tAverage Loss: 8818.053311 \tLearning rate: 0.000250\n",
      "\tAverage Loss: 8818.400832 \tLearning rate: 0.000250\n",
      "\tAverage Loss: 8818.071443 \tLearning rate: 0.000250\n",
      "\tAverage Loss: 8817.761065 \tLearning rate: 0.000250\n",
      "\tAverage Loss: 8817.830203 \tLearning rate: 0.000250\n",
      "\tAverage Loss: 8817.761999 \tLearning rate: 0.000250\n",
      "\tAverage Loss: 8817.481627 \tLearning rate: 0.000125\n",
      "Finished Fold 0\n"
     ]
    },
    {
     "data": {
      "application/vnd.jupyter.widget-view+json": {
       "model_id": "ed68183dccee4ace88d6405149e1f8a2",
       "version_major": 2,
       "version_minor": 0
      },
      "text/plain": [
       "Create single label Dataset:   0%|          | 0/11156 [00:00<?, ?it/s]"
      ]
     },
     "metadata": {},
     "output_type": "display_data"
    },
    {
     "data": {
      "application/vnd.jupyter.widget-view+json": {
       "model_id": "9da9563735144b24a74ca4a3b351923d",
       "version_major": 2,
       "version_minor": 0
      },
      "text/plain": [
       "Create single label Dataset:   0%|          | 0/44624 [00:00<?, ?it/s]"
      ]
     },
     "metadata": {},
     "output_type": "display_data"
    },
    {
     "data": {
      "application/vnd.jupyter.widget-view+json": {
       "model_id": "e44dd69456534f8383835e2b57fd0c8c",
       "version_major": 2,
       "version_minor": 0
      },
      "text/plain": [
       "Create single label Dataset:   0%|          | 0/11156 [00:00<?, ?it/s]"
      ]
     },
     "metadata": {},
     "output_type": "display_data"
    },
    {
     "data": {
      "application/vnd.jupyter.widget-view+json": {
       "model_id": "fbd67d0b4187487a8cbe42e45d036b13",
       "version_major": 2,
       "version_minor": 0
      },
      "text/plain": [
       "  0%|          | 0/30 [00:00<?, ?it/s]"
      ]
     },
     "metadata": {},
     "output_type": "display_data"
    },
    {
     "name": "stdout",
     "output_type": "stream",
     "text": [
      "\tAverage Loss: 49757602.040199 \tLearning rate: 0.001000\n",
      "\tAverage Loss: 5063.600838 \tLearning rate: 0.001000\n",
      "\tAverage Loss: 5072.111927 \tLearning rate: 0.001000\n",
      "\tAverage Loss: 5065.084525 \tLearning rate: 0.001000\n",
      "\tAverage Loss: 5061.284233 \tLearning rate: 0.001000\n",
      "\tAverage Loss: 5093.652338 \tLearning rate: 0.001000\n",
      "\tAverage Loss: 5098.596947 \tLearning rate: 0.001000\n",
      "\tAverage Loss: 5098.872983 \tLearning rate: 0.001000\n",
      "\tAverage Loss: 5097.765848 \tLearning rate: 0.001000\n",
      "\tAverage Loss: 5096.920339 \tLearning rate: 0.000500\n",
      "\tAverage Loss: 5097.489843 \tLearning rate: 0.000500\n",
      "\tAverage Loss: 5096.935558 \tLearning rate: 0.000500\n",
      "\tAverage Loss: 5095.083372 \tLearning rate: 0.000500\n",
      "\tAverage Loss: 5201.352692 \tLearning rate: 0.000500\n",
      "\tAverage Loss: 5355.644072 \tLearning rate: 0.000500\n",
      "\tAverage Loss: 5354.490986 \tLearning rate: 0.000500\n",
      "\tAverage Loss: 5353.756243 \tLearning rate: 0.000500\n",
      "\tAverage Loss: 5354.623191 \tLearning rate: 0.000500\n",
      "\tAverage Loss: 5354.684161 \tLearning rate: 0.000500\n",
      "\tAverage Loss: 5355.341509 \tLearning rate: 0.000250\n",
      "\tAverage Loss: 5354.948591 \tLearning rate: 0.000250\n",
      "\tAverage Loss: 5354.981780 \tLearning rate: 0.000250\n",
      "\tAverage Loss: 5354.729434 \tLearning rate: 0.000250\n",
      "\tAverage Loss: 5354.677910 \tLearning rate: 0.000250\n",
      "\tAverage Loss: 5354.815492 \tLearning rate: 0.000250\n",
      "\tAverage Loss: 5354.755150 \tLearning rate: 0.000250\n",
      "\tAverage Loss: 5354.949690 \tLearning rate: 0.000250\n",
      "\tAverage Loss: 5355.108505 \tLearning rate: 0.000250\n",
      "\tAverage Loss: 5354.229511 \tLearning rate: 0.000250\n",
      "\tAverage Loss: 5355.124271 \tLearning rate: 0.000125\n",
      "Finished Fold 1\n"
     ]
    },
    {
     "data": {
      "application/vnd.jupyter.widget-view+json": {
       "model_id": "78bffe5d13af43b184d98c4efe9d76da",
       "version_major": 2,
       "version_minor": 0
      },
      "text/plain": [
       "Create single label Dataset:   0%|          | 0/11156 [00:00<?, ?it/s]"
      ]
     },
     "metadata": {},
     "output_type": "display_data"
    },
    {
     "data": {
      "application/vnd.jupyter.widget-view+json": {
       "model_id": "176af422b44445cfb113b57116c4f5f2",
       "version_major": 2,
       "version_minor": 0
      },
      "text/plain": [
       "Create single label Dataset:   0%|          | 0/44624 [00:00<?, ?it/s]"
      ]
     },
     "metadata": {},
     "output_type": "display_data"
    },
    {
     "data": {
      "application/vnd.jupyter.widget-view+json": {
       "model_id": "940a0072723b4309ad342f7fb7b663e2",
       "version_major": 2,
       "version_minor": 0
      },
      "text/plain": [
       "Create single label Dataset:   0%|          | 0/11156 [00:00<?, ?it/s]"
      ]
     },
     "metadata": {},
     "output_type": "display_data"
    },
    {
     "data": {
      "application/vnd.jupyter.widget-view+json": {
       "model_id": "432ae49f2e874620bc598cb5519c7051",
       "version_major": 2,
       "version_minor": 0
      },
      "text/plain": [
       "  0%|          | 0/30 [00:00<?, ?it/s]"
      ]
     },
     "metadata": {},
     "output_type": "display_data"
    },
    {
     "name": "stdout",
     "output_type": "stream",
     "text": [
      "\tAverage Loss: 11988414.514455 \tLearning rate: 0.001000\n",
      "\tAverage Loss: 6088.407414 \tLearning rate: 0.001000\n",
      "\tAverage Loss: 6088.449762 \tLearning rate: 0.001000\n",
      "\tAverage Loss: 6087.852195 \tLearning rate: 0.001000\n",
      "\tAverage Loss: 6088.009527 \tLearning rate: 0.001000\n",
      "\tAverage Loss: 6087.635738 \tLearning rate: 0.001000\n",
      "\tAverage Loss: 6087.210660 \tLearning rate: 0.001000\n",
      "\tAverage Loss: 6087.237097 \tLearning rate: 0.001000\n",
      "\tAverage Loss: 6086.463920 \tLearning rate: 0.001000\n",
      "\tAverage Loss: 6511.695877 \tLearning rate: 0.000500\n",
      "\tAverage Loss: 6654.751311 \tLearning rate: 0.000500\n",
      "\tAverage Loss: 6654.777966 \tLearning rate: 0.000500\n",
      "\tAverage Loss: 6655.269997 \tLearning rate: 0.000500\n",
      "\tAverage Loss: 6655.005836 \tLearning rate: 0.000500\n",
      "\tAverage Loss: 6654.304838 \tLearning rate: 0.000500\n",
      "\tAverage Loss: 6654.749492 \tLearning rate: 0.000500\n",
      "\tAverage Loss: 6654.793215 \tLearning rate: 0.000500\n",
      "\tAverage Loss: 6655.215184 \tLearning rate: 0.000500\n",
      "\tAverage Loss: 6655.308871 \tLearning rate: 0.000500\n",
      "\tAverage Loss: 6654.626977 \tLearning rate: 0.000250\n",
      "\tAverage Loss: 6654.819777 \tLearning rate: 0.000250\n",
      "\tAverage Loss: 6654.678425 \tLearning rate: 0.000250\n",
      "\tAverage Loss: 6654.532783 \tLearning rate: 0.000250\n",
      "\tAverage Loss: 6655.573296 \tLearning rate: 0.000250\n",
      "\tAverage Loss: 6655.279345 \tLearning rate: 0.000250\n",
      "\tAverage Loss: 6655.080249 \tLearning rate: 0.000250\n",
      "\tAverage Loss: 6655.484538 \tLearning rate: 0.000250\n",
      "\tAverage Loss: 6654.418924 \tLearning rate: 0.000250\n",
      "\tAverage Loss: 6654.929371 \tLearning rate: 0.000250\n",
      "\tAverage Loss: 6655.073891 \tLearning rate: 0.000125\n",
      "Finished Fold 2\n"
     ]
    },
    {
     "data": {
      "application/vnd.jupyter.widget-view+json": {
       "model_id": "456079ebca594393aa6c7523cca9c4c2",
       "version_major": 2,
       "version_minor": 0
      },
      "text/plain": [
       "Create single label Dataset:   0%|          | 0/11156 [00:00<?, ?it/s]"
      ]
     },
     "metadata": {},
     "output_type": "display_data"
    },
    {
     "data": {
      "application/vnd.jupyter.widget-view+json": {
       "model_id": "eb6677a24e1941ef8227fe864579f938",
       "version_major": 2,
       "version_minor": 0
      },
      "text/plain": [
       "Create single label Dataset:   0%|          | 0/44624 [00:00<?, ?it/s]"
      ]
     },
     "metadata": {},
     "output_type": "display_data"
    },
    {
     "data": {
      "application/vnd.jupyter.widget-view+json": {
       "model_id": "7799dc97590c404ea22bec147364739b",
       "version_major": 2,
       "version_minor": 0
      },
      "text/plain": [
       "Create single label Dataset:   0%|          | 0/11156 [00:00<?, ?it/s]"
      ]
     },
     "metadata": {},
     "output_type": "display_data"
    },
    {
     "data": {
      "application/vnd.jupyter.widget-view+json": {
       "model_id": "2a9d6a63b39d48deb93e834b8813804c",
       "version_major": 2,
       "version_minor": 0
      },
      "text/plain": [
       "  0%|          | 0/30 [00:00<?, ?it/s]"
      ]
     },
     "metadata": {},
     "output_type": "display_data"
    },
    {
     "name": "stdout",
     "output_type": "stream",
     "text": [
      "\tAverage Loss: 80882519.163807 \tLearning rate: 0.001000\n",
      "\tAverage Loss: 9154.201510 \tLearning rate: 0.001000\n",
      "\tAverage Loss: 9155.652150 \tLearning rate: 0.001000\n",
      "\tAverage Loss: 9154.054740 \tLearning rate: 0.001000\n",
      "\tAverage Loss: 9154.477213 \tLearning rate: 0.001000\n",
      "\tAverage Loss: 9154.242537 \tLearning rate: 0.001000\n",
      "\tAverage Loss: 9154.892205 \tLearning rate: 0.001000\n",
      "\tAverage Loss: 9155.004305 \tLearning rate: 0.001000\n",
      "\tAverage Loss: 9155.775551 \tLearning rate: 0.001000\n",
      "\tAverage Loss: 9154.654671 \tLearning rate: 0.000500\n",
      "\tAverage Loss: 9154.846846 \tLearning rate: 0.000500\n",
      "\tAverage Loss: 9155.263035 \tLearning rate: 0.000500\n",
      "\tAverage Loss: 9153.513297 \tLearning rate: 0.000500\n",
      "\tAverage Loss: 9154.971265 \tLearning rate: 0.000500\n",
      "\tAverage Loss: 9154.276493 \tLearning rate: 0.000500\n",
      "\tAverage Loss: 9154.175221 \tLearning rate: 0.000500\n",
      "\tAverage Loss: 9154.424662 \tLearning rate: 0.000500\n",
      "\tAverage Loss: 9154.757800 \tLearning rate: 0.000500\n",
      "\tAverage Loss: 9153.975650 \tLearning rate: 0.000500\n",
      "\tAverage Loss: 9153.786538 \tLearning rate: 0.000250\n",
      "\tAverage Loss: 9155.517436 \tLearning rate: 0.000250\n",
      "\tAverage Loss: 9155.515214 \tLearning rate: 0.000250\n",
      "\tAverage Loss: 9154.448877 \tLearning rate: 0.000250\n",
      "\tAverage Loss: 9154.493374 \tLearning rate: 0.000250\n",
      "\tAverage Loss: 9154.465787 \tLearning rate: 0.000250\n",
      "\tAverage Loss: 9155.301975 \tLearning rate: 0.000250\n",
      "\tAverage Loss: 9154.142761 \tLearning rate: 0.000250\n",
      "\tAverage Loss: 9154.262867 \tLearning rate: 0.000250\n",
      "\tAverage Loss: 9155.602353 \tLearning rate: 0.000250\n",
      "\tAverage Loss: 9154.971077 \tLearning rate: 0.000125\n",
      "Finished Fold 3\n"
     ]
    },
    {
     "data": {
      "application/vnd.jupyter.widget-view+json": {
       "model_id": "f15c2c69ace84425b284c9e5b264cb9f",
       "version_major": 2,
       "version_minor": 0
      },
      "text/plain": [
       "Create single label Dataset:   0%|          | 0/11156 [00:00<?, ?it/s]"
      ]
     },
     "metadata": {},
     "output_type": "display_data"
    },
    {
     "data": {
      "application/vnd.jupyter.widget-view+json": {
       "model_id": "4052c195ec23449c9e19a81c6f62fb8a",
       "version_major": 2,
       "version_minor": 0
      },
      "text/plain": [
       "Create single label Dataset:   0%|          | 0/44624 [00:00<?, ?it/s]"
      ]
     },
     "metadata": {},
     "output_type": "display_data"
    },
    {
     "data": {
      "application/vnd.jupyter.widget-view+json": {
       "model_id": "e57c83f629bd440cbc785ff673077be7",
       "version_major": 2,
       "version_minor": 0
      },
      "text/plain": [
       "Create single label Dataset:   0%|          | 0/11156 [00:00<?, ?it/s]"
      ]
     },
     "metadata": {},
     "output_type": "display_data"
    },
    {
     "data": {
      "application/vnd.jupyter.widget-view+json": {
       "model_id": "36ec580295204c7ab88ea6605d0b2ea7",
       "version_major": 2,
       "version_minor": 0
      },
      "text/plain": [
       "  0%|          | 0/30 [00:00<?, ?it/s]"
      ]
     },
     "metadata": {},
     "output_type": "display_data"
    },
    {
     "name": "stdout",
     "output_type": "stream",
     "text": [
      "\tAverage Loss: 108633753.838258 \tLearning rate: 0.001000\n",
      "\tAverage Loss: 5766.448417 \tLearning rate: 0.001000\n",
      "\tAverage Loss: 5766.790915 \tLearning rate: 0.001000\n",
      "\tAverage Loss: 5763.495870 \tLearning rate: 0.001000\n",
      "\tAverage Loss: 5753.896579 \tLearning rate: 0.001000\n",
      "\tAverage Loss: 38912.593132 \tLearning rate: 0.001000\n",
      "\tAverage Loss: 6843.751165 \tLearning rate: 0.001000\n",
      "\tAverage Loss: 6835.388288 \tLearning rate: 0.001000\n",
      "\tAverage Loss: 6840.538775 \tLearning rate: 0.001000\n",
      "\tAverage Loss: 7040.426174 \tLearning rate: 0.000500\n",
      "\tAverage Loss: 7074.200444 \tLearning rate: 0.000500\n",
      "\tAverage Loss: 7074.572746 \tLearning rate: 0.000500\n",
      "\tAverage Loss: 7074.091525 \tLearning rate: 0.000500\n",
      "\tAverage Loss: 7074.452573 \tLearning rate: 0.000500\n",
      "\tAverage Loss: 7074.303145 \tLearning rate: 0.000500\n",
      "\tAverage Loss: 7074.443724 \tLearning rate: 0.000500\n",
      "\tAverage Loss: 7074.755022 \tLearning rate: 0.000500\n",
      "\tAverage Loss: 7074.829990 \tLearning rate: 0.000500\n",
      "\tAverage Loss: 7074.177893 \tLearning rate: 0.000500\n",
      "\tAverage Loss: 7074.538000 \tLearning rate: 0.000250\n",
      "\tAverage Loss: 7074.274870 \tLearning rate: 0.000250\n",
      "\tAverage Loss: 7074.412794 \tLearning rate: 0.000250\n",
      "\tAverage Loss: 7074.537612 \tLearning rate: 0.000250\n",
      "\tAverage Loss: 7074.860100 \tLearning rate: 0.000250\n",
      "\tAverage Loss: 7075.317703 \tLearning rate: 0.000250\n",
      "\tAverage Loss: 7074.323614 \tLearning rate: 0.000250\n",
      "\tAverage Loss: 7074.991414 \tLearning rate: 0.000250\n",
      "\tAverage Loss: 7074.602442 \tLearning rate: 0.000250\n",
      "\tAverage Loss: 7074.880489 \tLearning rate: 0.000250\n",
      "\tAverage Loss: 7074.349179 \tLearning rate: 0.000125\n",
      "Finished Fold 4\n"
     ]
    },
    {
     "data": {
      "application/vnd.jupyter.widget-view+json": {
       "model_id": "72f5d49fe9dc4527ba9e6b607651a8de",
       "version_major": 2,
       "version_minor": 0
      },
      "text/plain": [
       "Create single label Dataset:   0%|          | 0/11156 [00:00<?, ?it/s]"
      ]
     },
     "metadata": {},
     "output_type": "display_data"
    }
   ],
   "source": [
    "from maldi2resistance.loss.asymmetricLoss import AsymmetricLoss\n",
    "from torchmetrics.classification import BinaryAUROC, BinaryPrecisionRecallCurve, BinaryAveragePrecision\n",
    "from maldi2resistance.data.driams import DriamsSingleAntibiotic\n",
    "from maldi2resistance.metric.PrecisionRecall import MultiLabelPRNan\n",
    "from pathlib import Path\n",
    "from maldi2resistance.metric.ROC import MultiLabelRocNan\n",
    "from maldi2resistance.loss.maskedLoss import MaskedBCE\n",
    "from tqdm.auto import tqdm\n",
    "import matplotlib.pyplot as plt\n",
    "import torch.nn.functional as F\n",
    "\n",
    "from torch.optim import Adam\n",
    "from torch.optim.lr_scheduler import StepLR\n",
    "\n",
    "print(\"Start training ...\")\n",
    "model.train()\n",
    "\n",
    "batch_size = 128\n",
    "fig_path = Path(\"./kfold/figures\")\n",
    "fig_path.mkdir(parents=True, exist_ok=True)\n",
    "\n",
    "loss_per_batch = []\n",
    "\n",
    "gen = torch.Generator()\n",
    "\n",
    "all_auc_roc_micro = []\n",
    "all_auc_pr_micro = []\n",
    "\n",
    "all_auc_roc_macro = []\n",
    "all_auc_pr_macro = []\n",
    "\n",
    "criterion = AsymmetricLoss()\n",
    "\n",
    "for fold, (train_data, test_data) in enumerate(driams.getK_fold(n_splits=5, shuffle=True, random_state= SEED)):\n",
    "    \n",
    "    train_dataset_single_antibiotic = DriamsSingleAntibiotic(driams= train_data, use_morganFingerprint4Drug=True)\n",
    "    test_dataset_single_antibiotic = DriamsSingleAntibiotic(driams= test_data, use_morganFingerprint4Drug=True)\n",
    "    \n",
    "    train_loader = DataLoader(train_dataset_single_antibiotic, batch_size=batch_size, shuffle=True, drop_last=True, generator= gen.manual_seed(SEED))\n",
    "    test_loader = DataLoader(test_dataset_single_antibiotic, batch_size=len(test_dataset_single_antibiotic), shuffle=True, drop_last=True, generator= gen.manual_seed(SEED))\n",
    "    \n",
    "    model.load_state_dict(model_state)\n",
    "    model.train()\n",
    "    \n",
    "    optimizer = Adam(model.parameters(), lr=1e-3, amsgrad = True)\n",
    "    scheduler = StepLR(optimizer, step_size=10, gamma=0.5)\n",
    "\n",
    "    for epoch in tqdm(range(30), leave= False, position=1):\n",
    "        overall_loss = 0\n",
    "        \n",
    "        for batch_idx, (x, y, pos) in enumerate(train_loader):\n",
    "    \n",
    "            x = x.to(DEVICE)\n",
    "            y = y.to(DEVICE)\n",
    "            pos = pos.to(DEVICE)\n",
    "            \n",
    "            optimizer.zero_grad()\n",
    "    \n",
    "            output = model(x, pos)\n",
    "        \n",
    "            loss = criterion(output, y)\n",
    "            current_loss_value = loss.item()\n",
    "            loss_per_batch.append(current_loss_value)\n",
    "            \n",
    "            overall_loss += current_loss_value\n",
    "            \n",
    "            loss.backward()\n",
    "            optimizer.step()\n",
    "    \n",
    "        scheduler.step()\n",
    "        with tqdm.external_write_mode():\n",
    "            print(f\"\\tAverage Loss: {overall_loss / (batch_idx*batch_size):.6f} \\tLearning rate: {scheduler.get_last_lr()[0]:.6f}\")\n",
    "        \n",
    "    print(f\"Finished Fold {fold}\")\n",
    "    \n",
    "    model.eval()\n",
    "    \n",
    "    DEVICE = torch.device(\"cpu\")\n",
    "    test_features, test_labels, test_pos = next(iter(test_loader))\n",
    "    test_features = test_features.to(DEVICE)\n",
    "    test_labels = test_labels.to(DEVICE)\n",
    "    test_pos = test_pos.to(DEVICE)\n",
    "    model = model.to(DEVICE)\n",
    "    \n",
    "    output = model(test_features, test_pos)\n",
    "    output = torch.squeeze(output)\n",
    "    \n",
    "    auRoc = BinaryAUROC()\n",
    "    auc_roc = auRoc(output, test_labels.int())\n",
    "    all_auc_roc_micro.append(auc_roc)\n",
    "    \n",
    "    auPR = BinaryAveragePrecision()\n",
    "    aucPC = auPR(output, test_labels.int())\n",
    "    all_auc_pr_micro.append(aucPC)\n",
    "    \n",
    "    macro_aucroc = 0\n",
    "    macro_aucpr = 0\n",
    "    \n",
    "    n_not_empty = 0\n",
    "    \n",
    "    test_dataset_single_antibiotic = DriamsSingleAntibiotic(driams= test_data, use_morganFingerprint4Drug= False)\n",
    "    test_loader = DataLoader(test_dataset_single_antibiotic, batch_size=len(test_dataset_single_antibiotic), shuffle=True)\n",
    "    _, _, test_pos = next(iter(test_loader))\n",
    "    \n",
    "    for pos, antibiotic in enumerate(driams.selected_antibiotics):\n",
    "        out_part = output[test_pos == pos]\n",
    "        label_part = test_labels[test_pos == pos]\n",
    "        \n",
    "        occurrences = torch.bincount(label_part.int())\n",
    "\n",
    "        try:\n",
    "            if label_part.numel() == 0 or occurrences[1].item() == 0 or occurrences[0].item()== 0:\n",
    "                continue\n",
    "        except IndexError:\n",
    "            # no positives\n",
    "            continue\n",
    "        \n",
    "        au_roc = auRoc(out_part, label_part.int())\n",
    "        aucPC = auPR(out_part, label_part.int())\n",
    "        \n",
    "        n_not_empty +=1\n",
    "        macro_aucroc += au_roc.item()\n",
    "        macro_aucpr += aucPC.item()\n",
    "        \n",
    "        \n",
    "    macro_aucroc = macro_aucroc / n_not_empty\n",
    "    macro_aucpr = macro_aucpr / n_not_empty\n",
    "    \n",
    "    all_auc_roc_macro.append(macro_aucroc)\n",
    "    all_auc_pr_macro.append(macro_aucpr)\n",
    "    DEVICE = torch.device(\"cuda\")\n",
    "    model = model.to(DEVICE)\n",
    "    "
   ]
  },
  {
   "cell_type": "code",
   "execution_count": null,
   "id": "ebb9df2adbe214c3",
   "metadata": {},
   "outputs": [
    {
     "name": "stdout",
     "output_type": "stream",
     "text": [
      "Mean\t: 0.5468364953994751\n",
      " SD \t: 0.09235317260026932\n"
     ]
    }
   ],
   "source": [
    "import numpy as np\n",
    "\n",
    "print(f\"Mean\\t: {np.mean([x.cpu() for x in all_auc_roc_micro])}\")\n",
    "print(f\" SD \\t: {np.std([x.cpu() for x in all_auc_roc_micro]) }\")"
   ]
  },
  {
   "cell_type": "code",
   "execution_count": null,
   "id": "91fa4db5e2d4132d",
   "metadata": {},
   "outputs": [
    {
     "name": "stdout",
     "output_type": "stream",
     "text": [
      "Mean\t: 0.27030566334724426\n",
      " SD \t: 0.051002245396375656\n"
     ]
    }
   ],
   "source": [
    "print(f\"Mean\\t: {np.mean([x.cpu() for x in all_auc_pr_micro])}\")\n",
    "print(f\" SD \\t: {np.std([x.cpu() for x in all_auc_pr_micro]) }\")"
   ]
  },
  {
   "cell_type": "code",
   "execution_count": null,
   "id": "c7ba0b65a6f9d28d",
   "metadata": {},
   "outputs": [
    {
     "name": "stdout",
     "output_type": "stream",
     "text": [
      "Mean\t: 0.5460756709701136\n",
      " SD \t: 0.09287175332011391\n"
     ]
    }
   ],
   "source": [
    "import numpy as np\n",
    "\n",
    "print(f\"Mean\\t: {np.mean([x for x in all_auc_roc_macro])}\")\n",
    "print(f\" SD \\t: {np.std([x for x in all_auc_roc_macro]) }\")"
   ]
  },
  {
   "cell_type": "code",
   "execution_count": null,
   "id": "705d6c739dff549",
   "metadata": {},
   "outputs": [
    {
     "name": "stdout",
     "output_type": "stream",
     "text": [
      "Mean\t: 0.27287272795250544\n",
      " SD \t: 0.05081944088174901\n"
     ]
    }
   ],
   "source": [
    "print(f\"Mean\\t: {np.mean([x for x in all_auc_pr_macro])}\")\n",
    "print(f\" SD \\t: {np.std([x for x in all_auc_pr_macro]) }\")"
   ]
  }
 ],
 "metadata": {
  "kernelspec": {
   "display_name": "Python 3 (ipykernel)",
   "language": "python",
   "name": "python3"
  },
  "language_info": {
   "codemirror_mode": {
    "name": "ipython",
    "version": 3
   },
   "file_extension": ".py",
   "mimetype": "text/x-python",
   "name": "python",
   "nbconvert_exporter": "python",
   "pygments_lexer": "ipython3"
  },
  "widgets": {
   "application/vnd.jupyter.widget-state+json": {
    "state": {},
    "version_major": 2,
    "version_minor": 0
   }
  }
 },
 "nbformat": 4,
 "nbformat_minor": 5
}
