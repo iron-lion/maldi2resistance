{
 "cells": [
  {
   "cell_type": "markdown",
   "id": "6c06d118-428e-4022-9284-d68fe0eeb134",
   "metadata": {},
   "source": [
    "# MultimodalAMR"
   ]
  },
  {
   "cell_type": "code",
   "execution_count": 1,
   "id": "6c4b645f-6b5e-428e-855c-64b7e33ff874",
   "metadata": {},
   "outputs": [
    {
     "name": "stdout",
     "output_type": "stream",
     "text": [
      "NVIDIA RTX 2000 Ada Generation Laptop GPU\n"
     ]
    }
   ],
   "source": [
    "import copy\n",
    "import numpy as np\n",
    "import pandas as pd\n",
    "import sys\n",
    "sys.path.insert(0,'../../')\n",
    "import torch\n",
    "from torch import nn\n",
    "import torchmetrics.classification\n",
    "from torch import cuda\n",
    "from torch.utils.data import DataLoader\n",
    "from multimodal_amr.models.modules import ResMLP\n",
    "from maldi2resistance.data.ms_data import MS_Data\n",
    "assert cuda.is_available()\n",
    "assert cuda.device_count() > 0\n",
    "print(cuda.get_device_name(cuda.current_device()))\n",
    "\n",
    "DEVICE = torch.device(\"cuda\")\n",
    "SEED = 42\n",
    "torch.manual_seed(SEED)\n",
    "\n",
    "save_folder = \"assymetric_loss_multimodalAMR_5cv-UMG\""
   ]
  },
  {
   "cell_type": "markdown",
   "id": "23b5a248-98cc-42cc-99b2-49bdd5ca1f35",
   "metadata": {},
   "source": [
    "### Load the Dataset"
   ]
  },
  {
   "cell_type": "code",
   "execution_count": 2,
   "id": "e3a3c09d-998c-4b2b-a561-878f8c302f6a",
   "metadata": {},
   "outputs": [],
   "source": [
    "UMG_antibiotics = ['Ampicillin',\n",
    " 'Cefotaxim',\n",
    " 'Ceftazidime',\n",
    " 'Ceftriaxone',\n",
    " 'Ciprofloxacin',\n",
    " 'Clindamycin',\n",
    " 'Cotrimoxazole',\n",
    " 'Erythromycin',\n",
    " 'Fosfomycin',\n",
    " 'Gentamicin',\n",
    " 'Imipenem',\n",
    " 'Levofloxacin',\n",
    " 'Meropenem',\n",
    " 'Moxifloxacin',\n",
    " 'Oxacillin',\n",
    " 'PenicillinG',\n",
    " 'Piperacillin-Tazobactam',\n",
    " 'Tetracycline',\n",
    " 'Vancomycin']"
   ]
  },
  {
   "cell_type": "code",
   "execution_count": 3,
   "id": "7a00707ac6b2975",
   "metadata": {},
   "outputs": [
    {
     "name": "stderr",
     "output_type": "stream",
     "text": [
      "/home/youngjunpark/Git/my_maldi/maldi2resistance/notebooks/multilabel_classification_assymetric-loss/../../maldi2resistance/data/ms_data.py:86: UserWarning: Metafile for Site (UMG) and Year (2021) combination not found!\n",
      "  warnings.warn(\n"
     ]
    },
    {
     "data": {
      "application/vnd.jupyter.widget-view+json": {
       "model_id": "",
       "version_major": 2,
       "version_minor": 0
      },
      "text/plain": [
       "Loading Spectra into Memory:   0%|          | 0/23669 [00:00<?, ?it/s]"
      ]
     },
     "metadata": {},
     "output_type": "display_data"
    },
    {
     "data": {
      "text/html": [
       "\n",
       "        <table>\n",
       "            <thead>\n",
       "                <tr>\n",
       "                    <th>Antibiotic:</th>\n",
       "                    <th> Ampicillin </th><th> Cefotaxim </th><th> Ceftazidime </th><th> Ceftriaxone </th><th> Ciprofloxacin </th><th> Clindamycin </th><th> Cotrimoxazole </th><th> Erythromycin </th><th> Fosfomycin </th><th> Gentamicin </th><th> Imipenem </th><th> Levofloxacin </th><th> Meropenem </th><th> Moxifloxacin </th><th> Oxacillin </th><th> PenicillinG </th><th> Piperacillin-Tazobactam </th><th> Tetracycline </th><th> Vancomycin </th>\n",
       "                </tr>\n",
       "            </thead>\n",
       "            <tbody>\n",
       "                <tr>\n",
       "                    <td>Number resistant:</td>\n",
       "                    <td> 8045 </td><td> 1203 </td><td> 2937 </td><td> 597 </td><td> 3267 </td><td> 5459 </td><td> 5257 </td><td> 5475 </td><td> 1849 </td><td> 12669 </td><td> 3938 </td><td> 1599 </td><td> 515 </td><td> 2808 </td><td> 1868 </td><td> 5883 </td><td> 3343 </td><td> 1356 </td><td> 330 </td>\n",
       "                </tr>\n",
       "                <tr>\n",
       "                    <td>Number susceptible:</td>\n",
       "                    <td> 7465 </td><td> 9931 </td><td> 8980 </td><td> 4852 </td><td> 9245 </td><td> 5381 </td><td> 14354 </td><td> 4098 </td><td> 7920 </td><td> 4800 </td><td> 11342 </td><td> 4224 </td><td> 11917 </td><td> 5045 </td><td> 3804 </td><td> 1885 </td><td> 8624 </td><td> 4625 </td><td> 10551 </td>\n",
       "                </tr>\n",
       "                <tr>\n",
       "                    <td>Number data points:</td>\n",
       "                    <td> 15510 </td><td> 11134 </td><td> 11917 </td><td> 5449 </td><td> 12512 </td><td> 10840 </td><td> 19611 </td><td> 9573 </td><td> 9769 </td><td> 17469 </td><td> 15280 </td><td> 5823 </td><td> 12432 </td><td> 7853 </td><td> 5672 </td><td> 7768 </td><td> 11967 </td><td> 5981 </td><td> 10881 </td>\n",
       "                </tr>\n",
       "            </tbody>\n",
       "        </table>\n",
       "                "
      ],
      "text/plain": [
       "<maldi2resistance.data.ms_data.MS_Data at 0x790e72b4a510>"
      ]
     },
     "execution_count": 3,
     "metadata": {},
     "output_type": "execute_result"
    }
   ],
   "source": [
    "ms_data = MS_Data(\n",
    "    root_dir=\"/home/youngjunpark/Data/MS_data\",\n",
    "    sites=[\"UMG\"],\n",
    "    years=[2020,2021],\n",
    "    bin_size=1,\n",
    "    antibiotics=UMG_antibiotics,\n",
    ")\n",
    "ms_data.loading_type = \"memory\"\n",
    "ms_data"
   ]
  },
  {
   "cell_type": "code",
   "execution_count": 4,
   "id": "2076d3e6-93f3-45bb-b8f6-3a94173048ad",
   "metadata": {},
   "outputs": [
    {
     "data": {
      "text/plain": [
       "19"
      ]
     },
     "execution_count": 4,
     "metadata": {},
     "output_type": "execute_result"
    }
   ],
   "source": [
    "len(ms_data.label_stats.columns)"
   ]
  },
  {
   "cell_type": "code",
   "execution_count": 5,
   "id": "60665b7b-1494-4270-9a19-2bcca91dbb17",
   "metadata": {},
   "outputs": [],
   "source": [
    "class Residual_AMR_Classifier(nn.Module):\n",
    "    \"\"\"Overall model definition.\"\"\"\n",
    "\n",
    "    def __init__(self, config, n_input_spectrum, n_input_drug):\n",
    "        super().__init__()\n",
    "        self.config = config\n",
    "\n",
    "        # Sample embedding\n",
    "        if config[\"species_embedding_dim\"]==0 and config[\"conv_out_size\"]==config[\"sample_embedding_dim\"]:\n",
    "            self.sample_emb = nn.Identity()\n",
    "        elif config[\"species_embedding_dim\"]==0:\n",
    "            self.sample_emb = nn.Linear(\n",
    "                config[\"conv_out_size\"],\n",
    "                config[\"sample_embedding_dim\"],\n",
    "            )\n",
    "        else:\n",
    "            self.sample_emb = nn.Linear(\n",
    "                config[\"conv_out_size\"] + config[\"species_embedding_dim\"],\n",
    "                config[\"sample_embedding_dim\"],\n",
    "            )\n",
    "\n",
    "        self.spectrum_emb = nn.Linear(n_input_spectrum ,config[\"conv_out_size\"])\n",
    "\n",
    "        # Drugs layers\n",
    "        # if config[\"drug_emb_type\"] == \"vae_embedding\" or config[\"drug_emb_type\"] == \"gnn_embedding\":\n",
    "        #     self.drug_emb = nn.Identity()\n",
    "        # elif config[\"drug_emb_type\"] == \"fingerprint\":\n",
    "        self.drug_emb = nn.Linear(\n",
    "            n_input_drug, config[\"drug_embedding_dim\"]\n",
    "        )\n",
    "\n",
    "        # Output network\n",
    "        self.net = ResMLP(\n",
    "            config[\"n_hidden_layers\"],\n",
    "            config[\"sample_embedding_dim\"] + config[\"drug_embedding_dim\"],\n",
    "            1,\n",
    "            p_dropout=0.2,\n",
    "        )\n",
    "\n",
    "    def forward(self, spectrum, fingerprint):\n",
    "        spectrum_embedding = self.spectrum_emb(spectrum)\n",
    "        dr_emb = self.drug_emb(fingerprint)\n",
    "\n",
    "        return self.net(torch.cat([dr_emb, spectrum_embedding], dim=1))\n",
    "\n",
    "\n",
    "\n",
    "\n",
    "conf = {\n",
    "    \"conv_out_size\": 512,\n",
    "    \"species_embedding_dim\":0,\n",
    "    \"sample_embedding_dim\":512,\n",
    "    \"drug_embedding_dim\":512,\n",
    "    \"n_hidden_layers\": 5,\n",
    "}"
   ]
  },
  {
   "cell_type": "code",
   "execution_count": 6,
   "id": "c53d2d1b-501e-479f-ae62-12a5b76449a9",
   "metadata": {},
   "outputs": [],
   "source": [
    "model = Residual_AMR_Classifier(config= conf,n_input_spectrum = ms_data.n_bins, n_input_drug= 1024)\n",
    "model = model.to(DEVICE)\n",
    "\n",
    "model_state = copy.deepcopy(model.state_dict()) "
   ]
  },
  {
   "cell_type": "code",
   "execution_count": 7,
   "id": "db166a21-bfa7-4865-8b54-f1f1cf239027",
   "metadata": {},
   "outputs": [
    {
     "name": "stdout",
     "output_type": "stream",
     "text": [
      "======================================================================\n",
      "Layer (type:depth-idx)                        Param #\n",
      "======================================================================\n",
      "Residual_AMR_Classifier                       --\n",
      "├─Identity: 1-1                               --\n",
      "├─Linear: 1-2                                 9,216,512\n",
      "├─Linear: 1-3                                 524,800\n",
      "├─ResMLP: 1-4                                 --\n",
      "│    └─Sequential: 2-1                        --\n",
      "│    │    └─ResBlock: 3-1                     1,051,648\n",
      "│    │    └─ResBlock: 3-2                     1,051,648\n",
      "│    │    └─ResBlock: 3-3                     1,051,648\n",
      "│    │    └─ResBlock: 3-4                     1,051,648\n",
      "│    │    └─ResBlock: 3-5                     1,051,648\n",
      "│    │    └─Linear: 3-6                       1,025\n",
      "======================================================================\n",
      "Total params: 15,000,577\n",
      "Trainable params: 15,000,577\n",
      "Non-trainable params: 0\n",
      "======================================================================\n"
     ]
    }
   ],
   "source": [
    "from torchinfo import summary\n",
    "\n",
    "print(summary(model))"
   ]
  },
  {
   "cell_type": "code",
   "execution_count": 8,
   "id": "a0664c35-aeed-4ae3-bb00-04b83d1bdb00",
   "metadata": {},
   "outputs": [
    {
     "name": "stdout",
     "output_type": "stream",
     "text": [
      "Start training ...\n"
     ]
    },
    {
     "data": {
      "application/vnd.jupyter.widget-view+json": {
       "model_id": "",
       "version_major": 2,
       "version_minor": 0
      },
      "text/plain": [
       "Create single label Dataset:   0%|          | 0/18935 [00:00<?, ?it/s]"
      ]
     },
     "metadata": {},
     "output_type": "display_data"
    },
    {
     "name": "stderr",
     "output_type": "stream",
     "text": [
      "[18:13:09] DEPRECATION WARNING: please use MorganGenerator\n",
      "[18:13:09] DEPRECATION WARNING: please use MorganGenerator\n",
      "[18:13:09] DEPRECATION WARNING: please use MorganGenerator\n",
      "[18:13:09] DEPRECATION WARNING: please use MorganGenerator\n",
      "[18:13:09] DEPRECATION WARNING: please use MorganGenerator\n",
      "[18:13:09] DEPRECATION WARNING: please use MorganGenerator\n",
      "[18:13:09] DEPRECATION WARNING: please use MorganGenerator\n",
      "[18:13:09] DEPRECATION WARNING: please use MorganGenerator\n",
      "[18:13:09] DEPRECATION WARNING: please use MorganGenerator\n",
      "[18:13:09] DEPRECATION WARNING: please use MorganGenerator\n",
      "[18:13:09] DEPRECATION WARNING: please use MorganGenerator\n",
      "[18:13:09] DEPRECATION WARNING: please use MorganGenerator\n",
      "[18:13:09] DEPRECATION WARNING: please use MorganGenerator\n",
      "[18:13:09] DEPRECATION WARNING: please use MorganGenerator\n",
      "[18:13:09] DEPRECATION WARNING: please use MorganGenerator\n",
      "[18:13:09] DEPRECATION WARNING: please use MorganGenerator\n",
      "[18:13:09] DEPRECATION WARNING: please use MorganGenerator\n",
      "[18:13:09] DEPRECATION WARNING: please use MorganGenerator\n",
      "[18:13:09] DEPRECATION WARNING: please use MorganGenerator\n"
     ]
    },
    {
     "data": {
      "application/vnd.jupyter.widget-view+json": {
       "model_id": "",
       "version_major": 2,
       "version_minor": 0
      },
      "text/plain": [
       "Create single label Dataset:   0%|          | 0/4734 [00:00<?, ?it/s]"
      ]
     },
     "metadata": {},
     "output_type": "display_data"
    },
    {
     "name": "stderr",
     "output_type": "stream",
     "text": [
      "[18:13:28] DEPRECATION WARNING: please use MorganGenerator\n",
      "[18:13:28] DEPRECATION WARNING: please use MorganGenerator\n",
      "[18:13:28] DEPRECATION WARNING: please use MorganGenerator\n",
      "[18:13:28] DEPRECATION WARNING: please use MorganGenerator\n",
      "[18:13:28] DEPRECATION WARNING: please use MorganGenerator\n",
      "[18:13:28] DEPRECATION WARNING: please use MorganGenerator\n",
      "[18:13:28] DEPRECATION WARNING: please use MorganGenerator\n",
      "[18:13:28] DEPRECATION WARNING: please use MorganGenerator\n",
      "[18:13:28] DEPRECATION WARNING: please use MorganGenerator\n",
      "[18:13:28] DEPRECATION WARNING: please use MorganGenerator\n",
      "[18:13:28] DEPRECATION WARNING: please use MorganGenerator\n",
      "[18:13:28] DEPRECATION WARNING: please use MorganGenerator\n",
      "[18:13:28] DEPRECATION WARNING: please use MorganGenerator\n",
      "[18:13:28] DEPRECATION WARNING: please use MorganGenerator\n",
      "[18:13:28] DEPRECATION WARNING: please use MorganGenerator\n",
      "[18:13:28] DEPRECATION WARNING: please use MorganGenerator\n",
      "[18:13:28] DEPRECATION WARNING: please use MorganGenerator\n",
      "[18:13:28] DEPRECATION WARNING: please use MorganGenerator\n",
      "[18:13:28] DEPRECATION WARNING: please use MorganGenerator\n"
     ]
    },
    {
     "data": {
      "application/vnd.jupyter.widget-view+json": {
       "model_id": "",
       "version_major": 2,
       "version_minor": 0
      },
      "text/plain": [
       "  0%|          | 0/30 [00:00<?, ?it/s]"
      ]
     },
     "metadata": {},
     "output_type": "display_data"
    },
    {
     "name": "stdout",
     "output_type": "stream",
     "text": [
      "\tAverage Loss: 95737627.516128 \tLearning rate: 0.001000\n",
      "\tAverage Loss: 10035.201840 \tLearning rate: 0.001000\n",
      "\tAverage Loss: 5712.775135 \tLearning rate: 0.001000\n",
      "\tAverage Loss: 5712.700149 \tLearning rate: 0.001000\n",
      "\tAverage Loss: 5714.970954 \tLearning rate: 0.001000\n",
      "\tAverage Loss: 5710.764998 \tLearning rate: 0.001000\n",
      "\tAverage Loss: 5712.701087 \tLearning rate: 0.001000\n",
      "\tAverage Loss: 5713.818888 \tLearning rate: 0.001000\n",
      "\tAverage Loss: 5711.633784 \tLearning rate: 0.001000\n",
      "\tAverage Loss: 5711.734707 \tLearning rate: 0.000500\n",
      "\tAverage Loss: 5711.930299 \tLearning rate: 0.000500\n",
      "\tAverage Loss: 5711.784824 \tLearning rate: 0.000500\n",
      "\tAverage Loss: 5711.754985 \tLearning rate: 0.000500\n",
      "\tAverage Loss: 5713.081252 \tLearning rate: 0.000500\n",
      "\tAverage Loss: 5712.859024 \tLearning rate: 0.000500\n",
      "\tAverage Loss: 5711.521234 \tLearning rate: 0.000500\n",
      "\tAverage Loss: 5715.577778 \tLearning rate: 0.000500\n",
      "\tAverage Loss: 5712.208826 \tLearning rate: 0.000500\n",
      "\tAverage Loss: 5712.502111 \tLearning rate: 0.000500\n",
      "\tAverage Loss: 5709.976135 \tLearning rate: 0.000250\n",
      "\tAverage Loss: 5710.631057 \tLearning rate: 0.000250\n",
      "\tAverage Loss: 5711.030952 \tLearning rate: 0.000250\n",
      "\tAverage Loss: 5713.911956 \tLearning rate: 0.000250\n",
      "\tAverage Loss: 5712.395038 \tLearning rate: 0.000250\n",
      "\tAverage Loss: 5712.949820 \tLearning rate: 0.000250\n",
      "\tAverage Loss: 5712.229997 \tLearning rate: 0.000250\n",
      "\tAverage Loss: 5711.387777 \tLearning rate: 0.000250\n",
      "\tAverage Loss: 5712.004883 \tLearning rate: 0.000250\n",
      "\tAverage Loss: 5712.201575 \tLearning rate: 0.000250\n",
      "\tAverage Loss: 5711.516280 \tLearning rate: 0.000125\n",
      "Finished Fold 0\n"
     ]
    },
    {
     "data": {
      "application/vnd.jupyter.widget-view+json": {
       "model_id": "",
       "version_major": 2,
       "version_minor": 0
      },
      "text/plain": [
       "Create single label Dataset:   0%|          | 0/4734 [00:00<?, ?it/s]"
      ]
     },
     "metadata": {},
     "output_type": "display_data"
    },
    {
     "data": {
      "application/vnd.jupyter.widget-view+json": {
       "model_id": "",
       "version_major": 2,
       "version_minor": 0
      },
      "text/plain": [
       "Create single label Dataset:   0%|          | 0/18935 [00:00<?, ?it/s]"
      ]
     },
     "metadata": {},
     "output_type": "display_data"
    },
    {
     "name": "stderr",
     "output_type": "stream",
     "text": [
      "[18:46:26] DEPRECATION WARNING: please use MorganGenerator\n",
      "[18:46:26] DEPRECATION WARNING: please use MorganGenerator\n",
      "[18:46:26] DEPRECATION WARNING: please use MorganGenerator\n",
      "[18:46:26] DEPRECATION WARNING: please use MorganGenerator\n",
      "[18:46:26] DEPRECATION WARNING: please use MorganGenerator\n",
      "[18:46:26] DEPRECATION WARNING: please use MorganGenerator\n",
      "[18:46:26] DEPRECATION WARNING: please use MorganGenerator\n",
      "[18:46:26] DEPRECATION WARNING: please use MorganGenerator\n",
      "[18:46:26] DEPRECATION WARNING: please use MorganGenerator\n",
      "[18:46:26] DEPRECATION WARNING: please use MorganGenerator\n",
      "[18:46:26] DEPRECATION WARNING: please use MorganGenerator\n",
      "[18:46:26] DEPRECATION WARNING: please use MorganGenerator\n",
      "[18:46:26] DEPRECATION WARNING: please use MorganGenerator\n",
      "[18:46:26] DEPRECATION WARNING: please use MorganGenerator\n",
      "[18:46:26] DEPRECATION WARNING: please use MorganGenerator\n",
      "[18:46:26] DEPRECATION WARNING: please use MorganGenerator\n",
      "[18:46:26] DEPRECATION WARNING: please use MorganGenerator\n",
      "[18:46:26] DEPRECATION WARNING: please use MorganGenerator\n",
      "[18:46:26] DEPRECATION WARNING: please use MorganGenerator\n"
     ]
    },
    {
     "data": {
      "application/vnd.jupyter.widget-view+json": {
       "model_id": "",
       "version_major": 2,
       "version_minor": 0
      },
      "text/plain": [
       "Create single label Dataset:   0%|          | 0/4734 [00:00<?, ?it/s]"
      ]
     },
     "metadata": {},
     "output_type": "display_data"
    },
    {
     "name": "stderr",
     "output_type": "stream",
     "text": [
      "[18:46:43] DEPRECATION WARNING: please use MorganGenerator\n",
      "[18:46:43] DEPRECATION WARNING: please use MorganGenerator\n",
      "[18:46:43] DEPRECATION WARNING: please use MorganGenerator\n",
      "[18:46:43] DEPRECATION WARNING: please use MorganGenerator\n",
      "[18:46:43] DEPRECATION WARNING: please use MorganGenerator\n",
      "[18:46:43] DEPRECATION WARNING: please use MorganGenerator\n",
      "[18:46:43] DEPRECATION WARNING: please use MorganGenerator\n",
      "[18:46:43] DEPRECATION WARNING: please use MorganGenerator\n",
      "[18:46:43] DEPRECATION WARNING: please use MorganGenerator\n",
      "[18:46:43] DEPRECATION WARNING: please use MorganGenerator\n",
      "[18:46:43] DEPRECATION WARNING: please use MorganGenerator\n",
      "[18:46:43] DEPRECATION WARNING: please use MorganGenerator\n",
      "[18:46:43] DEPRECATION WARNING: please use MorganGenerator\n",
      "[18:46:43] DEPRECATION WARNING: please use MorganGenerator\n",
      "[18:46:43] DEPRECATION WARNING: please use MorganGenerator\n",
      "[18:46:43] DEPRECATION WARNING: please use MorganGenerator\n",
      "[18:46:43] DEPRECATION WARNING: please use MorganGenerator\n",
      "[18:46:43] DEPRECATION WARNING: please use MorganGenerator\n",
      "[18:46:43] DEPRECATION WARNING: please use MorganGenerator\n"
     ]
    },
    {
     "data": {
      "application/vnd.jupyter.widget-view+json": {
       "model_id": "",
       "version_major": 2,
       "version_minor": 0
      },
      "text/plain": [
       "  0%|          | 0/30 [00:00<?, ?it/s]"
      ]
     },
     "metadata": {},
     "output_type": "display_data"
    },
    {
     "name": "stdout",
     "output_type": "stream",
     "text": [
      "\tAverage Loss: 720669.415973 \tLearning rate: 0.001000\n",
      "\tAverage Loss: 3452.639057 \tLearning rate: 0.001000\n",
      "\tAverage Loss: 3484.712386 \tLearning rate: 0.001000\n",
      "\tAverage Loss: 3484.651631 \tLearning rate: 0.001000\n",
      "\tAverage Loss: 3484.013930 \tLearning rate: 0.001000\n",
      "\tAverage Loss: 3484.674325 \tLearning rate: 0.001000\n",
      "\tAverage Loss: 3484.377790 \tLearning rate: 0.001000\n",
      "\tAverage Loss: 3484.979202 \tLearning rate: 0.001000\n",
      "\tAverage Loss: 3485.878761 \tLearning rate: 0.001000\n",
      "\tAverage Loss: 3484.244678 \tLearning rate: 0.000500\n",
      "\tAverage Loss: 3484.522518 \tLearning rate: 0.000500\n",
      "\tAverage Loss: 3484.957158 \tLearning rate: 0.000500\n",
      "\tAverage Loss: 3484.870363 \tLearning rate: 0.000500\n",
      "\tAverage Loss: 3484.353580 \tLearning rate: 0.000500\n",
      "\tAverage Loss: 3485.196716 \tLearning rate: 0.000500\n",
      "\tAverage Loss: 3485.362126 \tLearning rate: 0.000500\n",
      "\tAverage Loss: 3483.650211 \tLearning rate: 0.000500\n",
      "\tAverage Loss: 3483.599630 \tLearning rate: 0.000500\n",
      "\tAverage Loss: 3484.293889 \tLearning rate: 0.000500\n",
      "\tAverage Loss: 3484.428484 \tLearning rate: 0.000250\n",
      "\tAverage Loss: 3484.429175 \tLearning rate: 0.000250\n",
      "\tAverage Loss: 3484.414985 \tLearning rate: 0.000250\n",
      "\tAverage Loss: 3483.814643 \tLearning rate: 0.000250\n",
      "\tAverage Loss: 3484.905314 \tLearning rate: 0.000250\n",
      "\tAverage Loss: 3484.771913 \tLearning rate: 0.000250\n",
      "\tAverage Loss: 3484.514723 \tLearning rate: 0.000250\n",
      "\tAverage Loss: 3484.046721 \tLearning rate: 0.000250\n",
      "\tAverage Loss: 3484.357977 \tLearning rate: 0.000250\n",
      "\tAverage Loss: 3484.084051 \tLearning rate: 0.000250\n",
      "\tAverage Loss: 3484.670302 \tLearning rate: 0.000125\n",
      "Finished Fold 1\n"
     ]
    },
    {
     "data": {
      "application/vnd.jupyter.widget-view+json": {
       "model_id": "",
       "version_major": 2,
       "version_minor": 0
      },
      "text/plain": [
       "Create single label Dataset:   0%|          | 0/4734 [00:00<?, ?it/s]"
      ]
     },
     "metadata": {},
     "output_type": "display_data"
    },
    {
     "data": {
      "application/vnd.jupyter.widget-view+json": {
       "model_id": "",
       "version_major": 2,
       "version_minor": 0
      },
      "text/plain": [
       "Create single label Dataset:   0%|          | 0/18935 [00:00<?, ?it/s]"
      ]
     },
     "metadata": {},
     "output_type": "display_data"
    },
    {
     "name": "stderr",
     "output_type": "stream",
     "text": [
      "[19:21:56] DEPRECATION WARNING: please use MorganGenerator\n",
      "[19:21:56] DEPRECATION WARNING: please use MorganGenerator\n",
      "[19:21:56] DEPRECATION WARNING: please use MorganGenerator\n",
      "[19:21:56] DEPRECATION WARNING: please use MorganGenerator\n",
      "[19:21:56] DEPRECATION WARNING: please use MorganGenerator\n",
      "[19:21:56] DEPRECATION WARNING: please use MorganGenerator\n",
      "[19:21:56] DEPRECATION WARNING: please use MorganGenerator\n",
      "[19:21:56] DEPRECATION WARNING: please use MorganGenerator\n",
      "[19:21:56] DEPRECATION WARNING: please use MorganGenerator\n",
      "[19:21:56] DEPRECATION WARNING: please use MorganGenerator\n",
      "[19:21:56] DEPRECATION WARNING: please use MorganGenerator\n",
      "[19:21:56] DEPRECATION WARNING: please use MorganGenerator\n",
      "[19:21:56] DEPRECATION WARNING: please use MorganGenerator\n",
      "[19:21:56] DEPRECATION WARNING: please use MorganGenerator\n",
      "[19:21:56] DEPRECATION WARNING: please use MorganGenerator\n",
      "[19:21:56] DEPRECATION WARNING: please use MorganGenerator\n",
      "[19:21:56] DEPRECATION WARNING: please use MorganGenerator\n",
      "[19:21:56] DEPRECATION WARNING: please use MorganGenerator\n",
      "[19:21:56] DEPRECATION WARNING: please use MorganGenerator\n"
     ]
    },
    {
     "data": {
      "application/vnd.jupyter.widget-view+json": {
       "model_id": "",
       "version_major": 2,
       "version_minor": 0
      },
      "text/plain": [
       "Create single label Dataset:   0%|          | 0/4734 [00:00<?, ?it/s]"
      ]
     },
     "metadata": {},
     "output_type": "display_data"
    },
    {
     "name": "stderr",
     "output_type": "stream",
     "text": [
      "[19:22:13] DEPRECATION WARNING: please use MorganGenerator\n",
      "[19:22:13] DEPRECATION WARNING: please use MorganGenerator\n",
      "[19:22:13] DEPRECATION WARNING: please use MorganGenerator\n",
      "[19:22:13] DEPRECATION WARNING: please use MorganGenerator\n",
      "[19:22:13] DEPRECATION WARNING: please use MorganGenerator\n",
      "[19:22:13] DEPRECATION WARNING: please use MorganGenerator\n",
      "[19:22:13] DEPRECATION WARNING: please use MorganGenerator\n",
      "[19:22:13] DEPRECATION WARNING: please use MorganGenerator\n",
      "[19:22:13] DEPRECATION WARNING: please use MorganGenerator\n",
      "[19:22:13] DEPRECATION WARNING: please use MorganGenerator\n",
      "[19:22:13] DEPRECATION WARNING: please use MorganGenerator\n",
      "[19:22:13] DEPRECATION WARNING: please use MorganGenerator\n",
      "[19:22:13] DEPRECATION WARNING: please use MorganGenerator\n",
      "[19:22:13] DEPRECATION WARNING: please use MorganGenerator\n",
      "[19:22:13] DEPRECATION WARNING: please use MorganGenerator\n",
      "[19:22:13] DEPRECATION WARNING: please use MorganGenerator\n",
      "[19:22:13] DEPRECATION WARNING: please use MorganGenerator\n",
      "[19:22:13] DEPRECATION WARNING: please use MorganGenerator\n",
      "[19:22:13] DEPRECATION WARNING: please use MorganGenerator\n"
     ]
    },
    {
     "data": {
      "application/vnd.jupyter.widget-view+json": {
       "model_id": "",
       "version_major": 2,
       "version_minor": 0
      },
      "text/plain": [
       "  0%|          | 0/30 [00:00<?, ?it/s]"
      ]
     },
     "metadata": {},
     "output_type": "display_data"
    },
    {
     "name": "stdout",
     "output_type": "stream",
     "text": [
      "\tAverage Loss: 1462972.304897 \tLearning rate: 0.001000\n",
      "\tAverage Loss: 8741089.412104 \tLearning rate: 0.001000\n",
      "\tAverage Loss: 8032.461654 \tLearning rate: 0.001000\n",
      "\tAverage Loss: 3716.511769 \tLearning rate: 0.001000\n",
      "\tAverage Loss: 3716.597864 \tLearning rate: 0.001000\n",
      "\tAverage Loss: 3716.890528 \tLearning rate: 0.001000\n",
      "\tAverage Loss: 3717.439830 \tLearning rate: 0.001000\n",
      "\tAverage Loss: 3716.191445 \tLearning rate: 0.001000\n",
      "\tAverage Loss: 3718.362800 \tLearning rate: 0.001000\n",
      "\tAverage Loss: 3717.877165 \tLearning rate: 0.000500\n",
      "\tAverage Loss: 3716.773910 \tLearning rate: 0.000500\n",
      "\tAverage Loss: 3717.617223 \tLearning rate: 0.000500\n",
      "\tAverage Loss: 3718.677333 \tLearning rate: 0.000500\n",
      "\tAverage Loss: 15783.890537 \tLearning rate: 0.000500\n",
      "\tAverage Loss: 4850.719524 \tLearning rate: 0.000500\n",
      "\tAverage Loss: 4900.826959 \tLearning rate: 0.000500\n",
      "\tAverage Loss: 4901.201754 \tLearning rate: 0.000500\n",
      "\tAverage Loss: 4902.160042 \tLearning rate: 0.000500\n",
      "\tAverage Loss: 4901.609258 \tLearning rate: 0.000500\n",
      "\tAverage Loss: 4901.127814 \tLearning rate: 0.000250\n",
      "\tAverage Loss: 4901.866076 \tLearning rate: 0.000250\n",
      "\tAverage Loss: 4901.417561 \tLearning rate: 0.000250\n",
      "\tAverage Loss: 4901.658509 \tLearning rate: 0.000250\n",
      "\tAverage Loss: 4900.468299 \tLearning rate: 0.000250\n",
      "\tAverage Loss: 4900.910082 \tLearning rate: 0.000250\n",
      "\tAverage Loss: 4900.151486 \tLearning rate: 0.000250\n",
      "\tAverage Loss: 4900.175259 \tLearning rate: 0.000250\n",
      "\tAverage Loss: 4900.549615 \tLearning rate: 0.000250\n",
      "\tAverage Loss: 4899.328969 \tLearning rate: 0.000250\n",
      "\tAverage Loss: 4899.515635 \tLearning rate: 0.000125\n",
      "Finished Fold 2\n"
     ]
    },
    {
     "data": {
      "application/vnd.jupyter.widget-view+json": {
       "model_id": "",
       "version_major": 2,
       "version_minor": 0
      },
      "text/plain": [
       "Create single label Dataset:   0%|          | 0/4734 [00:00<?, ?it/s]"
      ]
     },
     "metadata": {},
     "output_type": "display_data"
    },
    {
     "data": {
      "application/vnd.jupyter.widget-view+json": {
       "model_id": "",
       "version_major": 2,
       "version_minor": 0
      },
      "text/plain": [
       "Create single label Dataset:   0%|          | 0/18935 [00:00<?, ?it/s]"
      ]
     },
     "metadata": {},
     "output_type": "display_data"
    },
    {
     "name": "stderr",
     "output_type": "stream",
     "text": [
      "[19:52:09] DEPRECATION WARNING: please use MorganGenerator\n",
      "[19:52:09] DEPRECATION WARNING: please use MorganGenerator\n",
      "[19:52:09] DEPRECATION WARNING: please use MorganGenerator\n",
      "[19:52:09] DEPRECATION WARNING: please use MorganGenerator\n",
      "[19:52:09] DEPRECATION WARNING: please use MorganGenerator\n",
      "[19:52:09] DEPRECATION WARNING: please use MorganGenerator\n",
      "[19:52:09] DEPRECATION WARNING: please use MorganGenerator\n",
      "[19:52:09] DEPRECATION WARNING: please use MorganGenerator\n",
      "[19:52:09] DEPRECATION WARNING: please use MorganGenerator\n",
      "[19:52:09] DEPRECATION WARNING: please use MorganGenerator\n",
      "[19:52:09] DEPRECATION WARNING: please use MorganGenerator\n",
      "[19:52:09] DEPRECATION WARNING: please use MorganGenerator\n",
      "[19:52:09] DEPRECATION WARNING: please use MorganGenerator\n",
      "[19:52:09] DEPRECATION WARNING: please use MorganGenerator\n",
      "[19:52:09] DEPRECATION WARNING: please use MorganGenerator\n",
      "[19:52:09] DEPRECATION WARNING: please use MorganGenerator\n",
      "[19:52:09] DEPRECATION WARNING: please use MorganGenerator\n",
      "[19:52:09] DEPRECATION WARNING: please use MorganGenerator\n",
      "[19:52:09] DEPRECATION WARNING: please use MorganGenerator\n"
     ]
    },
    {
     "data": {
      "application/vnd.jupyter.widget-view+json": {
       "model_id": "",
       "version_major": 2,
       "version_minor": 0
      },
      "text/plain": [
       "Create single label Dataset:   0%|          | 0/4734 [00:00<?, ?it/s]"
      ]
     },
     "metadata": {},
     "output_type": "display_data"
    },
    {
     "name": "stderr",
     "output_type": "stream",
     "text": [
      "[19:52:26] DEPRECATION WARNING: please use MorganGenerator\n",
      "[19:52:26] DEPRECATION WARNING: please use MorganGenerator\n",
      "[19:52:26] DEPRECATION WARNING: please use MorganGenerator\n",
      "[19:52:26] DEPRECATION WARNING: please use MorganGenerator\n",
      "[19:52:26] DEPRECATION WARNING: please use MorganGenerator\n",
      "[19:52:26] DEPRECATION WARNING: please use MorganGenerator\n",
      "[19:52:26] DEPRECATION WARNING: please use MorganGenerator\n",
      "[19:52:26] DEPRECATION WARNING: please use MorganGenerator\n",
      "[19:52:26] DEPRECATION WARNING: please use MorganGenerator\n",
      "[19:52:26] DEPRECATION WARNING: please use MorganGenerator\n",
      "[19:52:26] DEPRECATION WARNING: please use MorganGenerator\n",
      "[19:52:26] DEPRECATION WARNING: please use MorganGenerator\n",
      "[19:52:26] DEPRECATION WARNING: please use MorganGenerator\n",
      "[19:52:26] DEPRECATION WARNING: please use MorganGenerator\n",
      "[19:52:26] DEPRECATION WARNING: please use MorganGenerator\n",
      "[19:52:26] DEPRECATION WARNING: please use MorganGenerator\n",
      "[19:52:26] DEPRECATION WARNING: please use MorganGenerator\n",
      "[19:52:26] DEPRECATION WARNING: please use MorganGenerator\n",
      "[19:52:26] DEPRECATION WARNING: please use MorganGenerator\n"
     ]
    },
    {
     "data": {
      "application/vnd.jupyter.widget-view+json": {
       "model_id": "",
       "version_major": 2,
       "version_minor": 0
      },
      "text/plain": [
       "  0%|          | 0/30 [00:00<?, ?it/s]"
      ]
     },
     "metadata": {},
     "output_type": "display_data"
    },
    {
     "name": "stdout",
     "output_type": "stream",
     "text": [
      "\tAverage Loss: 422098.568548 \tLearning rate: 0.001000\n",
      "\tAverage Loss: 3523.255658 \tLearning rate: 0.001000\n",
      "\tAverage Loss: 3523.739886 \tLearning rate: 0.001000\n",
      "\tAverage Loss: 3523.318287 \tLearning rate: 0.001000\n",
      "\tAverage Loss: 3524.172401 \tLearning rate: 0.001000\n",
      "\tAverage Loss: 3523.955031 \tLearning rate: 0.001000\n",
      "\tAverage Loss: 154664.452837 \tLearning rate: 0.001000\n",
      "\tAverage Loss: 3670.957149 \tLearning rate: 0.001000\n",
      "\tAverage Loss: 3670.996710 \tLearning rate: 0.001000\n",
      "\tAverage Loss: 3671.504874 \tLearning rate: 0.000500\n",
      "\tAverage Loss: 3670.323322 \tLearning rate: 0.000500\n",
      "\tAverage Loss: 3670.574160 \tLearning rate: 0.000500\n",
      "\tAverage Loss: 3670.429950 \tLearning rate: 0.000500\n",
      "\tAverage Loss: 3671.502355 \tLearning rate: 0.000500\n",
      "\tAverage Loss: 3669.410777 \tLearning rate: 0.000500\n",
      "\tAverage Loss: 3670.728084 \tLearning rate: 0.000500\n",
      "\tAverage Loss: 3671.495995 \tLearning rate: 0.000500\n",
      "\tAverage Loss: 3671.188421 \tLearning rate: 0.000500\n",
      "\tAverage Loss: 3672.010565 \tLearning rate: 0.000500\n",
      "\tAverage Loss: 3671.733580 \tLearning rate: 0.000250\n",
      "\tAverage Loss: 3670.560288 \tLearning rate: 0.000250\n",
      "\tAverage Loss: 3670.106250 \tLearning rate: 0.000250\n",
      "\tAverage Loss: 3670.344973 \tLearning rate: 0.000250\n",
      "\tAverage Loss: 3671.264584 \tLearning rate: 0.000250\n",
      "\tAverage Loss: 3670.230852 \tLearning rate: 0.000250\n",
      "\tAverage Loss: 3670.321846 \tLearning rate: 0.000250\n",
      "\tAverage Loss: 3672.023605 \tLearning rate: 0.000250\n",
      "\tAverage Loss: 3672.574677 \tLearning rate: 0.000250\n",
      "\tAverage Loss: 3671.009152 \tLearning rate: 0.000250\n",
      "\tAverage Loss: 3671.613860 \tLearning rate: 0.000125\n",
      "Finished Fold 3\n"
     ]
    },
    {
     "data": {
      "application/vnd.jupyter.widget-view+json": {
       "model_id": "",
       "version_major": 2,
       "version_minor": 0
      },
      "text/plain": [
       "Create single label Dataset:   0%|          | 0/4734 [00:00<?, ?it/s]"
      ]
     },
     "metadata": {},
     "output_type": "display_data"
    },
    {
     "data": {
      "application/vnd.jupyter.widget-view+json": {
       "model_id": "",
       "version_major": 2,
       "version_minor": 0
      },
      "text/plain": [
       "Create single label Dataset:   0%|          | 0/18936 [00:00<?, ?it/s]"
      ]
     },
     "metadata": {},
     "output_type": "display_data"
    },
    {
     "name": "stderr",
     "output_type": "stream",
     "text": [
      "[20:22:27] DEPRECATION WARNING: please use MorganGenerator\n",
      "[20:22:27] DEPRECATION WARNING: please use MorganGenerator\n",
      "[20:22:27] DEPRECATION WARNING: please use MorganGenerator\n",
      "[20:22:27] DEPRECATION WARNING: please use MorganGenerator\n",
      "[20:22:27] DEPRECATION WARNING: please use MorganGenerator\n",
      "[20:22:27] DEPRECATION WARNING: please use MorganGenerator\n",
      "[20:22:27] DEPRECATION WARNING: please use MorganGenerator\n",
      "[20:22:27] DEPRECATION WARNING: please use MorganGenerator\n",
      "[20:22:27] DEPRECATION WARNING: please use MorganGenerator\n",
      "[20:22:27] DEPRECATION WARNING: please use MorganGenerator\n",
      "[20:22:27] DEPRECATION WARNING: please use MorganGenerator\n",
      "[20:22:27] DEPRECATION WARNING: please use MorganGenerator\n",
      "[20:22:27] DEPRECATION WARNING: please use MorganGenerator\n",
      "[20:22:27] DEPRECATION WARNING: please use MorganGenerator\n",
      "[20:22:27] DEPRECATION WARNING: please use MorganGenerator\n",
      "[20:22:27] DEPRECATION WARNING: please use MorganGenerator\n",
      "[20:22:27] DEPRECATION WARNING: please use MorganGenerator\n",
      "[20:22:27] DEPRECATION WARNING: please use MorganGenerator\n",
      "[20:22:27] DEPRECATION WARNING: please use MorganGenerator\n"
     ]
    },
    {
     "data": {
      "application/vnd.jupyter.widget-view+json": {
       "model_id": "",
       "version_major": 2,
       "version_minor": 0
      },
      "text/plain": [
       "Create single label Dataset:   0%|          | 0/4733 [00:00<?, ?it/s]"
      ]
     },
     "metadata": {},
     "output_type": "display_data"
    },
    {
     "name": "stderr",
     "output_type": "stream",
     "text": [
      "[20:22:44] DEPRECATION WARNING: please use MorganGenerator\n",
      "[20:22:44] DEPRECATION WARNING: please use MorganGenerator\n",
      "[20:22:44] DEPRECATION WARNING: please use MorganGenerator\n",
      "[20:22:44] DEPRECATION WARNING: please use MorganGenerator\n",
      "[20:22:44] DEPRECATION WARNING: please use MorganGenerator\n",
      "[20:22:44] DEPRECATION WARNING: please use MorganGenerator\n",
      "[20:22:44] DEPRECATION WARNING: please use MorganGenerator\n",
      "[20:22:44] DEPRECATION WARNING: please use MorganGenerator\n",
      "[20:22:44] DEPRECATION WARNING: please use MorganGenerator\n",
      "[20:22:44] DEPRECATION WARNING: please use MorganGenerator\n",
      "[20:22:44] DEPRECATION WARNING: please use MorganGenerator\n",
      "[20:22:44] DEPRECATION WARNING: please use MorganGenerator\n",
      "[20:22:44] DEPRECATION WARNING: please use MorganGenerator\n",
      "[20:22:44] DEPRECATION WARNING: please use MorganGenerator\n",
      "[20:22:44] DEPRECATION WARNING: please use MorganGenerator\n",
      "[20:22:44] DEPRECATION WARNING: please use MorganGenerator\n",
      "[20:22:44] DEPRECATION WARNING: please use MorganGenerator\n",
      "[20:22:44] DEPRECATION WARNING: please use MorganGenerator\n",
      "[20:22:44] DEPRECATION WARNING: please use MorganGenerator\n"
     ]
    },
    {
     "data": {
      "application/vnd.jupyter.widget-view+json": {
       "model_id": "",
       "version_major": 2,
       "version_minor": 0
      },
      "text/plain": [
       "  0%|          | 0/30 [00:00<?, ?it/s]"
      ]
     },
     "metadata": {},
     "output_type": "display_data"
    },
    {
     "name": "stdout",
     "output_type": "stream",
     "text": [
      "\tAverage Loss: 22480956.378198 \tLearning rate: 0.001000\n",
      "\tAverage Loss: 4189.189225 \tLearning rate: 0.001000\n",
      "\tAverage Loss: 4186.871941 \tLearning rate: 0.001000\n",
      "\tAverage Loss: 12830.335259 \tLearning rate: 0.001000\n",
      "\tAverage Loss: 6218.521969 \tLearning rate: 0.001000\n",
      "\tAverage Loss: 6208.011375 \tLearning rate: 0.001000\n",
      "\tAverage Loss: 6478.335999 \tLearning rate: 0.001000\n",
      "\tAverage Loss: 6280.108699 \tLearning rate: 0.001000\n",
      "\tAverage Loss: 6279.863121 \tLearning rate: 0.001000\n",
      "\tAverage Loss: 6279.202062 \tLearning rate: 0.000500\n",
      "\tAverage Loss: 6280.877349 \tLearning rate: 0.000500\n",
      "\tAverage Loss: 6280.672682 \tLearning rate: 0.000500\n",
      "\tAverage Loss: 6279.118839 \tLearning rate: 0.000500\n",
      "\tAverage Loss: 6278.209795 \tLearning rate: 0.000500\n",
      "\tAverage Loss: 6278.357263 \tLearning rate: 0.000500\n",
      "\tAverage Loss: 6278.095699 \tLearning rate: 0.000500\n",
      "\tAverage Loss: 6278.795455 \tLearning rate: 0.000500\n",
      "\tAverage Loss: 6278.934365 \tLearning rate: 0.000500\n",
      "\tAverage Loss: 6279.929854 \tLearning rate: 0.000500\n",
      "\tAverage Loss: 6277.846343 \tLearning rate: 0.000250\n",
      "\tAverage Loss: 6278.043434 \tLearning rate: 0.000250\n",
      "\tAverage Loss: 6279.402096 \tLearning rate: 0.000250\n",
      "\tAverage Loss: 6279.525739 \tLearning rate: 0.000250\n",
      "\tAverage Loss: 6277.621659 \tLearning rate: 0.000250\n",
      "\tAverage Loss: 6279.114819 \tLearning rate: 0.000250\n",
      "\tAverage Loss: 6280.840751 \tLearning rate: 0.000250\n",
      "\tAverage Loss: 6277.615243 \tLearning rate: 0.000250\n",
      "\tAverage Loss: 6280.241861 \tLearning rate: 0.000250\n",
      "\tAverage Loss: 6277.965449 \tLearning rate: 0.000250\n",
      "\tAverage Loss: 6279.116464 \tLearning rate: 0.000125\n",
      "Finished Fold 4\n"
     ]
    },
    {
     "data": {
      "application/vnd.jupyter.widget-view+json": {
       "model_id": "",
       "version_major": 2,
       "version_minor": 0
      },
      "text/plain": [
       "Create single label Dataset:   0%|          | 0/4733 [00:00<?, ?it/s]"
      ]
     },
     "metadata": {},
     "output_type": "display_data"
    }
   ],
   "source": [
    "from torchmetrics.utilities.compute import auc\n",
    "from maldi2resistance.loss.asymmetricLoss import AsymmetricLoss\n",
    "from torchmetrics.classification import BinaryAUROC, BinaryPrecisionRecallCurve\n",
    "from maldi2resistance.data.ms_data import MS_Data_SingleAntibiotic\n",
    "from maldi2resistance.metric.PrecisionRecall import MultiLabelPRNan\n",
    "from pathlib import Path\n",
    "from maldi2resistance.metric.ROC import MultiLabelRocNan\n",
    "from maldi2resistance.loss.maskedLoss import MaskedBCE\n",
    "from tqdm.auto import tqdm\n",
    "import matplotlib.pyplot as plt\n",
    "import torch.nn.functional as F\n",
    "\n",
    "from torch.optim import Adam\n",
    "from torch.optim.lr_scheduler import StepLR\n",
    "\n",
    "print(\"Start training ...\")\n",
    "model.train()\n",
    "\n",
    "batch_size = 64\n",
    "fig_path = Path(f\"./{save_folder}/figures\")\n",
    "fig_path.mkdir(parents=True, exist_ok=True)\n",
    "csv_path = Path(f\"./{save_folder}/csv\")\n",
    "csv_path.mkdir(parents=True, exist_ok=True)\n",
    "\n",
    "loss_per_batch = []\n",
    "criterion = AsymmetricLoss()\n",
    "\n",
    "gen = torch.Generator()\n",
    "\n",
    "all_auc_roc_micro = []\n",
    "all_auc_pr_micro = []\n",
    "\n",
    "all_auc_roc_macro = []\n",
    "all_auc_pr_macro = []\n",
    "\n",
    "for fold, (train_data, test_data) in enumerate(ms_data.getK_fold(n_splits=5, shuffle=True, random_state= SEED)):\n",
    "    train_dataset_single_antibiotic = MS_Data_SingleAntibiotic(ms_data=train_data, use_morganFingerprint4Drug=True)\n",
    "    test_dataset_single_antibiotic = MS_Data_SingleAntibiotic(ms_data=test_data, use_morganFingerprint4Drug=True)\n",
    "    \n",
    "    train_loader = DataLoader(train_dataset_single_antibiotic, batch_size=batch_size, shuffle=True, drop_last=True, generator= gen.manual_seed(SEED))\n",
    "    test_loader = DataLoader(test_dataset_single_antibiotic, batch_size=len(test_dataset_single_antibiotic), shuffle=True, drop_last=True, generator= gen.manual_seed(SEED))\n",
    "    \n",
    "    model.load_state_dict(model_state)\n",
    "    model.train()\n",
    "    \n",
    "    optimizer = Adam(model.parameters(), lr=1e-3, amsgrad = True)\n",
    "    scheduler = StepLR(optimizer, step_size=10, gamma=0.5)\n",
    "\n",
    "    for epoch in tqdm(range(30), leave= False, position=1):\n",
    "        overall_loss = 0\n",
    "        \n",
    "        for batch_idx, (x, y, pos) in enumerate(train_loader):\n",
    "    \n",
    "            x = x.to(DEVICE)\n",
    "            y = y.to(DEVICE)\n",
    "            pos = pos.to(DEVICE)\n",
    "            \n",
    "            optimizer.zero_grad()\n",
    "    \n",
    "            output = model(x, pos)\n",
    "\n",
    "            loss = criterion(output, y)\n",
    "            #loss = F.binary_cross_entropy_with_logits(torch.squeeze(output), y)\n",
    "            current_loss_value = loss.item()\n",
    "            loss_per_batch.append(current_loss_value)\n",
    "            \n",
    "            overall_loss += current_loss_value\n",
    "            \n",
    "            loss.backward()\n",
    "            optimizer.step()\n",
    "    \n",
    "        scheduler.step()\n",
    "        with tqdm.external_write_mode():\n",
    "            print(f\"\\tAverage Loss: {overall_loss / (batch_idx*batch_size):.6f} \\tLearning rate: {scheduler.get_last_lr()[0]:.6f}\")\n",
    "        \n",
    "    print(f\"Finished Fold {fold}\")\n",
    "    \n",
    "    model.eval()\n",
    "    \n",
    "    DEVICE = torch.device(\"cpu\")\n",
    "    test_features, test_labels, test_pos = next(iter(test_loader))\n",
    "    test_features = test_features.to(DEVICE)\n",
    "    test_labels = test_labels.to(DEVICE)\n",
    "    test_pos = test_pos.to(DEVICE)\n",
    "    model = model.to(DEVICE)\n",
    "    \n",
    "    output = model(test_features, test_pos)\n",
    "    output = torch.squeeze(output)\n",
    "    \n",
    "    auRoc = BinaryAUROC()\n",
    "    auc_roc = auRoc(output, test_labels.int())\n",
    "    all_auc_roc_micro.append(auc_roc)\n",
    "    \n",
    "    metric = BinaryPrecisionRecallCurve()\n",
    "    metric.update(output, test_labels.int())\n",
    "    precision, recall, thresholds = metric.compute()\n",
    "    aucPC = auc(recall, precision)\n",
    "    \n",
    "    all_auc_pr_micro.append(aucPC)\n",
    "    \n",
    "    macro_aucroc = 0\n",
    "    macro_aucpr = 0\n",
    "    \n",
    "    n_not_empty = 0\n",
    "    \n",
    "    test_dataset_single_antibiotic = MS_Data_SingleAntibiotic(ms_data=test_data, use_morganFingerprint4Drug= False)\n",
    "    test_loader = DataLoader(test_dataset_single_antibiotic, batch_size=len(test_dataset_single_antibiotic), shuffle=True)\n",
    "    _, _, test_pos = next(iter(test_loader))\n",
    "    \n",
    "    outcome = []\n",
    "    for pos, antibiotic in enumerate(ms_data.selected_antibiotics):\n",
    "        out_part = output[test_pos == pos]\n",
    "        label_part = test_labels[test_pos == pos]\n",
    "        \n",
    "        occurrences = torch.bincount(label_part.int())\n",
    "        try:\n",
    "            if label_part.numel() == 0 or occurrences[1].item() == 0 or occurrences[0].item()== 0:\n",
    "                continue\n",
    "        except IndexError:\n",
    "            # no positives\n",
    "            continue\n",
    "        \n",
    "        au_roc = auRoc(out_part, label_part.int())\n",
    "        \n",
    "        metric.update(out_part, label_part.int())\n",
    "        precision, recall, thresholds = metric.compute()\n",
    "        aucPC = auc(recall, precision)\n",
    "        \n",
    "        n_not_empty +=1\n",
    "        macro_aucroc += au_roc.item()\n",
    "        macro_aucpr += aucPC.item()\n",
    "    \n",
    "        outcome.append({\n",
    "            'antibiotics': antibiotic,\n",
    "            'AUROC': au_roc.detach().item(),\n",
    "            'AUPRC': aucPC.detach().item(),\n",
    "            'Susceptible': occurrences[0].detach().item(),\n",
    "            'Resistance': occurrences[1].detach().item(),\n",
    "        })\n",
    "    pd.DataFrame().from_dict(outcome).to_csv(f\"{csv_path}/cv{fold}.csv\")\n",
    "        \n",
    "        \n",
    "    macro_aucroc = macro_aucroc / n_not_empty\n",
    "    macro_aucpr = macro_aucpr / n_not_empty\n",
    "    \n",
    "    all_auc_roc_macro.append(macro_aucroc)\n",
    "    all_auc_pr_macro.append(macro_aucpr)\n",
    "    DEVICE = torch.device(\"cuda\")\n",
    "    model = model.to(DEVICE)"
   ]
  },
  {
   "cell_type": "code",
   "execution_count": 11,
   "id": "b1367d7b-405a-4dec-99d9-9c0706831275",
   "metadata": {},
   "outputs": [
    {
     "name": "stdout",
     "output_type": "stream",
     "text": [
      "Mean\t: 0.9333194494247437\n",
      " SD \t: 0.0014133455697447062\n",
      "Mean\t: 0.907570481300354\n",
      " SD \t: 0.0023374252486974\n"
     ]
    }
   ],
   "source": [
    "print(f\"Mean\\t: {np.mean([x.cpu() for x in all_auc_roc_micro])}\")\n",
    "print(f\" SD \\t: {np.std([x.cpu() for x in all_auc_roc_micro]) }\")\n",
    "print(f\"Mean\\t: {np.mean([x.cpu() for x in all_auc_pr_micro])}\")\n",
    "print(f\" SD \\t: {np.std([x.cpu() for x in all_auc_pr_micro]) }\")"
   ]
  },
  {
   "cell_type": "code",
   "execution_count": 12,
   "id": "17c792e7-d400-46b8-b715-087865fba603",
   "metadata": {},
   "outputs": [
    {
     "name": "stdout",
     "output_type": "stream",
     "text": [
      "Mean\t: 0.9331997494948538\n",
      " SD \t: 0.001337751375321144\n",
      "Mean\t: 0.9074487259513454\n",
      " SD \t: 0.0026486777480110115\n"
     ]
    }
   ],
   "source": [
    "print(f\"Mean\\t: {np.mean([x for x in all_auc_roc_macro])}\")\n",
    "print(f\" SD \\t: {np.std([x for x in all_auc_roc_macro]) }\")\n",
    "print(f\"Mean\\t: {np.mean([x for x in all_auc_pr_macro])}\")\n",
    "print(f\" SD \\t: {np.std([x for x in all_auc_pr_macro]) }\")"
   ]
  }
 ],
 "metadata": {
  "kernelspec": {
   "display_name": "Python 3 (ipykernel)",
   "language": "python",
   "name": "python3"
  },
  "language_info": {
   "codemirror_mode": {
    "name": "ipython",
    "version": 3
   },
   "file_extension": ".py",
   "mimetype": "text/x-python",
   "name": "python",
   "nbconvert_exporter": "python",
   "pygments_lexer": "ipython3",
   "version": "3.11.8"
  },
  "widgets": {
   "application/vnd.jupyter.widget-state+json": {
    "state": {},
    "version_major": 2,
    "version_minor": 0
   }
  }
 },
 "nbformat": 4,
 "nbformat_minor": 5
}
