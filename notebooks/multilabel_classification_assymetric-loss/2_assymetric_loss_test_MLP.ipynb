{
 "cells": [
  {
   "cell_type": "code",
   "execution_count": 9,
   "id": "6c4b645f-6b5e-428e-855c-64b7e33ff874",
   "metadata": {},
   "outputs": [
    {
     "name": "stdout",
     "output_type": "stream",
     "text": [
      "NVIDIA RTX 2000 Ada Generation Laptop GPU\n"
     ]
    }
   ],
   "source": [
    "import copy\n",
    "import numpy as np\n",
    "import pandas as pd\n",
    "import sys\n",
    "sys.path.insert(0,'../../')\n",
    "import torch\n",
    "import torchmetrics.classification\n",
    "from torch import cuda\n",
    "from maldi2resistance.model.MLP import Decoder as MLP\n",
    "from maldi2resistance.data.ms_data import MS_Data\n",
    "assert cuda.is_available()\n",
    "assert cuda.device_count() > 0\n",
    "print(cuda.get_device_name(cuda.current_device()))\n",
    "\n",
    "DEVICE = torch.device(\"cuda\")\n",
    "SEED = 42\n",
    "torch.manual_seed(SEED)\n",
    "\n",
    "save_folder = \"results_MLP/assymetric_loss_MLP_5cv_DRIAMS-ABCD\""
   ]
  },
  {
   "cell_type": "markdown",
   "id": "23b5a248-98cc-42cc-99b2-49bdd5ca1f35",
   "metadata": {},
   "source": [
    "### Load the Dataset"
   ]
  },
  {
   "cell_type": "code",
   "execution_count": 10,
   "id": "7a00707ac6b2975",
   "metadata": {},
   "outputs": [
    {
     "name": "stderr",
     "output_type": "stream",
     "text": [
      "/home/youngjunpark/Git/my_maldi/maldi2resistance/notebooks/multilabel_classification_assymetric-loss/../../maldi2resistance/data/ms_data.py:86: UserWarning: Metafile for Site (DRIAMS-B) and Year (2015) combination not found!\n",
      "  warnings.warn(\n",
      "/home/youngjunpark/Git/my_maldi/maldi2resistance/notebooks/multilabel_classification_assymetric-loss/../../maldi2resistance/data/ms_data.py:86: UserWarning: Metafile for Site (DRIAMS-B) and Year (2016) combination not found!\n",
      "  warnings.warn(\n",
      "/home/youngjunpark/Git/my_maldi/maldi2resistance/notebooks/multilabel_classification_assymetric-loss/../../maldi2resistance/data/ms_data.py:86: UserWarning: Metafile for Site (DRIAMS-B) and Year (2017) combination not found!\n",
      "  warnings.warn(\n",
      "/home/youngjunpark/Git/my_maldi/maldi2resistance/notebooks/multilabel_classification_assymetric-loss/../../maldi2resistance/data/ms_data.py:86: UserWarning: Metafile for Site (DRIAMS-C) and Year (2015) combination not found!\n",
      "  warnings.warn(\n",
      "/home/youngjunpark/Git/my_maldi/maldi2resistance/notebooks/multilabel_classification_assymetric-loss/../../maldi2resistance/data/ms_data.py:86: UserWarning: Metafile for Site (DRIAMS-C) and Year (2016) combination not found!\n",
      "  warnings.warn(\n",
      "/home/youngjunpark/Git/my_maldi/maldi2resistance/notebooks/multilabel_classification_assymetric-loss/../../maldi2resistance/data/ms_data.py:86: UserWarning: Metafile for Site (DRIAMS-C) and Year (2017) combination not found!\n",
      "  warnings.warn(\n",
      "/home/youngjunpark/Git/my_maldi/maldi2resistance/notebooks/multilabel_classification_assymetric-loss/../../maldi2resistance/data/ms_data.py:86: UserWarning: Metafile for Site (DRIAMS-D) and Year (2015) combination not found!\n",
      "  warnings.warn(\n",
      "/home/youngjunpark/Git/my_maldi/maldi2resistance/notebooks/multilabel_classification_assymetric-loss/../../maldi2resistance/data/ms_data.py:86: UserWarning: Metafile for Site (DRIAMS-D) and Year (2016) combination not found!\n",
      "  warnings.warn(\n",
      "/home/youngjunpark/Git/my_maldi/maldi2resistance/notebooks/multilabel_classification_assymetric-loss/../../maldi2resistance/data/ms_data.py:86: UserWarning: Metafile for Site (DRIAMS-D) and Year (2017) combination not found!\n",
      "  warnings.warn(\n"
     ]
    },
    {
     "data": {
      "application/vnd.jupyter.widget-view+json": {
       "model_id": "",
       "version_major": 2,
       "version_minor": 0
      },
      "text/plain": [
       "Loading Spectra into Memory:   0%|          | 0/55780 [00:00<?, ?it/s]"
      ]
     },
     "metadata": {},
     "output_type": "display_data"
    },
    {
     "data": {
      "text/html": [
       "\n",
       "        <table>\n",
       "            <thead>\n",
       "                <tr>\n",
       "                    <th>Antibiotic:</th>\n",
       "                    <th> Amikacin </th><th> Amoxicillin-Clavulanic acid </th><th> Ampicillin </th><th> Ampicillin-Amoxicillin </th><th> Aztreonam </th><th> Benzylpenicillin </th><th> Cefazolin </th><th> Cefepime </th><th> Cefpodoxime </th><th> Ceftazidime </th><th> Ceftriaxone </th><th> Cefuroxime </th><th> Ciprofloxacin </th><th> Clarithromycin </th><th> Clindamycin </th><th> Colistin </th><th> Cotrimoxazole </th><th> Ertapenem </th><th> Erythromycin </th><th> Fosfomycin </th><th> Fosfomycin-Trometamol </th><th> Fusidic acid </th><th> Gentamicin </th><th> Imipenem </th><th> Levofloxacin </th><th> Meropenem </th><th> Mupirocin </th><th> Nitrofurantoin </th><th> Norfloxacin </th><th> Oxacillin </th><th> Penicillin </th><th> Piperacillin-Tazobactam </th><th> Polymyxin B </th><th> Rifampicin </th><th> Teicoplanin </th><th> Tetracycline </th><th> Tobramycin </th><th> Vancomycin </th>\n",
       "                </tr>\n",
       "            </thead>\n",
       "            <tbody>\n",
       "                <tr>\n",
       "                    <td>Number resistant:</td>\n",
       "                    <td> 1068 </td><td> 13366 </td><td> 8578 </td><td> 21966 </td><td> 628 </td><td> 618 </td><td> 4223 </td><td> 7383 </td><td> 2338 </td><td> 3470 </td><td> 8659 </td><td> 5855 </td><td> 9338 </td><td> 310 </td><td> 4381 </td><td> 2874 </td><td> 7405 </td><td> 427 </td><td> 5468 </td><td> 2303 </td><td> 1326 </td><td> 3620 </td><td> 3481 </td><td> 7560 </td><td> 4217 </td><td> 5194 </td><td> 570 </td><td> 1271 </td><td> 1205 </td><td> 5537 </td><td> 12431 </td><td> 7616 </td><td> 486 </td><td> 580 </td><td> 244 </td><td> 3534 </td><td> 1707 </td><td> 227 </td>\n",
       "                </tr>\n",
       "                <tr>\n",
       "                    <td>Number susceptible:</td>\n",
       "                    <td> 20941 </td><td> 24992 </td><td> 4194 </td><td> 4905 </td><td> 456 </td><td> 457 </td><td> 5813 </td><td> 31567 </td><td> 4382 </td><td> 24566 </td><td> 28464 </td><td> 8368 </td><td> 36822 </td><td> 1262 </td><td> 9841 </td><td> 15784 </td><td> 24590 </td><td> 21740 </td><td> 9044 </td><td> 10184 </td><td> 4803 </td><td> 8498 </td><td> 22662 </td><td> 31717 </td><td> 17989 </td><td> 27228 </td><td> 4656 </td><td> 3603 </td><td> 7031 </td><td> 7740 </td><td> 4286 </td><td> 31308 </td><td> 2305 </td><td> 14964 </td><td> 8486 </td><td> 10376 </td><td> 16809 </td><td> 20540 </td>\n",
       "                </tr>\n",
       "                <tr>\n",
       "                    <td>Number data points:</td>\n",
       "                    <td> 22009 </td><td> 38358 </td><td> 12772 </td><td> 26871 </td><td> 1084 </td><td> 1075 </td><td> 10036 </td><td> 38950 </td><td> 6720 </td><td> 28036 </td><td> 37123 </td><td> 14223 </td><td> 46160 </td><td> 1572 </td><td> 14222 </td><td> 18658 </td><td> 31995 </td><td> 22167 </td><td> 14512 </td><td> 12487 </td><td> 6129 </td><td> 12118 </td><td> 26143 </td><td> 39277 </td><td> 22206 </td><td> 32422 </td><td> 5226 </td><td> 4874 </td><td> 8236 </td><td> 13277 </td><td> 16717 </td><td> 38924 </td><td> 2791 </td><td> 15544 </td><td> 8730 </td><td> 13910 </td><td> 18516 </td><td> 20767 </td>\n",
       "                </tr>\n",
       "            </tbody>\n",
       "        </table>\n",
       "                "
      ],
      "text/plain": [
       "<maldi2resistance.data.ms_data.MS_Data at 0x79f3f44132d0>"
      ]
     },
     "execution_count": 10,
     "metadata": {},
     "output_type": "execute_result"
    }
   ],
   "source": [
    "ms_data = MS_Data(\n",
    "    root_dir=\"/home/youngjunpark/Data/MS_data\",\n",
    "    #sites=[\"DRIAMS-D\"],\n",
    "    #years=[2018],\n",
    "    bin_size=1,\n",
    ")\n",
    "ms_data.loading_type = \"memory\"\n",
    "ms_data"
   ]
  },
  {
   "cell_type": "code",
   "execution_count": 11,
   "id": "2076d3e6-93f3-45bb-b8f6-3a94173048ad",
   "metadata": {},
   "outputs": [
    {
     "data": {
      "text/plain": [
       "38"
      ]
     },
     "execution_count": 11,
     "metadata": {},
     "output_type": "execute_result"
    }
   ],
   "source": [
    "len(ms_data.label_stats.columns)"
   ]
  },
  {
   "cell_type": "code",
   "execution_count": 12,
   "id": "60665b7b-1494-4270-9a19-2bcca91dbb17",
   "metadata": {},
   "outputs": [],
   "source": [
    "model = MLP(18000, hidden_dim=1024, output_dim=len(ms_data.selected_antibiotics) )\n",
    "model = model.to(DEVICE)\n",
    "\n",
    "model_state = copy.deepcopy(model.state_dict()) "
   ]
  },
  {
   "cell_type": "code",
   "execution_count": 13,
   "id": "db166a21-bfa7-4865-8b54-f1f1cf239027",
   "metadata": {},
   "outputs": [
    {
     "name": "stdout",
     "output_type": "stream",
     "text": [
      "=================================================================\n",
      "Layer (type:depth-idx)                   Param #\n",
      "=================================================================\n",
      "Decoder                                  --\n",
      "├─Linear: 1-1                            18,433,024\n",
      "├─Linear: 1-2                            1,049,600\n",
      "├─Linear: 1-3                            38,950\n",
      "├─LeakyReLU: 1-4                         --\n",
      "=================================================================\n",
      "Total params: 19,521,574\n",
      "Trainable params: 19,521,574\n",
      "Non-trainable params: 0\n",
      "=================================================================\n"
     ]
    }
   ],
   "source": [
    "from torchinfo import summary\n",
    "\n",
    "print(summary(model))"
   ]
  },
  {
   "cell_type": "code",
   "execution_count": 14,
   "id": "f0748b0a-c6ba-4fea-a11c-3dd2f81dc5e3",
   "metadata": {},
   "outputs": [
    {
     "name": "stdout",
     "output_type": "stream",
     "text": [
      "Start training ...\n"
     ]
    },
    {
     "data": {
      "application/vnd.jupyter.widget-view+json": {
       "model_id": "e539a3e29d1e498998d655cd288a5ed7",
       "version_major": 2,
       "version_minor": 0
      },
      "text/plain": [
       "  0%|          | 0/30 [00:00<?, ?it/s]"
      ]
     },
     "metadata": {},
     "output_type": "display_data"
    },
    {
     "name": "stdout",
     "output_type": "stream",
     "text": [
      "\tAverage Loss: 0.889504 \tLearning rate: 0.001000\n",
      "\tAverage Loss: 0.765793 \tLearning rate: 0.001000\n",
      "\tAverage Loss: 0.717202 \tLearning rate: 0.001000\n",
      "\tAverage Loss: 0.683673 \tLearning rate: 0.001000\n",
      "\tAverage Loss: 0.654544 \tLearning rate: 0.001000\n",
      "\tAverage Loss: 0.627636 \tLearning rate: 0.001000\n",
      "\tAverage Loss: 0.602571 \tLearning rate: 0.001000\n",
      "\tAverage Loss: 0.580782 \tLearning rate: 0.001000\n",
      "\tAverage Loss: 0.561444 \tLearning rate: 0.001000\n",
      "\tAverage Loss: 0.533415 \tLearning rate: 0.000500\n",
      "\tAverage Loss: 0.483339 \tLearning rate: 0.000500\n",
      "\tAverage Loss: 0.464711 \tLearning rate: 0.000500\n",
      "\tAverage Loss: 0.443739 \tLearning rate: 0.000500\n",
      "\tAverage Loss: 0.430573 \tLearning rate: 0.000500\n",
      "\tAverage Loss: 0.410089 \tLearning rate: 0.000500\n",
      "\tAverage Loss: 0.394672 \tLearning rate: 0.000500\n",
      "\tAverage Loss: 0.377592 \tLearning rate: 0.000500\n",
      "\tAverage Loss: 0.362157 \tLearning rate: 0.000500\n",
      "\tAverage Loss: 0.344930 \tLearning rate: 0.000500\n",
      "\tAverage Loss: 0.334285 \tLearning rate: 0.000250\n",
      "\tAverage Loss: 0.293125 \tLearning rate: 0.000250\n",
      "\tAverage Loss: 0.282734 \tLearning rate: 0.000250\n",
      "\tAverage Loss: 0.272984 \tLearning rate: 0.000250\n",
      "\tAverage Loss: 0.263931 \tLearning rate: 0.000250\n",
      "\tAverage Loss: 0.254158 \tLearning rate: 0.000250\n",
      "\tAverage Loss: 0.245166 \tLearning rate: 0.000250\n",
      "\tAverage Loss: 0.236225 \tLearning rate: 0.000250\n",
      "\tAverage Loss: 0.228355 \tLearning rate: 0.000250\n",
      "\tAverage Loss: 0.219265 \tLearning rate: 0.000250\n",
      "\tAverage Loss: 0.211325 \tLearning rate: 0.000125\n",
      "Finished Fold 0\n"
     ]
    },
    {
     "data": {
      "application/vnd.jupyter.widget-view+json": {
       "model_id": "46292c842f9e4493967ef01d5018be71",
       "version_major": 2,
       "version_minor": 0
      },
      "text/plain": [
       "  0%|          | 0/30 [00:00<?, ?it/s]"
      ]
     },
     "metadata": {},
     "output_type": "display_data"
    },
    {
     "name": "stdout",
     "output_type": "stream",
     "text": [
      "\tAverage Loss: 0.894467 \tLearning rate: 0.001000\n",
      "\tAverage Loss: 0.768950 \tLearning rate: 0.001000\n",
      "\tAverage Loss: 0.720964 \tLearning rate: 0.001000\n",
      "\tAverage Loss: 0.679301 \tLearning rate: 0.001000\n",
      "\tAverage Loss: 0.657145 \tLearning rate: 0.001000\n",
      "\tAverage Loss: 0.625699 \tLearning rate: 0.001000\n",
      "\tAverage Loss: 0.601231 \tLearning rate: 0.001000\n",
      "\tAverage Loss: 0.579257 \tLearning rate: 0.001000\n",
      "\tAverage Loss: 0.553255 \tLearning rate: 0.001000\n",
      "\tAverage Loss: 0.536238 \tLearning rate: 0.000500\n",
      "\tAverage Loss: 0.476647 \tLearning rate: 0.000500\n",
      "\tAverage Loss: 0.456739 \tLearning rate: 0.000500\n",
      "\tAverage Loss: 0.441950 \tLearning rate: 0.000500\n",
      "\tAverage Loss: 0.427028 \tLearning rate: 0.000500\n",
      "\tAverage Loss: 0.405723 \tLearning rate: 0.000500\n",
      "\tAverage Loss: 0.389735 \tLearning rate: 0.000500\n",
      "\tAverage Loss: 0.373962 \tLearning rate: 0.000500\n",
      "\tAverage Loss: 0.357061 \tLearning rate: 0.000500\n",
      "\tAverage Loss: 0.340813 \tLearning rate: 0.000500\n",
      "\tAverage Loss: 0.325650 \tLearning rate: 0.000250\n",
      "\tAverage Loss: 0.287601 \tLearning rate: 0.000250\n",
      "\tAverage Loss: 0.278124 \tLearning rate: 0.000250\n",
      "\tAverage Loss: 0.267095 \tLearning rate: 0.000250\n",
      "\tAverage Loss: 0.259889 \tLearning rate: 0.000250\n",
      "\tAverage Loss: 0.248186 \tLearning rate: 0.000250\n",
      "\tAverage Loss: 0.240947 \tLearning rate: 0.000250\n",
      "\tAverage Loss: 0.233129 \tLearning rate: 0.000250\n",
      "\tAverage Loss: 0.224214 \tLearning rate: 0.000250\n",
      "\tAverage Loss: 0.215006 \tLearning rate: 0.000250\n",
      "\tAverage Loss: 0.207849 \tLearning rate: 0.000125\n",
      "Finished Fold 1\n"
     ]
    },
    {
     "data": {
      "application/vnd.jupyter.widget-view+json": {
       "model_id": "c3499aef87c9444a87d4b97da2ba6e30",
       "version_major": 2,
       "version_minor": 0
      },
      "text/plain": [
       "  0%|          | 0/30 [00:00<?, ?it/s]"
      ]
     },
     "metadata": {},
     "output_type": "display_data"
    },
    {
     "name": "stdout",
     "output_type": "stream",
     "text": [
      "\tAverage Loss: 0.897021 \tLearning rate: 0.001000\n",
      "\tAverage Loss: 0.769318 \tLearning rate: 0.001000\n",
      "\tAverage Loss: 0.724153 \tLearning rate: 0.001000\n",
      "\tAverage Loss: 0.686166 \tLearning rate: 0.001000\n",
      "\tAverage Loss: 0.656465 \tLearning rate: 0.001000\n",
      "\tAverage Loss: 0.628621 \tLearning rate: 0.001000\n",
      "\tAverage Loss: 0.605821 \tLearning rate: 0.001000\n",
      "\tAverage Loss: 0.586133 \tLearning rate: 0.001000\n",
      "\tAverage Loss: 0.560795 \tLearning rate: 0.001000\n",
      "\tAverage Loss: 0.539781 \tLearning rate: 0.000500\n",
      "\tAverage Loss: 0.484526 \tLearning rate: 0.000500\n",
      "\tAverage Loss: 0.465524 \tLearning rate: 0.000500\n",
      "\tAverage Loss: 0.446657 \tLearning rate: 0.000500\n",
      "\tAverage Loss: 0.430920 \tLearning rate: 0.000500\n",
      "\tAverage Loss: 0.413989 \tLearning rate: 0.000500\n",
      "\tAverage Loss: 0.396594 \tLearning rate: 0.000500\n",
      "\tAverage Loss: 0.382017 \tLearning rate: 0.000500\n",
      "\tAverage Loss: 0.364561 \tLearning rate: 0.000500\n",
      "\tAverage Loss: 0.348552 \tLearning rate: 0.000500\n",
      "\tAverage Loss: 0.334917 \tLearning rate: 0.000250\n",
      "\tAverage Loss: 0.296891 \tLearning rate: 0.000250\n",
      "\tAverage Loss: 0.285595 \tLearning rate: 0.000250\n",
      "\tAverage Loss: 0.275697 \tLearning rate: 0.000250\n",
      "\tAverage Loss: 0.266196 \tLearning rate: 0.000250\n",
      "\tAverage Loss: 0.257615 \tLearning rate: 0.000250\n",
      "\tAverage Loss: 0.248245 \tLearning rate: 0.000250\n",
      "\tAverage Loss: 0.239872 \tLearning rate: 0.000250\n",
      "\tAverage Loss: 0.231193 \tLearning rate: 0.000250\n",
      "\tAverage Loss: 0.224072 \tLearning rate: 0.000250\n",
      "\tAverage Loss: 0.214665 \tLearning rate: 0.000125\n",
      "Finished Fold 2\n"
     ]
    },
    {
     "data": {
      "application/vnd.jupyter.widget-view+json": {
       "model_id": "99fe9a895fc34340bb672c10fd2c4cd3",
       "version_major": 2,
       "version_minor": 0
      },
      "text/plain": [
       "  0%|          | 0/30 [00:00<?, ?it/s]"
      ]
     },
     "metadata": {},
     "output_type": "display_data"
    },
    {
     "name": "stdout",
     "output_type": "stream",
     "text": [
      "\tAverage Loss: 0.896658 \tLearning rate: 0.001000\n",
      "\tAverage Loss: 0.768835 \tLearning rate: 0.001000\n",
      "\tAverage Loss: 0.719620 \tLearning rate: 0.001000\n",
      "\tAverage Loss: 0.680890 \tLearning rate: 0.001000\n",
      "\tAverage Loss: 0.654141 \tLearning rate: 0.001000\n",
      "\tAverage Loss: 0.625113 \tLearning rate: 0.001000\n",
      "\tAverage Loss: 0.603287 \tLearning rate: 0.001000\n",
      "\tAverage Loss: 0.576801 \tLearning rate: 0.001000\n",
      "\tAverage Loss: 0.553860 \tLearning rate: 0.001000\n",
      "\tAverage Loss: 0.532257 \tLearning rate: 0.000500\n",
      "\tAverage Loss: 0.478788 \tLearning rate: 0.000500\n",
      "\tAverage Loss: 0.459658 \tLearning rate: 0.000500\n",
      "\tAverage Loss: 0.438265 \tLearning rate: 0.000500\n",
      "\tAverage Loss: 0.424461 \tLearning rate: 0.000500\n",
      "\tAverage Loss: 0.405432 \tLearning rate: 0.000500\n",
      "\tAverage Loss: 0.392009 \tLearning rate: 0.000500\n",
      "\tAverage Loss: 0.373114 \tLearning rate: 0.000500\n",
      "\tAverage Loss: 0.355697 \tLearning rate: 0.000500\n",
      "\tAverage Loss: 0.343779 \tLearning rate: 0.000500\n",
      "\tAverage Loss: 0.326753 \tLearning rate: 0.000250\n",
      "\tAverage Loss: 0.288935 \tLearning rate: 0.000250\n",
      "\tAverage Loss: 0.277762 \tLearning rate: 0.000250\n",
      "\tAverage Loss: 0.267332 \tLearning rate: 0.000250\n",
      "\tAverage Loss: 0.259666 \tLearning rate: 0.000250\n",
      "\tAverage Loss: 0.249273 \tLearning rate: 0.000250\n",
      "\tAverage Loss: 0.241806 \tLearning rate: 0.000250\n",
      "\tAverage Loss: 0.234274 \tLearning rate: 0.000250\n",
      "\tAverage Loss: 0.225547 \tLearning rate: 0.000250\n",
      "\tAverage Loss: 0.218137 \tLearning rate: 0.000250\n",
      "\tAverage Loss: 0.209417 \tLearning rate: 0.000125\n",
      "Finished Fold 3\n"
     ]
    },
    {
     "data": {
      "application/vnd.jupyter.widget-view+json": {
       "model_id": "bd834204ea6244bab411075f270c3099",
       "version_major": 2,
       "version_minor": 0
      },
      "text/plain": [
       "  0%|          | 0/30 [00:00<?, ?it/s]"
      ]
     },
     "metadata": {},
     "output_type": "display_data"
    },
    {
     "name": "stdout",
     "output_type": "stream",
     "text": [
      "\tAverage Loss: 0.895499 \tLearning rate: 0.001000\n",
      "\tAverage Loss: 0.764957 \tLearning rate: 0.001000\n",
      "\tAverage Loss: 0.716091 \tLearning rate: 0.001000\n",
      "\tAverage Loss: 0.683787 \tLearning rate: 0.001000\n",
      "\tAverage Loss: 0.655700 \tLearning rate: 0.001000\n",
      "\tAverage Loss: 0.627951 \tLearning rate: 0.001000\n",
      "\tAverage Loss: 0.606437 \tLearning rate: 0.001000\n",
      "\tAverage Loss: 0.581104 \tLearning rate: 0.001000\n",
      "\tAverage Loss: 0.559845 \tLearning rate: 0.001000\n",
      "\tAverage Loss: 0.537050 \tLearning rate: 0.000500\n",
      "\tAverage Loss: 0.483390 \tLearning rate: 0.000500\n",
      "\tAverage Loss: 0.463781 \tLearning rate: 0.000500\n",
      "\tAverage Loss: 0.445990 \tLearning rate: 0.000500\n",
      "\tAverage Loss: 0.428080 \tLearning rate: 0.000500\n",
      "\tAverage Loss: 0.410339 \tLearning rate: 0.000500\n",
      "\tAverage Loss: 0.394929 \tLearning rate: 0.000500\n",
      "\tAverage Loss: 0.377987 \tLearning rate: 0.000500\n",
      "\tAverage Loss: 0.361718 \tLearning rate: 0.000500\n",
      "\tAverage Loss: 0.345411 \tLearning rate: 0.000500\n",
      "\tAverage Loss: 0.331669 \tLearning rate: 0.000250\n",
      "\tAverage Loss: 0.293323 \tLearning rate: 0.000250\n",
      "\tAverage Loss: 0.281280 \tLearning rate: 0.000250\n",
      "\tAverage Loss: 0.272102 \tLearning rate: 0.000250\n",
      "\tAverage Loss: 0.262187 \tLearning rate: 0.000250\n",
      "\tAverage Loss: 0.253563 \tLearning rate: 0.000250\n",
      "\tAverage Loss: 0.245644 \tLearning rate: 0.000250\n",
      "\tAverage Loss: 0.236789 \tLearning rate: 0.000250\n",
      "\tAverage Loss: 0.228870 \tLearning rate: 0.000250\n",
      "\tAverage Loss: 0.218299 \tLearning rate: 0.000250\n",
      "\tAverage Loss: 0.210821 \tLearning rate: 0.000125\n",
      "Finished Fold 4\n"
     ]
    }
   ],
   "source": [
    "from torch.utils.data import DataLoader\n",
    "from maldi2resistance.loss.asymmetricLoss import AsymmetricLoss\n",
    "from maldi2resistance.metric.PrecisionRecall import MultiLabelPRNan\n",
    "from pathlib import Path\n",
    "from maldi2resistance.metric.ROC import MultiLabelRocNan\n",
    "from maldi2resistance.loss.maskedLoss import MaskedBCE\n",
    "from tqdm.auto import tqdm\n",
    "import matplotlib.pyplot as plt\n",
    "\n",
    "from torch.optim import Adam\n",
    "from torch.optim.lr_scheduler import StepLR\n",
    "\n",
    "print(\"Start training ...\")\n",
    "\n",
    "model.train()\n",
    "\n",
    "batch_size = 64\n",
    "fig_path = Path(f\"./{save_folder}/figures\")\n",
    "fig_path.mkdir(parents=True, exist_ok=True)\n",
    "csv_path = Path(f\"./{save_folder}/csv\")\n",
    "csv_path.mkdir(parents=True, exist_ok=True)\n",
    "\n",
    "loss_per_batch = []\n",
    "\n",
    "class_weights_negative = torch.tensor((1 - (ms_data.label_stats.loc[\"negative\"] / ms_data.label_stats.loc[\"n_sum\"])).values, device=DEVICE)\n",
    "class_weights_positive = torch.tensor((1 - (ms_data.label_stats.loc[\"positive\"] / ms_data.label_stats.loc[\"n_sum\"])).values, device=DEVICE)\n",
    "\n",
    "criterion = AsymmetricLoss()\n",
    "\n",
    "gen = torch.Generator()\n",
    "\n",
    "for fold, (train_data, test_data) in enumerate(ms_data.getK_fold(n_splits=5, shuffle=True, random_state= SEED)):\n",
    "    \n",
    "    train_loader = DataLoader(train_data, batch_size=batch_size, shuffle=True, drop_last=True, generator= gen.manual_seed(SEED))\n",
    "    test_loader = DataLoader(test_data, batch_size=len(test_data), shuffle=True, drop_last=True, generator= gen.manual_seed(SEED))\n",
    "    \n",
    "    model.load_state_dict(model_state)\n",
    "    model.to(DEVICE)\n",
    "    model.train()\n",
    "    \n",
    "    optimizer = Adam(model.parameters(), lr=1e-3, amsgrad = True)\n",
    "    scheduler = StepLR(optimizer, step_size=10, gamma=0.5)\n",
    "\n",
    "    for epoch in tqdm(range(30)):\n",
    "        overall_loss = 0\n",
    "        \n",
    "        for batch_idx, (x, y) in enumerate(train_loader):\n",
    "    \n",
    "            x = x.to(DEVICE)\n",
    "            y = y.to(DEVICE)\n",
    "            \n",
    "            optimizer.zero_grad()\n",
    "    \n",
    "            output = model(x)\n",
    "        \n",
    "            loss = criterion(output, y)\n",
    "            current_loss_value = loss.item()\n",
    "            loss_per_batch.append(current_loss_value)\n",
    "            \n",
    "            overall_loss += current_loss_value\n",
    "            \n",
    "            loss.backward()\n",
    "            optimizer.step()\n",
    "    \n",
    "        scheduler.step()\n",
    "        with tqdm.external_write_mode():\n",
    "            print(f\"\\tAverage Loss: {overall_loss / (batch_idx*batch_size):.6f} \\tLearning rate: {scheduler.get_last_lr()[0]:.6f}\")\n",
    "    \n",
    "    \n",
    "    print(f\"Finished Fold {fold}\")\n",
    "    \n",
    "    model.eval()\n",
    "    \n",
    "    DEVICE = torch.device(\"cpu\")\n",
    "    test_features, test_labels = next(iter(test_loader))\n",
    "    test_features = test_features.to(DEVICE)\n",
    "    test_labels = test_labels.to(DEVICE)\n",
    "    model = model.to(DEVICE)\n",
    "    \n",
    "    ml_roc = MultiLabelRocNan()\n",
    "    output = model(test_features)\n",
    "    \n",
    "    \n",
    "    ml_roc.compute(output,test_labels,ms_data.selected_antibiotics, create_csv=f\"./{csv_path}/fold-{fold}_ROC.csv\")\n",
    "    fig_, ax_ = ml_roc()\n",
    "    \n",
    "    plt.savefig(fig_path / f\"fold-{fold}_ROC.png\", transparent=True, format= \"png\", bbox_inches = \"tight\")\n",
    "    plt.close()\n",
    "    \n",
    "    ml_pr = MultiLabelPRNan()\n",
    "    ml_pr.compute(output,test_labels,ms_data.selected_antibiotics, create_csv=f\"./{csv_path}/fold-{fold}_PrecisionRecall.csv\")\n",
    "    \n",
    "    fig_, ax_ = ml_pr()\n",
    "    \n",
    "    plt.savefig(fig_path / f\"fold-{fold}_PrecisionRecall.png\", transparent=True, format= \"png\", bbox_inches = \"tight\")\n",
    "    plt.close()\n",
    "    \n",
    "    DEVICE = torch.device(\"cuda\")\n",
    "    model = model.to(DEVICE)"
   ]
  },
  {
   "cell_type": "code",
   "execution_count": 15,
   "id": "b1367d7b-405a-4dec-99d9-9c0706831275",
   "metadata": {},
   "outputs": [
    {
     "name": "stdout",
     "output_type": "stream",
     "text": [
      "micro-Mean\t: 0.935346829891205\n",
      "micro-SD \t: 0.0018252347835044026\n",
      "macro-Mean\t: 0.9064308100625087\n",
      "macro-SD \t: 0.0020087933534215694\n"
     ]
    }
   ],
   "source": [
    "micro = []\n",
    "macro = []\n",
    "\n",
    "for fold in range(0,5):\n",
    "    csv = pd.read_csv(f\"./{csv_path}/fold-{fold}_ROC.csv\")\n",
    "    micro.append(csv[csv[\"class\"] == \"micro\"][\"ROCAUC\"])\n",
    "    macro.append(csv[csv[\"class\"] == \"macro\"][\"ROCAUC\"])\n",
    "\n",
    "print(f\"micro-Mean\\t: {np.mean(micro)}\")\n",
    "print(f\"micro-SD \\t: {np.std(micro) }\")\n",
    "print(f\"macro-Mean\\t: {np.mean(macro)}\")\n",
    "print(f\"macro-SD \\t: {np.std(macro) }\")"
   ]
  },
  {
   "cell_type": "code",
   "execution_count": 16,
   "id": "17c792e7-d400-46b8-b715-087865fba603",
   "metadata": {},
   "outputs": [
    {
     "name": "stdout",
     "output_type": "stream",
     "text": [
      "Mean\t: 0.8726518988609314\n",
      " SD \t: 0.0019970157278060706\n",
      "Mean\t: 0.7863881920513354\n",
      " SD \t: 0.003981206063662021\n"
     ]
    }
   ],
   "source": [
    "micro = []\n",
    "macro = []\n",
    "\n",
    "for fold in range(0,5):\n",
    "    csv = pd.read_csv(f\"./{csv_path}/fold-{fold}_PrecisionRecall.csv\")\n",
    "    micro.append(csv[csv[\"class\"] == \"micro\"][\"PrecisionRecallAUC\"])\n",
    "    macro.append(csv[csv[\"class\"] == \"macro\"][\"PrecisionRecallAUC\"])\n",
    "\n",
    "print(f\"Mean\\t: {np.mean(micro)}\")\n",
    "print(f\" SD \\t: {np.std(micro) }\")\n",
    "print(f\"Mean\\t: {np.mean(macro)}\")\n",
    "print(f\" SD \\t: {np.std(macro) }\")"
   ]
  }
 ],
 "metadata": {
  "kernelspec": {
   "display_name": "Python 3 (ipykernel)",
   "language": "python",
   "name": "python3"
  },
  "language_info": {
   "codemirror_mode": {
    "name": "ipython",
    "version": 3
   },
   "file_extension": ".py",
   "mimetype": "text/x-python",
   "name": "python",
   "nbconvert_exporter": "python",
   "pygments_lexer": "ipython3",
   "version": "3.11.8"
  },
  "widgets": {
   "application/vnd.jupyter.widget-state+json": {
    "state": {},
    "version_major": 2,
    "version_minor": 0
   }
  }
 },
 "nbformat": 4,
 "nbformat_minor": 5
}
