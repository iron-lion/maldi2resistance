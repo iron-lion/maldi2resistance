{
 "cells": [
  {
   "cell_type": "markdown",
   "id": "6c06d118-428e-4022-9284-d68fe0eeb134",
   "metadata": {},
   "source": [
    "# Assymetric loss on ResMLP-multilabel"
   ]
  },
  {
   "cell_type": "code",
   "execution_count": 14,
   "id": "6c4b645f-6b5e-428e-855c-64b7e33ff874",
   "metadata": {},
   "outputs": [
    {
     "name": "stdout",
     "output_type": "stream",
     "text": [
      "NVIDIA RTX 2000 Ada Generation Laptop GPU\n"
     ]
    }
   ],
   "source": [
    "import copy\n",
    "import numpy as np\n",
    "import pandas as pd\n",
    "import sys\n",
    "sys.path.insert(0,'../../')\n",
    "import torch\n",
    "import torchmetrics.classification\n",
    "from torch import cuda\n",
    "from maldi2resistance.model.MultilabelResMLP import MultilabelResMLP\n",
    "from maldi2resistance.data.ms_data import MS_Data\n",
    "assert cuda.is_available()\n",
    "assert cuda.device_count() > 0\n",
    "print(cuda.get_device_name(cuda.current_device()))\n",
    "\n",
    "DEVICE = torch.device(\"cuda\")\n",
    "SEED = 42\n",
    "torch.manual_seed(SEED)\n",
    "\n",
    "save_folder = \"results_ResMLP-multilabel/assymetric_loss_ResMLP-multilabel_5cv_DRIAMS-ABCD\""
   ]
  },
  {
   "cell_type": "markdown",
   "id": "23b5a248-98cc-42cc-99b2-49bdd5ca1f35",
   "metadata": {},
   "source": [
    "### Load the Dataset"
   ]
  },
  {
   "cell_type": "code",
   "execution_count": 15,
   "id": "7a00707ac6b2975",
   "metadata": {},
   "outputs": [
    {
     "name": "stderr",
     "output_type": "stream",
     "text": [
      "/home/youngjunpark/Git/my_maldi/maldi2resistance/notebooks/multilabel_classification_assymetric-loss/../../maldi2resistance/data/ms_data.py:86: UserWarning: Metafile for Site (DRIAMS-B) and Year (2015) combination not found!\n",
      "  warnings.warn(\n",
      "/home/youngjunpark/Git/my_maldi/maldi2resistance/notebooks/multilabel_classification_assymetric-loss/../../maldi2resistance/data/ms_data.py:86: UserWarning: Metafile for Site (DRIAMS-B) and Year (2016) combination not found!\n",
      "  warnings.warn(\n",
      "/home/youngjunpark/Git/my_maldi/maldi2resistance/notebooks/multilabel_classification_assymetric-loss/../../maldi2resistance/data/ms_data.py:86: UserWarning: Metafile for Site (DRIAMS-B) and Year (2017) combination not found!\n",
      "  warnings.warn(\n",
      "/home/youngjunpark/Git/my_maldi/maldi2resistance/notebooks/multilabel_classification_assymetric-loss/../../maldi2resistance/data/ms_data.py:86: UserWarning: Metafile for Site (DRIAMS-C) and Year (2015) combination not found!\n",
      "  warnings.warn(\n",
      "/home/youngjunpark/Git/my_maldi/maldi2resistance/notebooks/multilabel_classification_assymetric-loss/../../maldi2resistance/data/ms_data.py:86: UserWarning: Metafile for Site (DRIAMS-C) and Year (2016) combination not found!\n",
      "  warnings.warn(\n",
      "/home/youngjunpark/Git/my_maldi/maldi2resistance/notebooks/multilabel_classification_assymetric-loss/../../maldi2resistance/data/ms_data.py:86: UserWarning: Metafile for Site (DRIAMS-C) and Year (2017) combination not found!\n",
      "  warnings.warn(\n",
      "/home/youngjunpark/Git/my_maldi/maldi2resistance/notebooks/multilabel_classification_assymetric-loss/../../maldi2resistance/data/ms_data.py:86: UserWarning: Metafile for Site (DRIAMS-D) and Year (2015) combination not found!\n",
      "  warnings.warn(\n",
      "/home/youngjunpark/Git/my_maldi/maldi2resistance/notebooks/multilabel_classification_assymetric-loss/../../maldi2resistance/data/ms_data.py:86: UserWarning: Metafile for Site (DRIAMS-D) and Year (2016) combination not found!\n",
      "  warnings.warn(\n",
      "/home/youngjunpark/Git/my_maldi/maldi2resistance/notebooks/multilabel_classification_assymetric-loss/../../maldi2resistance/data/ms_data.py:86: UserWarning: Metafile for Site (DRIAMS-D) and Year (2017) combination not found!\n",
      "  warnings.warn(\n"
     ]
    },
    {
     "data": {
      "application/vnd.jupyter.widget-view+json": {
       "model_id": "",
       "version_major": 2,
       "version_minor": 0
      },
      "text/plain": [
       "Loading Spectra into Memory:   0%|          | 0/55780 [00:00<?, ?it/s]"
      ]
     },
     "metadata": {},
     "output_type": "display_data"
    },
    {
     "data": {
      "text/html": [
       "\n",
       "        <table>\n",
       "            <thead>\n",
       "                <tr>\n",
       "                    <th>Antibiotic:</th>\n",
       "                    <th> Amikacin </th><th> Amoxicillin-Clavulanic acid </th><th> Ampicillin </th><th> Ampicillin-Amoxicillin </th><th> Aztreonam </th><th> Benzylpenicillin </th><th> Cefazolin </th><th> Cefepime </th><th> Cefpodoxime </th><th> Ceftazidime </th><th> Ceftriaxone </th><th> Cefuroxime </th><th> Ciprofloxacin </th><th> Clarithromycin </th><th> Clindamycin </th><th> Colistin </th><th> Cotrimoxazole </th><th> Ertapenem </th><th> Erythromycin </th><th> Fosfomycin </th><th> Fosfomycin-Trometamol </th><th> Fusidic acid </th><th> Gentamicin </th><th> Imipenem </th><th> Levofloxacin </th><th> Meropenem </th><th> Mupirocin </th><th> Nitrofurantoin </th><th> Norfloxacin </th><th> Oxacillin </th><th> Penicillin </th><th> Piperacillin-Tazobactam </th><th> Polymyxin B </th><th> Rifampicin </th><th> Teicoplanin </th><th> Tetracycline </th><th> Tobramycin </th><th> Vancomycin </th>\n",
       "                </tr>\n",
       "            </thead>\n",
       "            <tbody>\n",
       "                <tr>\n",
       "                    <td>Number resistant:</td>\n",
       "                    <td> 1068 </td><td> 13366 </td><td> 8578 </td><td> 21966 </td><td> 628 </td><td> 618 </td><td> 4223 </td><td> 7383 </td><td> 2338 </td><td> 3470 </td><td> 8659 </td><td> 5855 </td><td> 9338 </td><td> 310 </td><td> 4381 </td><td> 2874 </td><td> 7405 </td><td> 427 </td><td> 5468 </td><td> 2303 </td><td> 1326 </td><td> 3620 </td><td> 3481 </td><td> 7560 </td><td> 4217 </td><td> 5194 </td><td> 570 </td><td> 1271 </td><td> 1205 </td><td> 5537 </td><td> 12431 </td><td> 7616 </td><td> 486 </td><td> 580 </td><td> 244 </td><td> 3534 </td><td> 1707 </td><td> 227 </td>\n",
       "                </tr>\n",
       "                <tr>\n",
       "                    <td>Number susceptible:</td>\n",
       "                    <td> 20941 </td><td> 24992 </td><td> 4194 </td><td> 4905 </td><td> 456 </td><td> 457 </td><td> 5813 </td><td> 31567 </td><td> 4382 </td><td> 24566 </td><td> 28464 </td><td> 8368 </td><td> 36822 </td><td> 1262 </td><td> 9841 </td><td> 15784 </td><td> 24590 </td><td> 21740 </td><td> 9044 </td><td> 10184 </td><td> 4803 </td><td> 8498 </td><td> 22662 </td><td> 31717 </td><td> 17989 </td><td> 27228 </td><td> 4656 </td><td> 3603 </td><td> 7031 </td><td> 7740 </td><td> 4286 </td><td> 31308 </td><td> 2305 </td><td> 14964 </td><td> 8486 </td><td> 10376 </td><td> 16809 </td><td> 20540 </td>\n",
       "                </tr>\n",
       "                <tr>\n",
       "                    <td>Number data points:</td>\n",
       "                    <td> 22009 </td><td> 38358 </td><td> 12772 </td><td> 26871 </td><td> 1084 </td><td> 1075 </td><td> 10036 </td><td> 38950 </td><td> 6720 </td><td> 28036 </td><td> 37123 </td><td> 14223 </td><td> 46160 </td><td> 1572 </td><td> 14222 </td><td> 18658 </td><td> 31995 </td><td> 22167 </td><td> 14512 </td><td> 12487 </td><td> 6129 </td><td> 12118 </td><td> 26143 </td><td> 39277 </td><td> 22206 </td><td> 32422 </td><td> 5226 </td><td> 4874 </td><td> 8236 </td><td> 13277 </td><td> 16717 </td><td> 38924 </td><td> 2791 </td><td> 15544 </td><td> 8730 </td><td> 13910 </td><td> 18516 </td><td> 20767 </td>\n",
       "                </tr>\n",
       "            </tbody>\n",
       "        </table>\n",
       "                "
      ],
      "text/plain": [
       "<maldi2resistance.data.ms_data.MS_Data at 0x7889b5ea4350>"
      ]
     },
     "execution_count": 15,
     "metadata": {},
     "output_type": "execute_result"
    }
   ],
   "source": [
    "ms_data = MS_Data(\n",
    "    root_dir=\"/home/youngjunpark/Data/MS_data\",\n",
    "    #sites=[\"DRIAMS-A\"],\n",
    "    #years=[2015,2016,2017,2018],\n",
    "    bin_size=1,\n",
    ")\n",
    "ms_data.loading_type = \"memory\"\n",
    "ms_data"
   ]
  },
  {
   "cell_type": "code",
   "execution_count": 16,
   "id": "2076d3e6-93f3-45bb-b8f6-3a94173048ad",
   "metadata": {},
   "outputs": [
    {
     "data": {
      "text/plain": [
       "38"
      ]
     },
     "execution_count": 16,
     "metadata": {},
     "output_type": "execute_result"
    }
   ],
   "source": [
    "len(ms_data.label_stats.columns)"
   ]
  },
  {
   "cell_type": "code",
   "execution_count": 17,
   "id": "60665b7b-1494-4270-9a19-2bcca91dbb17",
   "metadata": {},
   "outputs": [],
   "source": [
    "model = MultilabelResMLP(input_dim= 18000, output_dim= len(ms_data.selected_antibiotics), hidden_dim=256)\n",
    "model = model.to(DEVICE)\n",
    "\n",
    "model_state = copy.deepcopy(model.state_dict()) "
   ]
  },
  {
   "cell_type": "code",
   "execution_count": 18,
   "id": "db166a21-bfa7-4865-8b54-f1f1cf239027",
   "metadata": {},
   "outputs": [
    {
     "name": "stdout",
     "output_type": "stream",
     "text": [
      "======================================================================\n",
      "Layer (type:depth-idx)                        Param #\n",
      "======================================================================\n",
      "MultilabelResMLP                              --\n",
      "├─Linear: 1-1                                 4,608,256\n",
      "├─ResMLP: 1-2                                 --\n",
      "│    └─Sequential: 2-1                        --\n",
      "│    │    └─ResBlock: 3-1                     66,304\n",
      "│    │    └─ResBlock: 3-2                     66,304\n",
      "│    │    └─ResBlock: 3-3                     66,304\n",
      "│    │    └─ResBlock: 3-4                     66,304\n",
      "│    │    └─ResBlock: 3-5                     66,304\n",
      "│    │    └─Linear: 3-6                       9,766\n",
      "======================================================================\n",
      "Total params: 4,949,542\n",
      "Trainable params: 4,949,542\n",
      "Non-trainable params: 0\n",
      "======================================================================\n"
     ]
    }
   ],
   "source": [
    "from torchinfo import summary\n",
    "\n",
    "print(summary(model))"
   ]
  },
  {
   "cell_type": "code",
   "execution_count": 19,
   "id": "f0748b0a-c6ba-4fea-a11c-3dd2f81dc5e3",
   "metadata": {},
   "outputs": [
    {
     "name": "stdout",
     "output_type": "stream",
     "text": [
      "Start training ...\n"
     ]
    },
    {
     "data": {
      "application/vnd.jupyter.widget-view+json": {
       "model_id": "ad7ac11ade7d4606b85be611ce0999a7",
       "version_major": 2,
       "version_minor": 0
      },
      "text/plain": [
       "  0%|          | 0/30 [00:00<?, ?it/s]"
      ]
     },
     "metadata": {},
     "output_type": "display_data"
    },
    {
     "name": "stdout",
     "output_type": "stream",
     "text": [
      "\tAverage Loss: 1.064477 \tLearning rate: 0.001000\n",
      "\tAverage Loss: 0.807175 \tLearning rate: 0.001000\n",
      "\tAverage Loss: 0.765778 \tLearning rate: 0.001000\n",
      "\tAverage Loss: 0.725346 \tLearning rate: 0.001000\n",
      "\tAverage Loss: 0.693184 \tLearning rate: 0.001000\n",
      "\tAverage Loss: 0.667477 \tLearning rate: 0.001000\n",
      "\tAverage Loss: 0.645144 \tLearning rate: 0.001000\n",
      "\tAverage Loss: 0.622297 \tLearning rate: 0.001000\n",
      "\tAverage Loss: 0.601262 \tLearning rate: 0.001000\n",
      "\tAverage Loss: 0.575184 \tLearning rate: 0.000500\n",
      "\tAverage Loss: 0.522150 \tLearning rate: 0.000500\n",
      "\tAverage Loss: 0.503210 \tLearning rate: 0.000500\n",
      "\tAverage Loss: 0.491922 \tLearning rate: 0.000500\n",
      "\tAverage Loss: 0.477062 \tLearning rate: 0.000500\n",
      "\tAverage Loss: 0.464822 \tLearning rate: 0.000500\n",
      "\tAverage Loss: 0.450823 \tLearning rate: 0.000500\n",
      "\tAverage Loss: 0.445680 \tLearning rate: 0.000500\n",
      "\tAverage Loss: 0.435135 \tLearning rate: 0.000500\n",
      "\tAverage Loss: 0.422208 \tLearning rate: 0.000500\n",
      "\tAverage Loss: 0.412306 \tLearning rate: 0.000250\n",
      "\tAverage Loss: 0.380409 \tLearning rate: 0.000250\n",
      "\tAverage Loss: 0.370763 \tLearning rate: 0.000250\n",
      "\tAverage Loss: 0.365041 \tLearning rate: 0.000250\n",
      "\tAverage Loss: 0.355014 \tLearning rate: 0.000250\n",
      "\tAverage Loss: 0.349895 \tLearning rate: 0.000250\n",
      "\tAverage Loss: 0.345585 \tLearning rate: 0.000250\n",
      "\tAverage Loss: 0.338441 \tLearning rate: 0.000250\n",
      "\tAverage Loss: 0.333817 \tLearning rate: 0.000250\n",
      "\tAverage Loss: 0.329204 \tLearning rate: 0.000250\n",
      "\tAverage Loss: 0.324252 \tLearning rate: 0.000125\n",
      "Finished Fold 0\n"
     ]
    },
    {
     "data": {
      "application/vnd.jupyter.widget-view+json": {
       "model_id": "a08fcb66fbc9476aaec31d88ce6310cd",
       "version_major": 2,
       "version_minor": 0
      },
      "text/plain": [
       "  0%|          | 0/30 [00:00<?, ?it/s]"
      ]
     },
     "metadata": {},
     "output_type": "display_data"
    },
    {
     "name": "stdout",
     "output_type": "stream",
     "text": [
      "\tAverage Loss: 1.066409 \tLearning rate: 0.001000\n",
      "\tAverage Loss: 0.804638 \tLearning rate: 0.001000\n",
      "\tAverage Loss: 0.756193 \tLearning rate: 0.001000\n",
      "\tAverage Loss: 0.722141 \tLearning rate: 0.001000\n",
      "\tAverage Loss: 0.692981 \tLearning rate: 0.001000\n",
      "\tAverage Loss: 0.659148 \tLearning rate: 0.001000\n",
      "\tAverage Loss: 0.639730 \tLearning rate: 0.001000\n",
      "\tAverage Loss: 0.615998 \tLearning rate: 0.001000\n",
      "\tAverage Loss: 0.592792 \tLearning rate: 0.001000\n",
      "\tAverage Loss: 0.573009 \tLearning rate: 0.000500\n",
      "\tAverage Loss: 0.515923 \tLearning rate: 0.000500\n",
      "\tAverage Loss: 0.495814 \tLearning rate: 0.000500\n",
      "\tAverage Loss: 0.479922 \tLearning rate: 0.000500\n",
      "\tAverage Loss: 0.467187 \tLearning rate: 0.000500\n",
      "\tAverage Loss: 0.454824 \tLearning rate: 0.000500\n",
      "\tAverage Loss: 0.442509 \tLearning rate: 0.000500\n",
      "\tAverage Loss: 0.428345 \tLearning rate: 0.000500\n",
      "\tAverage Loss: 0.418942 \tLearning rate: 0.000500\n",
      "\tAverage Loss: 0.410996 \tLearning rate: 0.000500\n",
      "\tAverage Loss: 0.408427 \tLearning rate: 0.000250\n",
      "\tAverage Loss: 0.366535 \tLearning rate: 0.000250\n",
      "\tAverage Loss: 0.357898 \tLearning rate: 0.000250\n",
      "\tAverage Loss: 0.348988 \tLearning rate: 0.000250\n",
      "\tAverage Loss: 0.345180 \tLearning rate: 0.000250\n",
      "\tAverage Loss: 0.338402 \tLearning rate: 0.000250\n",
      "\tAverage Loss: 0.336628 \tLearning rate: 0.000250\n",
      "\tAverage Loss: 0.328448 \tLearning rate: 0.000250\n",
      "\tAverage Loss: 0.320867 \tLearning rate: 0.000250\n",
      "\tAverage Loss: 0.315567 \tLearning rate: 0.000250\n",
      "\tAverage Loss: 0.310725 \tLearning rate: 0.000125\n",
      "Finished Fold 1\n"
     ]
    },
    {
     "data": {
      "application/vnd.jupyter.widget-view+json": {
       "model_id": "b957c347a7934a9eb1b0ebd14b5307c2",
       "version_major": 2,
       "version_minor": 0
      },
      "text/plain": [
       "  0%|          | 0/30 [00:00<?, ?it/s]"
      ]
     },
     "metadata": {},
     "output_type": "display_data"
    },
    {
     "name": "stdout",
     "output_type": "stream",
     "text": [
      "\tAverage Loss: 1.064455 \tLearning rate: 0.001000\n",
      "\tAverage Loss: 0.811657 \tLearning rate: 0.001000\n",
      "\tAverage Loss: 0.760288 \tLearning rate: 0.001000\n",
      "\tAverage Loss: 0.720791 \tLearning rate: 0.001000\n",
      "\tAverage Loss: 0.686975 \tLearning rate: 0.001000\n",
      "\tAverage Loss: 0.663214 \tLearning rate: 0.001000\n",
      "\tAverage Loss: 0.638107 \tLearning rate: 0.001000\n",
      "\tAverage Loss: 0.613518 \tLearning rate: 0.001000\n",
      "\tAverage Loss: 0.595168 \tLearning rate: 0.001000\n",
      "\tAverage Loss: 0.573737 \tLearning rate: 0.000500\n",
      "\tAverage Loss: 0.513218 \tLearning rate: 0.000500\n",
      "\tAverage Loss: 0.497736 \tLearning rate: 0.000500\n",
      "\tAverage Loss: 0.484675 \tLearning rate: 0.000500\n",
      "\tAverage Loss: 0.469383 \tLearning rate: 0.000500\n",
      "\tAverage Loss: 0.456914 \tLearning rate: 0.000500\n",
      "\tAverage Loss: 0.444045 \tLearning rate: 0.000500\n",
      "\tAverage Loss: 0.435231 \tLearning rate: 0.000500\n",
      "\tAverage Loss: 0.421657 \tLearning rate: 0.000500\n",
      "\tAverage Loss: 0.412053 \tLearning rate: 0.000500\n",
      "\tAverage Loss: 0.401912 \tLearning rate: 0.000250\n",
      "\tAverage Loss: 0.371501 \tLearning rate: 0.000250\n",
      "\tAverage Loss: 0.363258 \tLearning rate: 0.000250\n",
      "\tAverage Loss: 0.354347 \tLearning rate: 0.000250\n",
      "\tAverage Loss: 0.347620 \tLearning rate: 0.000250\n",
      "\tAverage Loss: 0.340763 \tLearning rate: 0.000250\n",
      "\tAverage Loss: 0.335764 \tLearning rate: 0.000250\n",
      "\tAverage Loss: 0.330100 \tLearning rate: 0.000250\n",
      "\tAverage Loss: 0.327529 \tLearning rate: 0.000250\n",
      "\tAverage Loss: 0.319068 \tLearning rate: 0.000250\n",
      "\tAverage Loss: 0.313429 \tLearning rate: 0.000125\n",
      "Finished Fold 2\n"
     ]
    },
    {
     "data": {
      "application/vnd.jupyter.widget-view+json": {
       "model_id": "8f0c839ab6a140e0bdd415e7be36d752",
       "version_major": 2,
       "version_minor": 0
      },
      "text/plain": [
       "  0%|          | 0/30 [00:00<?, ?it/s]"
      ]
     },
     "metadata": {},
     "output_type": "display_data"
    },
    {
     "name": "stdout",
     "output_type": "stream",
     "text": [
      "\tAverage Loss: 1.054797 \tLearning rate: 0.001000\n",
      "\tAverage Loss: 0.805970 \tLearning rate: 0.001000\n",
      "\tAverage Loss: 0.757969 \tLearning rate: 0.001000\n",
      "\tAverage Loss: 0.722591 \tLearning rate: 0.001000\n",
      "\tAverage Loss: 0.695748 \tLearning rate: 0.001000\n",
      "\tAverage Loss: 0.669738 \tLearning rate: 0.001000\n",
      "\tAverage Loss: 0.649645 \tLearning rate: 0.001000\n",
      "\tAverage Loss: 0.627665 \tLearning rate: 0.001000\n",
      "\tAverage Loss: 0.601393 \tLearning rate: 0.001000\n",
      "\tAverage Loss: 0.582563 \tLearning rate: 0.000500\n",
      "\tAverage Loss: 0.522204 \tLearning rate: 0.000500\n",
      "\tAverage Loss: 0.503983 \tLearning rate: 0.000500\n",
      "\tAverage Loss: 0.488661 \tLearning rate: 0.000500\n",
      "\tAverage Loss: 0.472055 \tLearning rate: 0.000500\n",
      "\tAverage Loss: 0.462211 \tLearning rate: 0.000500\n",
      "\tAverage Loss: 0.448155 \tLearning rate: 0.000500\n",
      "\tAverage Loss: 0.437263 \tLearning rate: 0.000500\n",
      "\tAverage Loss: 0.423703 \tLearning rate: 0.000500\n",
      "\tAverage Loss: 0.420721 \tLearning rate: 0.000500\n",
      "\tAverage Loss: 0.403763 \tLearning rate: 0.000250\n",
      "\tAverage Loss: 0.367230 \tLearning rate: 0.000250\n",
      "\tAverage Loss: 0.358455 \tLearning rate: 0.000250\n",
      "\tAverage Loss: 0.350125 \tLearning rate: 0.000250\n",
      "\tAverage Loss: 0.344840 \tLearning rate: 0.000250\n",
      "\tAverage Loss: 0.338458 \tLearning rate: 0.000250\n",
      "\tAverage Loss: 0.333461 \tLearning rate: 0.000250\n",
      "\tAverage Loss: 0.325106 \tLearning rate: 0.000250\n",
      "\tAverage Loss: 0.323035 \tLearning rate: 0.000250\n",
      "\tAverage Loss: 0.315940 \tLearning rate: 0.000250\n",
      "\tAverage Loss: 0.311681 \tLearning rate: 0.000125\n",
      "Finished Fold 3\n"
     ]
    },
    {
     "data": {
      "application/vnd.jupyter.widget-view+json": {
       "model_id": "5cd6685bc96847dfb35b2434718127ea",
       "version_major": 2,
       "version_minor": 0
      },
      "text/plain": [
       "  0%|          | 0/30 [00:00<?, ?it/s]"
      ]
     },
     "metadata": {},
     "output_type": "display_data"
    },
    {
     "name": "stdout",
     "output_type": "stream",
     "text": [
      "\tAverage Loss: 1.067515 \tLearning rate: 0.001000\n",
      "\tAverage Loss: 0.802435 \tLearning rate: 0.001000\n",
      "\tAverage Loss: 0.756631 \tLearning rate: 0.001000\n",
      "\tAverage Loss: 0.718792 \tLearning rate: 0.001000\n",
      "\tAverage Loss: 0.691911 \tLearning rate: 0.001000\n",
      "\tAverage Loss: 0.662396 \tLearning rate: 0.001000\n",
      "\tAverage Loss: 0.640493 \tLearning rate: 0.001000\n",
      "\tAverage Loss: 0.617187 \tLearning rate: 0.001000\n",
      "\tAverage Loss: 0.599806 \tLearning rate: 0.001000\n",
      "\tAverage Loss: 0.578983 \tLearning rate: 0.000500\n",
      "\tAverage Loss: 0.518782 \tLearning rate: 0.000500\n",
      "\tAverage Loss: 0.500323 \tLearning rate: 0.000500\n",
      "\tAverage Loss: 0.486121 \tLearning rate: 0.000500\n",
      "\tAverage Loss: 0.470882 \tLearning rate: 0.000500\n",
      "\tAverage Loss: 0.459951 \tLearning rate: 0.000500\n",
      "\tAverage Loss: 0.445953 \tLearning rate: 0.000500\n",
      "\tAverage Loss: 0.435010 \tLearning rate: 0.000500\n",
      "\tAverage Loss: 0.424728 \tLearning rate: 0.000500\n",
      "\tAverage Loss: 0.416488 \tLearning rate: 0.000500\n",
      "\tAverage Loss: 0.404256 \tLearning rate: 0.000250\n",
      "\tAverage Loss: 0.368755 \tLearning rate: 0.000250\n",
      "\tAverage Loss: 0.358290 \tLearning rate: 0.000250\n",
      "\tAverage Loss: 0.353174 \tLearning rate: 0.000250\n",
      "\tAverage Loss: 0.345530 \tLearning rate: 0.000250\n",
      "\tAverage Loss: 0.343333 \tLearning rate: 0.000250\n",
      "\tAverage Loss: 0.335010 \tLearning rate: 0.000250\n",
      "\tAverage Loss: 0.329332 \tLearning rate: 0.000250\n",
      "\tAverage Loss: 0.323918 \tLearning rate: 0.000250\n",
      "\tAverage Loss: 0.319135 \tLearning rate: 0.000250\n",
      "\tAverage Loss: 0.316232 \tLearning rate: 0.000125\n",
      "Finished Fold 4\n"
     ]
    }
   ],
   "source": [
    "from torch.utils.data import DataLoader\n",
    "from maldi2resistance.loss.asymmetricLoss import AsymmetricLoss\n",
    "from maldi2resistance.metric.PrecisionRecall import MultiLabelPRNan\n",
    "from pathlib import Path\n",
    "from maldi2resistance.metric.ROC import MultiLabelRocNan\n",
    "from maldi2resistance.loss.maskedLoss import MaskedBCE\n",
    "from tqdm.auto import tqdm\n",
    "import matplotlib.pyplot as plt\n",
    "\n",
    "from torch.optim import Adam\n",
    "from torch.optim.lr_scheduler import StepLR\n",
    "\n",
    "print(\"Start training ...\")\n",
    "\n",
    "model.train()\n",
    "\n",
    "batch_size = 64\n",
    "fig_path = Path(f\"./{save_folder}/figures\")\n",
    "fig_path.mkdir(parents=True, exist_ok=True)\n",
    "csv_path = Path(f\"./{save_folder}/csv\")\n",
    "csv_path.mkdir(parents=True, exist_ok=True)\n",
    "\n",
    "loss_per_batch = []\n",
    "\n",
    "class_weights_negative = torch.tensor((1 - (ms_data.label_stats.loc[\"negative\"] / ms_data.label_stats.loc[\"n_sum\"])).values, device=DEVICE)\n",
    "class_weights_positive = torch.tensor((1 - (ms_data.label_stats.loc[\"positive\"] / ms_data.label_stats.loc[\"n_sum\"])).values, device=DEVICE)\n",
    "\n",
    "criterion = AsymmetricLoss()\n",
    "\n",
    "gen = torch.Generator()\n",
    "\n",
    "for fold, (train_data, test_data) in enumerate(ms_data.getK_fold(n_splits=5, shuffle=True, random_state= SEED)):\n",
    "    \n",
    "    train_loader = DataLoader(train_data, batch_size=batch_size, shuffle=True, drop_last=True, generator= gen.manual_seed(SEED))\n",
    "    test_loader = DataLoader(test_data, batch_size=len(test_data), shuffle=True, drop_last=True, generator= gen.manual_seed(SEED))\n",
    "    \n",
    "    model.load_state_dict(model_state)\n",
    "    model.train()\n",
    "    \n",
    "    optimizer = Adam(model.parameters(), lr=1e-3, amsgrad = True)\n",
    "    scheduler = StepLR(optimizer, step_size=10, gamma=0.5)\n",
    "\n",
    "    for epoch in tqdm(range(30)):\n",
    "        overall_loss = 0\n",
    "        \n",
    "        for batch_idx, (x, y) in enumerate(train_loader):\n",
    "    \n",
    "            x = x.to(DEVICE)\n",
    "            y = y.to(DEVICE)\n",
    "            \n",
    "            optimizer.zero_grad()\n",
    "    \n",
    "            output = model(x)\n",
    "        \n",
    "            loss = criterion(output, y)\n",
    "            current_loss_value = loss.item()\n",
    "            loss_per_batch.append(current_loss_value)\n",
    "            \n",
    "            overall_loss += current_loss_value\n",
    "            \n",
    "            loss.backward()\n",
    "            optimizer.step()\n",
    "    \n",
    "        scheduler.step()\n",
    "        with tqdm.external_write_mode():\n",
    "            print(f\"\\tAverage Loss: {overall_loss / (batch_idx*batch_size):.6f} \\tLearning rate: {scheduler.get_last_lr()[0]:.6f}\")\n",
    "    \n",
    "    \n",
    "    print(f\"Finished Fold {fold}\")\n",
    "    \n",
    "    model.eval()\n",
    "    \n",
    "    DEVICE = torch.device(\"cpu\")\n",
    "    test_features, test_labels = next(iter(test_loader))\n",
    "    test_features = test_features.to(DEVICE)\n",
    "    test_labels = test_labels.to(DEVICE)\n",
    "    model = model.to(DEVICE)\n",
    "    \n",
    "    ml_roc = MultiLabelRocNan()\n",
    "    output = model(test_features)\n",
    "    \n",
    "    \n",
    "    ml_roc.compute(output,test_labels,ms_data.selected_antibiotics, create_csv=f\"./{csv_path}/fold-{fold}_ROC.csv\")\n",
    "    fig_, ax_ = ml_roc()\n",
    "    \n",
    "    plt.savefig(fig_path / f\"fold-{fold}_ROC.png\", transparent=True, format= \"png\", bbox_inches = \"tight\")\n",
    "    plt.close()\n",
    "    \n",
    "    ml_pr = MultiLabelPRNan()\n",
    "    ml_pr.compute(output,test_labels,ms_data.selected_antibiotics, create_csv=f\"./{csv_path}/fold-{fold}_PrecisionRecall.csv\")\n",
    "    \n",
    "    fig_, ax_ = ml_pr()\n",
    "    \n",
    "    plt.savefig(fig_path / f\"fold-{fold}_PrecisionRecall.png\", transparent=True, format= \"png\", bbox_inches = \"tight\")\n",
    "    plt.close()\n",
    "    \n",
    "    DEVICE = torch.device(\"cuda\")\n",
    "    model = model.to(DEVICE)"
   ]
  },
  {
   "cell_type": "code",
   "execution_count": 22,
   "id": "b1367d7b-405a-4dec-99d9-9c0706831275",
   "metadata": {},
   "outputs": [
    {
     "name": "stdout",
     "output_type": "stream",
     "text": [
      "micro-Mean\t: 0.9269583940505981\n",
      "micro-SD \t: 0.002265571656398741\n",
      "macro-Mean\t: 0.8971553805627321\n",
      "macro-SD \t: 0.0025078155352352086\n"
     ]
    }
   ],
   "source": [
    "micro = []\n",
    "macro = []\n",
    "\n",
    "for fold in range(0,5):\n",
    "    csv = pd.read_csv(f\"./{csv_path}/fold-{fold}_ROC.csv\")\n",
    "    micro.append(csv[csv[\"class\"] == \"micro\"][\"ROCAUC\"])\n",
    "    macro.append(csv[csv[\"class\"] == \"macro\"][\"ROCAUC\"])\n",
    "\n",
    "print(f\"micro-Mean\\t: {np.mean(micro)}\")\n",
    "print(f\"micro-SD \\t: {np.std(micro) }\")\n",
    "print(f\"macro-Mean\\t: {np.mean(macro)}\")\n",
    "print(f\"macro-SD \\t: {np.std(macro) }\")"
   ]
  },
  {
   "cell_type": "code",
   "execution_count": 23,
   "id": "17c792e7-d400-46b8-b715-087865fba603",
   "metadata": {},
   "outputs": [
    {
     "name": "stdout",
     "output_type": "stream",
     "text": [
      "Mean\t: 0.8549234509468079\n",
      " SD \t: 0.003929648149179095\n",
      "Mean\t: 0.7637221794379385\n",
      " SD \t: 0.00431929700551127\n"
     ]
    }
   ],
   "source": [
    "micro = []\n",
    "macro = []\n",
    "\n",
    "for fold in range(0,5):\n",
    "    csv = pd.read_csv(f\"./{csv_path}/fold-{fold}_PrecisionRecall.csv\")\n",
    "    micro.append(csv[csv[\"class\"] == \"micro\"][\"PrecisionRecallAUC\"])\n",
    "    macro.append(csv[csv[\"class\"] == \"macro\"][\"PrecisionRecallAUC\"])\n",
    "\n",
    "print(f\"Mean\\t: {np.mean(micro)}\")\n",
    "print(f\" SD \\t: {np.std(micro) }\")\n",
    "print(f\"Mean\\t: {np.mean(macro)}\")\n",
    "print(f\" SD \\t: {np.std(macro) }\")"
   ]
  },
  {
   "cell_type": "code",
   "execution_count": null,
   "id": "5bb65639-979c-4071-94cb-13cd99da3fe2",
   "metadata": {},
   "outputs": [],
   "source": []
  }
 ],
 "metadata": {
  "kernelspec": {
   "display_name": "Python 3 (ipykernel)",
   "language": "python",
   "name": "python3"
  },
  "language_info": {
   "codemirror_mode": {
    "name": "ipython",
    "version": 3
   },
   "file_extension": ".py",
   "mimetype": "text/x-python",
   "name": "python",
   "nbconvert_exporter": "python",
   "pygments_lexer": "ipython3",
   "version": "3.11.8"
  },
  "widgets": {
   "application/vnd.jupyter.widget-state+json": {
    "state": {},
    "version_major": 2,
    "version_minor": 0
   }
  }
 },
 "nbformat": 4,
 "nbformat_minor": 5
}
